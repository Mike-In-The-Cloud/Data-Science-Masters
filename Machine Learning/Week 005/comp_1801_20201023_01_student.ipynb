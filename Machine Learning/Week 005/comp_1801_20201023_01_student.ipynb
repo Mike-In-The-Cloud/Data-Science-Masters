{
 "cells": [
  {
   "cell_type": "markdown",
   "metadata": {
    "id": "EjT_s9uVn-NS"
   },
   "source": [
    "# Overfitting and regularization\n",
    "- COMP 1801 IT lab: 23 Oct 2020\n",
    "$\\newcommand{\\Vec}[1]{\\boldsymbol{#1}}$\n",
    "$\\newcommand{\\Mat}[1]{\\boldsymbol{#1}}$\n",
    "## Aim\n",
    "- Learn how we can avoid overfitting by regularization \n",
    "## Note: to execute a cell, press SHIFT + ENTER"
   ]
  },
  {
   "cell_type": "markdown",
   "metadata": {
    "id": "Na1S4jagpCxS"
   },
   "source": [
    "## Import libraries\n",
    "- Numpy: for vectors, matrices\n",
    "- Tensorflow: for automatic differentiation"
   ]
  },
  {
   "cell_type": "code",
   "execution_count": 1,
   "metadata": {
    "id": "-RdAt6FxjGqL"
   },
   "outputs": [],
   "source": [
    "import numpy as np # import numpy and set \"np\" as the alias of the numpy\n",
    "import tensorflow as tf # import tensorflow and set \"tf\" as the alias of the tensorflow"
   ]
  },
  {
   "cell_type": "markdown",
   "metadata": {
    "id": "SfX6E4xJp4Pu"
   },
   "source": [
    "## Variable and constant\n",
    "### Defining a \"variable\" (a variable with respect to which we will calculate the derivative.)\n",
    "- $\\texttt{tf.Variable(value, dtype=np.float32)}$\n",
    "  - $\\texttt{value}$ can be a python list, numpy array, or tensorflow Tensor, and will be regarded as the initial value.\n",
    "\n",
    "### Defining a \"constant\" (a variable for which we do not need to calculate the derivative)\n",
    "- $\\texttt{tf.constant(value, dtype=np.float32)}$\n",
    "  - $\\texttt{value}$ is the value of the \"constant Tensor\"\n",
    "  - Strictly speaking, the \"Tensor\" defined by this is immutable, so not \"constant.\"\n",
    "\n",
    "### Mathematical functions\n",
    "- Operators are similar to those in Numpy\n",
    "  - $\\texttt{+, -, *, /}$: elementwise addition, subtraction, multiplication, division\n",
    "  - $\\texttt{@}$: matrix product\n",
    "- Most mathmatical function can be given by replacing np of a Numpy function by tf.math\n",
    "  - $\\texttt{np.sin(x), np.cos(x), np.exp(x)} \\to \\texttt{tf.math.sin(x), tf.math.cos(x), tf.math.exp(x)}$"
   ]
  },
  {
   "cell_type": "markdown",
   "metadata": {
    "id": "4KUhg85qqq3Q"
   },
   "source": [
    "## Automatic differentiation\n",
    "- Define the Variables (e.g. $\\texttt{th}$) and constants\n",
    "- Define return value (e.g. $\\texttt{j}$) in $\\texttt{tf.GradientTape() as tape:} block$\n",
    "- Get the gradient by $\\texttt{tape.gradient()}$ (e.g. $\\texttt{tape.gradient(j, th)}$)"
   ]
  },
  {
   "cell_type": "markdown",
   "metadata": {
    "id": "YNqruxtqrpJD"
   },
   "source": [
    "## Load the data for linear regression"
   ]
  },
  {
   "cell_type": "code",
   "execution_count": 2,
   "metadata": {
    "id": "uopHWihGjq6U"
   },
   "outputs": [],
   "source": [
    "from sklearn.datasets import load_boston, load_breast_cancer, fetch_california_housing\n",
    "dataset = fetch_california_housing()\n",
    "# print(dataset.DESCR)\n",
    "# print(dataset.feature_names)\n",
    "raw_X_all = dataset.data # get feature data\n",
    "y = dataset.target # get target data as a size-m 1-d array\n",
    "np_Y_all = y[:, np.newaxis] # convert the target data to a m x 1 2-d array"
   ]
  },
  {
   "cell_type": "markdown",
   "metadata": {
    "id": "WVu2-1xrwbEr"
   },
   "source": [
    "## Data splitting"
   ]
  },
  {
   "cell_type": "code",
   "execution_count": 3,
   "metadata": {
    "id": "ZdiLWtlQRQJJ"
   },
   "outputs": [],
   "source": [
    "n_trains = 60\n",
    "n_vals = 10\n",
    "n_tests = 10\n",
    "raw_X_train = raw_X_all[:n_trains]\n",
    "raw_X_val = raw_X_all[n_trains:n_trains+n_vals]\n",
    "raw_X_test = raw_X_all[n_trains+n_vals:n_trains+n_vals+n_tests]\n",
    "np_Y_train = np_Y_all[:n_trains]\n",
    "np_Y_val = np_Y_all[n_trains:n_trains+n_vals]\n",
    "np_Y_test = np_Y_all[n_trains+n_vals:n_trains+n_vals+n_tests]\n",
    "n = raw_X_all.shape[1]"
   ]
  },
  {
   "cell_type": "markdown",
   "metadata": {
    "id": "vSgWcdWxweue"
   },
   "source": [
    "## Data preprocessing"
   ]
  },
  {
   "cell_type": "code",
   "execution_count": 4,
   "metadata": {
    "id": "NXCcxgkTb-El"
   },
   "outputs": [],
   "source": [
    "def standardise(raw_X, mu=None, sigma=None):\n",
    "  if mu is None:\n",
    "    mu = np.mean(raw_X, axis=0, keepdims=True)\n",
    "  if sigma is None:\n",
    "    sigma = np.std(raw_X, axis=0, keepdims=True)\n",
    "  X_standardised = (raw_X - mu) / sigma  # Broadcasting is used here\n",
    "  return X_standardised, mu, sigma\n",
    "\n",
    "def append_one_to(X_without_one):\n",
    "  X_with_one = np.pad(X_without_one, ((0, 0), (1, 0)), constant_values=1)\n",
    "  return X_with_one\n",
    "\n",
    "np_X_train_wo_one, mean_train, std_train = standardise(raw_X_train)\n",
    "np_X_val_wo_one, _, _ = standardise(raw_X_val, mean_train, std_train)\n",
    "np_X_test_wo_one, _, _ = standardise(raw_X_test, mean_train, std_train)\n",
    "np_X_train = append_one_to(np_X_train_wo_one)\n",
    "np_X_val = append_one_to(np_X_val_wo_one)\n",
    "np_X_test = append_one_to(np_X_test_wo_one)\n"
   ]
  },
  {
   "cell_type": "markdown",
   "metadata": {
    "id": "eMgL86dRqEoJ"
   },
   "source": [
    "## Mean squared error with regularization\n",
    "$$J(\\Vec{\\theta}; \\Mat{X}, \\Vec{y}) = \\frac{1}{2} \\times \\left[ \\frac{1}{m} \\sum_{i=0}^{m-1} ([\\Mat{X}]_{i, *} \\Vec{\\theta} - [\\Vec{y}]_{i})^2 + \\frac{\\lambda}{m} \\sum_{j=1}^{n} (\\theta_{j})^{2} \\right] = \\frac{1}{2 m}\\left[(\\Mat{X} \\Vec{\\theta} - \\Vec{y})^\\top (\\Mat{X} \\Vec{\\theta} - \\Vec{y}) + \\lambda \\Vec{\\theta}_{1:}^\\top \\Vec{\\theta}_{1:} \\right]$$\n",
    "\n",
    "Let's implement the mean squared error in the following cell!\n"
   ]
  },
  {
   "cell_type": "code",
   "execution_count": 5,
   "metadata": {
    "id": "QtBEMdGJoMcc"
   },
   "outputs": [],
   "source": [
    "def j_func(th, X, Y, lamb):\n",
    "  m, n = X.shape\n",
    "  prediction = X @ th\n",
    "  j = (1/(2 * m)) * ((tf.transpose(prediction - Y) @ (prediction - Y)) + lamb * (tf.transpose(th[1:, :]) @ th[1:, :]))\n",
    "  j = tf.squeeze(j)\n",
    "  return j\n"
   ]
  },
  {
   "cell_type": "markdown",
   "metadata": {
    "id": "_o70sHsor7Iu"
   },
   "source": [
    "## Definition of a function for training using tensorflow"
   ]
  },
  {
   "cell_type": "code",
   "execution_count": 6,
   "metadata": {
    "id": "dBot5QsOqar6"
   },
   "outputs": [],
   "source": [
    "X_train = tf.constant(np_X_train, dtype=np.float32)\n",
    "Y_train = tf.constant(np_Y_train, dtype=np.float32)\n",
    "X_val = tf.constant(np_X_val, dtype=np.float32)\n",
    "Y_val = tf.constant(np_Y_val, dtype=np.float32)\n",
    "X_test = tf.constant(np_X_test, dtype=np.float32)\n",
    "Y_test = tf.constant(np_Y_test, dtype=np.float32)\n",
    "\n",
    "learning_rate = 0.01\n",
    "momentum = 0.1\n",
    "optimizer = tf.optimizers.SGD(learning_rate, momentum=momentum)\n",
    "n_steps = 2000\n",
    "display_interval = 500\n",
    "\n",
    "def train(lamb):\n",
    "  print('regularisation parameter lambda =', lamb)\n",
    "  th = tf.Variable(tf.random.normal([n+1, 1], dtype=np.float32))\n",
    "  for i_step in range(n_steps): \n",
    "    with tf.GradientTape() as tape:\n",
    "      j = j_func(th, X_train, Y_train, lamb)\n",
    "\n",
    "    dj_dth = tape.gradient(j, th)\n",
    "\n",
    "    optimizer.apply_gradients(zip([dj_dth], [th])) # update using gradient\n",
    "\n",
    "    if i_step % display_interval == 0:\n",
    "      print('j', j.numpy())\n",
    "      # print('th', th.numpy())\n",
    "      # print('dj/dth', dj_dth.numpy())\n",
    "\n",
    "  tf_mse_train = j_func(th, X_train, Y_train, 0.0) # set lamb=0.0, because we evaluate the loss\n",
    "  mse_train = tf_mse_train.numpy()\n",
    "  print('mse on training data', mse_train)\n",
    "\n",
    "  tf_mse_val = j_func(th, X_val, Y_val, 0.0) # set lamb=0.0, because we evaluate the loss\n",
    "  mse_val = tf_mse_val.numpy()\n",
    "  print('mse on validation data', mse_val)\n",
    "\n",
    "  tf_mse_test = j_func(th, X_test, Y_test, 0.0) # set lamb=0.0, because we evaluate the loss\n",
    "  mse_test = tf_mse_test.numpy()\n",
    "  return mse_train, mse_val, mse_test\n"
   ]
  },
  {
   "cell_type": "markdown",
   "metadata": {
    "id": "sTuyZmSasK9H"
   },
   "source": [
    "## Set regularization parameters and training (You can modify the code here)"
   ]
  },
  {
   "cell_type": "code",
   "execution_count": 7,
   "metadata": {
    "id": "K7aHAb1vo5Rj",
    "scrolled": true
   },
   "outputs": [
    {
     "name": "stdout",
     "output_type": "stream",
     "text": [
      "regularisation parameter lambda = 500.0\n",
      "j 47.465244\n",
      "j 0.2680454\n",
      "j 0.26799703\n",
      "j 0.26799703\n",
      "mse on training data 0.21589416\n",
      "mse on validation data 0.15906085\n",
      "regularisation parameter lambda = 250.0\n",
      "j 23.72811\n",
      "j 0.2262264\n",
      "j 0.22621839\n",
      "j 0.22621843\n",
      "mse on training data 0.15913972\n",
      "mse on validation data 0.09173491\n",
      "regularisation parameter lambda = 100.0\n",
      "j 17.717587\n",
      "j 0.16259801\n",
      "j 0.1625852\n",
      "j 0.1625852\n",
      "mse on training data 0.09512306\n",
      "mse on validation data 0.05239768\n",
      "regularisation parameter lambda = 10.0\n",
      "j 11.273794\n",
      "j 0.067421824\n",
      "j 0.064180836\n",
      "j 0.06396924\n",
      "mse on training data 0.044956278\n",
      "mse on validation data 0.1558385\n",
      "regularisation parameter lambda = 0.1\n",
      "j 11.961056\n",
      "j 0.05774883\n",
      "j 0.048213676\n",
      "j 0.04507931\n",
      "mse on training data 0.043483663\n",
      "mse on validation data 0.25678322\n",
      "regularisation parameter lambda = 0.01\n",
      "j 4.8197117\n",
      "j 0.054048017\n",
      "j 0.04726365\n",
      "j 0.044595167\n",
      "mse on training data 0.043400966\n",
      "mse on validation data 0.22740638\n",
      "Training time: 16.8601 seconds\n"
     ]
    }
   ],
   "source": [
    "# Change regularization parameter list\n",
    "# Edit the code: start\n",
    "import time\n",
    "tic = time.perf_counter()\n",
    "regularization_parameter_list = [500.0, 250.0, 100.0, 10.0, 0.1, 0.01]\n",
    "# Edit the code: end\n",
    "results = np.array([train(lamb) for lamb in regularization_parameter_list]).T\n",
    "toc = time.perf_counter()\n",
    "print(f\"Training time: {toc - tic:0.4f} seconds\")"
   ]
  },
  {
   "cell_type": "markdown",
   "metadata": {
    "id": "S0v2gWFTuFO6"
   },
   "source": [
    "## Plot the training error and validation error"
   ]
  },
  {
   "cell_type": "code",
   "execution_count": 8,
   "metadata": {
    "id": "8C0aQ6TAl2Nw"
   },
   "outputs": [
    {
     "data": {
      "text/plain": [
       "<matplotlib.legend.Legend at 0x7ffa0845af50>"
      ]
     },
     "execution_count": 8,
     "metadata": {},
     "output_type": "execute_result"
    },
    {
     "data": {
      "image/png": "[encoded data removed]",
      "text/plain": [
       "<Figure size 432x288 with 1 Axes>"
      ]
     },
     "metadata": {
      "needs_background": "light"
     },
     "output_type": "display_data"
    }
   ],
   "source": [
    "%matplotlib inline\n",
    "import matplotlib.pyplot as plt\n",
    "fig = plt.figure()\n",
    "plt.xscale('log')\n",
    "plt.plot(regularization_parameter_list, results[0], '-', label = 'MSE on training examples')\n",
    "plt.plot(regularization_parameter_list, results[1], '--', label = 'MSE on validation examples');\n",
    "plt.legend()"
   ]
  },
  {
   "cell_type": "markdown",
   "metadata": {
    "id": "sAX27sFVuWgn"
   },
   "source": [
    "## Test the performance on the test examples"
   ]
  },
  {
   "cell_type": "code",
   "execution_count": 9,
   "metadata": {
    "id": "m6wsc6YbmbN-"
   },
   "outputs": [
    {
     "name": "stdout",
     "output_type": "stream",
     "text": [
      "best lambda = 100.0 \n",
      " test mse = 0.04447801\n"
     ]
    }
   ],
   "source": [
    "best_lambda_index = np.argmin(results[1])\n",
    "best_lambda = regularization_parameter_list[best_lambda_index]\n",
    "mse_test_by_best_lambda = results[2][best_lambda_index]\n",
    "print('best lambda =', best_lambda, '\\n', 'test mse =', mse_test_by_best_lambda)"
   ]
  },
  {
   "cell_type": "markdown",
   "metadata": {
    "id": "WwSzjWRGugMd"
   },
   "source": [
    "# Submission"
   ]
  },
  {
   "cell_type": "code",
   "execution_count": 10,
   "metadata": {
    "id": "8-mhJq7ppjYL",
    "scrolled": true
   },
   "outputs": [
    {
     "name": "stdout",
     "output_type": "stream",
     "text": [
      "Requirement already satisfied: pycryptodome in /home/michael/anaconda3/envs/comp1801/lib/python3.7/site-packages (3.9.8)\r\n"
     ]
    },
    {
     "ename": "ModuleNotFoundError",
     "evalue": "No module named 'bs4'",
     "output_type": "error",
     "traceback": [
      "\u001b[0;31m---------------------------------------------------------------------------\u001b[0m",
      "\u001b[0;31mModuleNotFoundError\u001b[0m                       Traceback (most recent call last)",
      "\u001b[0;32m<ipython-input-10-546b23188dd8>\u001b[0m in \u001b[0;36m<module>\u001b[0;34m\u001b[0m\n\u001b[1;32m     12\u001b[0m \u001b[0mget_ipython\u001b[0m\u001b[0;34m(\u001b[0m\u001b[0;34m)\u001b[0m\u001b[0;34m.\u001b[0m\u001b[0msystem\u001b[0m\u001b[0;34m(\u001b[0m\u001b[0;34m'pip install pycryptodome'\u001b[0m\u001b[0;34m)\u001b[0m\u001b[0;34m\u001b[0m\u001b[0;34m\u001b[0m\u001b[0m\n\u001b[1;32m     13\u001b[0m \u001b[0;32mimport\u001b[0m \u001b[0murllib\u001b[0m\u001b[0;34m.\u001b[0m\u001b[0mrequest\u001b[0m\u001b[0;34m\u001b[0m\u001b[0;34m\u001b[0m\u001b[0m\n\u001b[0;32m---> 14\u001b[0;31m \u001b[0;32mfrom\u001b[0m \u001b[0mbs4\u001b[0m \u001b[0;32mimport\u001b[0m \u001b[0mBeautifulSoup\u001b[0m\u001b[0;34m\u001b[0m\u001b[0;34m\u001b[0m\u001b[0m\n\u001b[0m\u001b[1;32m     15\u001b[0m \u001b[0;32mimport\u001b[0m \u001b[0mrequests\u001b[0m\u001b[0;34m,\u001b[0m \u001b[0mwarnings\u001b[0m\u001b[0;34m\u001b[0m\u001b[0;34m\u001b[0m\u001b[0m\n\u001b[1;32m     16\u001b[0m \u001b[0;32mimport\u001b[0m \u001b[0mjson\u001b[0m\u001b[0;34m\u001b[0m\u001b[0;34m\u001b[0m\u001b[0m\n",
      "\u001b[0;31mModuleNotFoundError\u001b[0m: No module named 'bs4'"
     ]
    }
   ],
   "source": [
    "# --- Edit the following information ---\n",
    "your_email_address = 'mb5878n@gre.ac.uk'\n",
    "your_student_id = '001002629'\n",
    "your_first_name = 'Michael'\n",
    "your_last_name = 'Briggs'\n",
    "# --- Edit the above information ---\n",
    "\n",
    "# After filling the above information, execute this cell by pressing Shift + Enter\n",
    "\n",
    "# --- Don't touch the below ---\n",
    "# Execute after filling the above descriptions by pressing Shift + Enter\n",
    "!pip install pycryptodome\n",
    "import urllib.request\n",
    "from bs4 import BeautifulSoup\n",
    "import requests, warnings\n",
    "import json\n",
    "from Crypto.PublicKey import RSA\n",
    "from Crypto.Cipher import PKCS1_OAEP\n",
    "\n",
    "submission_id = 'comp-1801_20201023-01'\n",
    "student_information = dict(email=your_email_address, id=your_student_id, first_name=your_first_name, last_name=your_last_name)\n",
    "answer = dict(best_lambda=str(best_lambda), best_mse=str(results[2][best_lambda_index]))\n",
    "submission_dict = dict(submission_id=submission_id, student_information=student_information, answer=answer)\n",
    "submission_json = json.dumps(submission_dict)\n",
    "\n",
    "def get_questions(in_url):\n",
    "    res = urllib.request.urlopen(in_url)\n",
    "    soup = BeautifulSoup(res.read(), 'html.parser')\n",
    "    get_names = lambda f: [v for k,v in f.attrs.items() if 'label' in k]\n",
    "    get_name = lambda f: get_names(f)[0] if len(get_names(f))>0 else 'unknown'\n",
    "    all_questions = soup.form.findChildren(attrs={'name': lambda x: x and x.startswith('entry.')})\n",
    "    return {get_name(q): q['name'] for q in all_questions}\n",
    "\n",
    "def submit_response(form_url, cur_questions, verbose=False, **answers):\n",
    "    submit_url = form_url.replace('/viewform', '/formResponse')\n",
    "    form_data = {'draftResponse':[],\n",
    "                'pageHistory':0}\n",
    "    for v in cur_questions.values():\n",
    "        form_data[v] = ''\n",
    "    for k, v in answers.items():\n",
    "        if k in cur_questions:\n",
    "            form_data[cur_questions[k]] = v\n",
    "        else:\n",
    "            warnings.warn('Unknown Question: {}'.format(k), RuntimeWarning)\n",
    "    if verbose:\n",
    "        print(form_data)\n",
    "    user_agent = {'Referer':form_url,\n",
    "                  'User-Agent': \"Mozilla/5.0 (X11; Linux i686) AppleWebKit/537.36 (KHTML, like Gecko) Chrome/28.0.1500.52 Safari/537.36\"}\n",
    "    return requests.post(submit_url, data=form_data, headers=user_agent)\n",
    "\n",
    "\n",
    "FORM_URL = \"https://docs.google.com/forms/d/e/1FAIpQLScNs3Cf6DnNCBCUyPGfp22mI3FYVBfTNbGi0TxZ0_SKo9fgCw/viewform\"\n",
    "anno_questions = get_questions(FORM_URL)\n",
    "public_key_utf = '''-----BEGIN PUBLIC KEY-----\n",
    "MIIBIjANBgkqhkiG9w0BAQEFAAOCAQ8AMIIBCgKCAQEAp/lFj1VO6DQ+Ot27oamm\n",
    "KImRJiXz7IlhdlfkAmytONDQAtvgp9/AqfHyIA0+YnaTDGditMK4t1u6s2YvYlW8\n",
    "5tKbAkbziDAOyaxkepwEw47ldco3hh8p+N42nymWZJp7GKwaHUJ/k1S5sTzFso9o\n",
    "8/szKGlHUq3lpQdQeWScAirCvCewqJFrJWiLymoS0IbeeCzxCJxqmLwx4kXjCTeU\n",
    "c9yUqCi+dZ41Cebd8z5y4Ekf58JP+jh/B0VPHV5cR2D/S3zrhWjPnSU4nCKef5pE\n",
    "b863LlyJ1/sKheanBTq7+9rxMf2rNrsH8Nea4UW2gwtPgOogWFdiWgKYl7B1ks7E\n",
    "OQIDAQAB\n",
    "-----END PUBLIC KEY-----'''\n",
    "\n",
    "split_n = lambda text, n: [ text[i*n:i*n+n] for i in range(len(text)//n) ]\n",
    "def split_n(string, length):\n",
    "    return (string[0+i:length+i] for i in range(0, len(string), length))\n",
    "answer_json_list = split_n(submission_json, 32)\n",
    "cipher_rsa = PKCS1_OAEP.new(RSA.import_key(public_key_utf.encode('utf-8')))\n",
    "encrypted_answer_json = '\\n'.join([cipher_rsa.encrypt(line.encode()).hex() for line in answer_json_list])\n",
    "submit_response(FORM_URL, {'answer': 'entry.1985698402'}, **{'answer': encrypted_answer_json})\n",
    "print('Successfully submitted!!')\n",
    "print('Check your information: ', ', '.join([': '.join([k, str(v)]) for k, v in student_information.items()]), '\\n', 'Your answer: ', ', '.join([': '.join([k, str(v)]) for k, v in answer.items()]))\n"
   ]
  },
  {
   "cell_type": "code",
   "execution_count": null,
   "metadata": {},
   "outputs": [],
   "source": []
  }
 ],
 "metadata": {
  "colab": {
   "collapsed_sections": [],
   "name": "comp-1801-20201023-01-student.ipynb",
   "provenance": []
  },
  "kernelspec": {
   "display_name": "Python 3",
   "language": "python",
   "name": "python3"
  },
  "language_info": {
   "codemirror_mode": {
    "name": "ipython",
    "version": 3
   },
   "file_extension": ".py",
   "mimetype": "text/x-python",
   "name": "python",
   "nbconvert_exporter": "python",
   "pygments_lexer": "ipython3",
   "version": "3.7.9"
  }
 },
 "nbformat": 4,
 "nbformat_minor": 1
}
