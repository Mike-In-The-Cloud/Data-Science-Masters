{
 "cells": [
  {
   "cell_type": "markdown",
   "metadata": {},
   "source": [
    "# Logistic Regression with Keras\n",
    "\n",
    "Welcome to your (possibly) first Machine Learning tutorial.\n",
    "\n",
    "We will be using the Logistic Regression (a one-layer Neural Network) to recognise hand written digits in images.\n",
    "\n",
    "The MNIST database of handwritten digits has been a benchmark in Computer Vision for many years. Although it is considered \"solved\" by many today, new algorithms are still tested on it first, and it still serves as a good learning tool.\n",
    "\n",
    "More information on MNIST including results from prominent researchers in the field who developed a variety of models to improve classification accuracy:\n",
    "\n",
    "> http://yann.lecun.com/exdb/mnist/\n",
    "\n",
    "Quick intro to Jupyter controls:\n",
    "\n",
    "> Select a cell and Ctrl+Enter - this will execute the selected cell. For more shortcuts, go to Help -> Keyboard Shortcuts\n",
    "\n",
    "> Go through each cell and execute it to see the result\n",
    "\n",
    "Useful links:\n",
    "\n",
    "> https://en.wikipedia.org/wiki/Logistic_regression"
   ]
  },
  {
   "cell_type": "markdown",
   "metadata": {},
   "source": [
    "## Import useful code packages"
   ]
  },
  {
   "cell_type": "code",
   "execution_count": 1,
   "metadata": {},
   "outputs": [],
   "source": [
    "# Standard scientific Python imports\n",
    "import matplotlib.pyplot as plt\n",
    "import numpy as np\n",
    "\n",
    "# Import Keras model layers\n",
    "import tensorflow as tf\n",
    "from tensorflow.keras.models import Sequential \n",
    "from tensorflow.keras.layers import Dense, Activation, Dropout\n",
    "from tensorflow.keras.optimizers import SGD, Adam"
   ]
  },
  {
   "cell_type": "markdown",
   "metadata": {},
   "source": [
    "## Load the MNIST Dataset"
   ]
  },
  {
   "cell_type": "code",
   "execution_count": 2,
   "metadata": {},
   "outputs": [
    {
     "name": "stdout",
     "output_type": "stream",
     "text": [
      "Train set:\n",
      "Sizes: (60000, 28, 28) (60000,)\n",
      "Test set:\n",
      "Sizes: (10000, 28, 28) (10000,)\n",
      "Image values (min to max): 0 to 255\n",
      "Label values (min to max): 0 to 9\n"
     ]
    }
   ],
   "source": [
    "# download and load the MNIST dataset - the file will be downloaded only once and saved in the Anaconda environment\n",
    "(X_train_raw, y_train_raw), (X_test_raw, y_test_raw) = tf.keras.datasets.mnist.load_data()\n",
    "\n",
    "# Print shapes and bounds\n",
    "print('Train set:')\n",
    "print('Sizes:', X_train_raw.shape, y_train_raw.shape)\n",
    "\n",
    "print('Test set:')\n",
    "print('Sizes:', X_test_raw.shape, y_test_raw.shape)\n",
    "\n",
    "print('Image values (min to max):', np.min(X_train_raw), 'to', np.max(X_train_raw))\n",
    "print('Label values (min to max):', np.min(y_train_raw), 'to', np.max(y_train_raw))"
   ]
  },
  {
   "cell_type": "markdown",
   "metadata": {},
   "source": [
    "## Normalisation\n",
    "\n",
    "The data was loaded, but the pixel values are not suitable for learning with a Neural Network. Also, labels have to be in one-hot format.\n",
    "\n",
    "* Divide raw image data in both training and test set by the maximum value\n",
    "\n",
    "* Flatten the images into 1D vectors. Use NumPy's reshape function:\n",
    "    https://docs.scipy.org/doc/numpy/reference/generated/numpy.reshape.html\n",
    "\n",
    "* Convert the raw numeric labels (0..9) to one-hot vectors - Keras has a builtin function to do just that:\n",
    "    https://www.tensorflow.org/api_docs/python/tf/keras/utils/to_categorical\n",
    "    "
   ]
  },
  {
   "cell_type": "code",
   "execution_count": null,
   "metadata": {},
   "outputs": [],
   "source": []
  },
  {
   "cell_type": "code",
   "execution_count": 3,
   "metadata": {},
   "outputs": [
    {
     "name": "stdout",
     "output_type": "stream",
     "text": [
      "### Train set:\n",
      "Sizes: (60000, 784) (60000, 10)\n",
      "Image values (min to max): 0.0 to 1.0\n",
      "Label values (min to max): 0.0 to 1.0\n",
      "Total samples per class: [5923. 6742. 5958. 6131. 5842. 5421. 5918. 6265. 5851. 5949.]\n",
      "### Test set:\n",
      "Sizes: (10000, 784) (10000, 10)\n",
      "Image values (min to max): 0.0 to 1.0\n",
      "Label values (min to max): 0.0 to 1.0\n",
      "Total samples per class: [ 980. 1135. 1032. 1010.  982.  892.  958. 1028.  974. 1009.]\n"
     ]
    }
   ],
   "source": [
    "# normalise raw image data by dividing by the maximum value\n",
    "X_train = X_train_raw.astype(\"float32\") / 255 # normalise X_train\n",
    "X_test = X_test_raw.astype(\"float32\") /255 # normalise X_test\n",
    "\n",
    "# flatten normalised data into 1D vectors\n",
    "X_train = np.reshape(X_train, (60000,784))\n",
    "X_test = np.reshape(X_test, (10000,784))\n",
    "\n",
    "# convert raw labels to one-hot vectors\n",
    "y_train = tf.keras.utils.to_categorical(y_train_raw, num_classes=10, dtype='float32')\n",
    "y_test = tf.keras.utils.to_categorical(y_test_raw, num_classes=10, dtype='float32')\n",
    "\n",
    "# shuffle training samples (same permutation for X and Y so that labels still correspond)\n",
    "np.random.seed(42) # fix random seed so that everyone has the same dataset permutation\n",
    "permutation = np.random.permutation(X_train.shape[0])\n",
    "X_train = X_train[permutation]\n",
    "y_train = y_train[permutation]\n",
    "\n",
    "# Print shapes and bounds\n",
    "print('### Train set:')\n",
    "print('Sizes:', X_train.shape, y_train.shape)\n",
    "print('Image values (min to max):', np.min(X_train), 'to', np.max(X_train))\n",
    "print('Label values (min to max):', np.min(y_train), 'to', np.max(y_train))\n",
    "print('Total samples per class:', np.sum(y_train, axis=0))\n",
    "\n",
    "print('### Test set:')\n",
    "print('Sizes:', X_test.shape, y_test.shape)\n",
    "print('Image values (min to max):', np.min(X_test), 'to', np.max(X_test))\n",
    "print('Label values (min to max):', np.min(y_test), 'to', np.max(y_test))\n",
    "print('Total samples per class:', np.sum(y_test, axis=0))"
   ]
  },
  {
   "cell_type": "markdown",
   "metadata": {},
   "source": [
    "**Expected output:**\n",
    "\n",
    "\\### Train set:<br>\n",
    "Sizes: (60000, 784) (60000, 10)<br>\n",
    "Image values (min to max): 0.0 to 1.0<br>\n",
    "Label values (min to max): 0.0 to 1.0<br>\n",
    "Total samples per class: [5923. 6742. 5958. 6131. 5842. 5421. 5918. 6265. 5851. 5949.]<br>\n",
    "\\### Test set:<br>\n",
    "Sizes: (10000, 784) (10000, 10)<br>\n",
    "Image values (min to max): 0.0 to 1.0<br>\n",
    "Label values (min to max): 0.0 to 1.0<br>\n",
    "Total samples per class: [ 980. 1135. 1032. 1010.  982.  892.  958. 1028.  974. 1009.]<br>"
   ]
  },
  {
   "cell_type": "markdown",
   "metadata": {},
   "source": [
    "## Plot some samples\n",
    "\n",
    "Change the index to see other samples"
   ]
  },
  {
   "cell_type": "code",
   "execution_count": 4,
   "metadata": {},
   "outputs": [
    {
     "data": {
      "image/png": "[encoded data removed]",
      "text/plain": [
       "<Figure size 432x288 with 1 Axes>"
      ]
     },
     "metadata": {
      "needs_background": "light"
     },
     "output_type": "display_data"
    },
    {
     "data": {
      "image/png": "[encoded data removed]",
      "text/plain": [
       "<Figure size 432x288 with 1 Axes>"
      ]
     },
     "metadata": {
      "needs_background": "light"
     },
     "output_type": "display_data"
    }
   ],
   "source": [
    "# Just a function to display a sample\n",
    "def display_digit(index, xs, ys, title):\n",
    "    label = np.argmax(ys[index]) # argmax used to convert from one-hot back to numeric label\n",
    "    image = xs[index].reshape([28,28]) # make sure that the data is in 2D shape\n",
    "    plt.title(title+': Index: %d  Label: %d' % (index, label))\n",
    "    plt.imshow(image, cmap=plt.get_cmap('gray'))\n",
    "    plt.show()\n",
    "\n",
    "display_digit(index=0, xs=X_train, ys=y_train, title='Train sample') # display the first training example\n",
    "display_digit(index=0, xs=X_test,  ys=y_test,  title='Test sample')  # display the first test example"
   ]
  },
  {
   "cell_type": "markdown",
   "metadata": {},
   "source": [
    "That's right, the classes seem very easy to separate ! Let's prepare to train our algorithm."
   ]
  },
  {
   "cell_type": "markdown",
   "metadata": {},
   "source": [
    "## Define the model\n",
    "\n",
    "We will build a neural network with a single layer:\n",
    "\n",
    "* Use Kera's Dense to create a Fully Connected layer, use 'softmax' activation\n",
    "\n",
    "![](./images/lr_diag.png \"Logistic Regression\")"
   ]
  },
  {
   "cell_type": "code",
   "execution_count": 5,
   "metadata": {},
   "outputs": [],
   "source": [
    "# get input and output sizes\n",
    "input_dim = X_train.shape[1] # 784\n",
    "output_dim = y_train.shape[1] # 10\n",
    "\n",
    "# Create Sequential model - this allows you to add layers one after the other to build your model\n",
    "model = Sequential()\n",
    "model.add(Dense(input_dim, activation=\"relu\"))\n",
    "model.add(Dense(100, activation=\"relu\"))\n",
    "model.add(Dense(10, activation='softmax'))\n",
    "\n",
    "\n",
    "# Compile model\n",
    "optim = SGD(lr=0.01)\n",
    "model.compile(optimizer=optim, loss='categorical_crossentropy', metrics=['accuracy'])"
   ]
  },
  {
   "cell_type": "markdown",
   "metadata": {},
   "source": [
    "## Train the model\n",
    "\n",
    "> **Note**: Be sure to rerun the previous cell before you train, otherwise previous weights will be kept - i.e. you would just train your model further."
   ]
  },
  {
   "cell_type": "code",
   "execution_count": 6,
   "metadata": {},
   "outputs": [
    {
     "name": "stdout",
     "output_type": "stream",
     "text": [
      "Epoch 1/50\n",
      "882/882 [==============================] - 1s 2ms/step - loss: 0.7709 - accuracy: 0.8167 - val_loss: 0.3623 - val_accuracy: 0.9014\n",
      "Epoch 2/50\n",
      "882/882 [==============================] - 1s 1ms/step - loss: 0.3411 - accuracy: 0.9062 - val_loss: 0.2802 - val_accuracy: 0.9178\n",
      "Epoch 3/50\n",
      "882/882 [==============================] - 1s 1ms/step - loss: 0.2848 - accuracy: 0.9202 - val_loss: 0.2451 - val_accuracy: 0.9297\n",
      "Epoch 4/50\n",
      "882/882 [==============================] - 1s 1ms/step - loss: 0.2520 - accuracy: 0.9291 - val_loss: 0.2202 - val_accuracy: 0.9367\n",
      "Epoch 5/50\n",
      "882/882 [==============================] - 1s 2ms/step - loss: 0.2278 - accuracy: 0.9365 - val_loss: 0.2012 - val_accuracy: 0.9453\n",
      "Epoch 6/50\n",
      "882/882 [==============================] - 1s 1ms/step - loss: 0.2078 - accuracy: 0.9421 - val_loss: 0.1914 - val_accuracy: 0.9478\n",
      "Epoch 7/50\n",
      "882/882 [==============================] - 1s 1ms/step - loss: 0.1913 - accuracy: 0.9466 - val_loss: 0.1754 - val_accuracy: 0.9517\n",
      "Epoch 8/50\n",
      "882/882 [==============================] - 1s 1ms/step - loss: 0.1770 - accuracy: 0.9503 - val_loss: 0.1674 - val_accuracy: 0.9544\n",
      "Epoch 9/50\n",
      "882/882 [==============================] - 1s 1ms/step - loss: 0.1647 - accuracy: 0.9542 - val_loss: 0.1570 - val_accuracy: 0.9569\n",
      "Epoch 10/50\n",
      "882/882 [==============================] - 1s 1ms/step - loss: 0.1536 - accuracy: 0.9573 - val_loss: 0.1484 - val_accuracy: 0.9575\n",
      "Epoch 11/50\n",
      "882/882 [==============================] - 1s 1ms/step - loss: 0.1438 - accuracy: 0.9598 - val_loss: 0.1419 - val_accuracy: 0.9572\n",
      "Epoch 12/50\n",
      "882/882 [==============================] - 1s 1ms/step - loss: 0.1355 - accuracy: 0.9619 - val_loss: 0.1388 - val_accuracy: 0.9594\n",
      "Epoch 13/50\n",
      "882/882 [==============================] - 1s 1ms/step - loss: 0.1273 - accuracy: 0.9645 - val_loss: 0.1316 - val_accuracy: 0.9603\n",
      "Epoch 14/50\n",
      "882/882 [==============================] - 1s 1ms/step - loss: 0.1202 - accuracy: 0.9664 - val_loss: 0.1293 - val_accuracy: 0.9619\n",
      "Epoch 15/50\n",
      "882/882 [==============================] - 1s 1ms/step - loss: 0.1139 - accuracy: 0.9679 - val_loss: 0.1235 - val_accuracy: 0.9625\n",
      "Epoch 16/50\n",
      "882/882 [==============================] - 1s 1ms/step - loss: 0.1080 - accuracy: 0.9702 - val_loss: 0.1204 - val_accuracy: 0.9650\n",
      "Epoch 17/50\n",
      "882/882 [==============================] - 1s 1ms/step - loss: 0.1024 - accuracy: 0.9720 - val_loss: 0.1181 - val_accuracy: 0.9656\n",
      "Epoch 18/50\n",
      "882/882 [==============================] - 1s 1ms/step - loss: 0.0975 - accuracy: 0.9731 - val_loss: 0.1128 - val_accuracy: 0.9644\n",
      "Epoch 19/50\n",
      "882/882 [==============================] - 1s 1ms/step - loss: 0.0929 - accuracy: 0.9744 - val_loss: 0.1094 - val_accuracy: 0.9683\n",
      "Epoch 20/50\n",
      "882/882 [==============================] - 1s 1ms/step - loss: 0.0883 - accuracy: 0.9758 - val_loss: 0.1086 - val_accuracy: 0.9661\n",
      "Epoch 21/50\n",
      "882/882 [==============================] - 1s 1ms/step - loss: 0.0841 - accuracy: 0.9765 - val_loss: 0.1039 - val_accuracy: 0.9692\n",
      "Epoch 22/50\n",
      "882/882 [==============================] - 1s 1ms/step - loss: 0.0806 - accuracy: 0.9780 - val_loss: 0.1056 - val_accuracy: 0.9664\n",
      "Epoch 23/50\n",
      "882/882 [==============================] - 1s 1ms/step - loss: 0.0769 - accuracy: 0.9789 - val_loss: 0.1080 - val_accuracy: 0.9656\n",
      "Epoch 24/50\n",
      "882/882 [==============================] - 1s 1ms/step - loss: 0.0736 - accuracy: 0.9797 - val_loss: 0.1002 - val_accuracy: 0.9669\n",
      "Epoch 25/50\n",
      "882/882 [==============================] - 1s 1ms/step - loss: 0.0704 - accuracy: 0.9810 - val_loss: 0.1022 - val_accuracy: 0.9675\n",
      "Epoch 26/50\n",
      "882/882 [==============================] - 1s 1ms/step - loss: 0.0674 - accuracy: 0.9817 - val_loss: 0.0946 - val_accuracy: 0.9714\n",
      "Epoch 27/50\n",
      "882/882 [==============================] - 1s 1ms/step - loss: 0.0647 - accuracy: 0.9824 - val_loss: 0.0946 - val_accuracy: 0.9711\n",
      "Epoch 28/50\n",
      "882/882 [==============================] - 1s 1ms/step - loss: 0.0619 - accuracy: 0.9835 - val_loss: 0.0934 - val_accuracy: 0.9708\n",
      "Epoch 29/50\n",
      "882/882 [==============================] - 1s 1ms/step - loss: 0.0596 - accuracy: 0.9841 - val_loss: 0.0915 - val_accuracy: 0.9717\n",
      "Epoch 30/50\n",
      "882/882 [==============================] - 1s 1ms/step - loss: 0.0571 - accuracy: 0.9849 - val_loss: 0.0912 - val_accuracy: 0.9703\n",
      "Epoch 31/50\n",
      "882/882 [==============================] - 1s 1ms/step - loss: 0.0548 - accuracy: 0.9858 - val_loss: 0.0884 - val_accuracy: 0.9722\n",
      "Epoch 32/50\n",
      "882/882 [==============================] - 1s 1ms/step - loss: 0.0528 - accuracy: 0.9865 - val_loss: 0.0888 - val_accuracy: 0.9733\n",
      "Epoch 33/50\n",
      "882/882 [==============================] - 1s 1ms/step - loss: 0.0507 - accuracy: 0.9870 - val_loss: 0.0861 - val_accuracy: 0.9722\n",
      "Epoch 34/50\n",
      "882/882 [==============================] - 1s 1ms/step - loss: 0.0486 - accuracy: 0.9875 - val_loss: 0.0825 - val_accuracy: 0.9747\n",
      "Epoch 35/50\n",
      "882/882 [==============================] - 1s 1ms/step - loss: 0.0467 - accuracy: 0.9883 - val_loss: 0.0838 - val_accuracy: 0.9736\n",
      "Epoch 36/50\n",
      "882/882 [==============================] - 1s 1ms/step - loss: 0.0451 - accuracy: 0.9890 - val_loss: 0.0830 - val_accuracy: 0.9725\n",
      "Epoch 37/50\n",
      "882/882 [==============================] - 1s 1ms/step - loss: 0.0434 - accuracy: 0.9893 - val_loss: 0.0840 - val_accuracy: 0.9733\n",
      "Epoch 38/50\n",
      "882/882 [==============================] - 1s 1ms/step - loss: 0.0419 - accuracy: 0.9898 - val_loss: 0.0819 - val_accuracy: 0.9744\n",
      "Epoch 39/50\n",
      "882/882 [==============================] - 1s 1ms/step - loss: 0.0403 - accuracy: 0.9905 - val_loss: 0.0814 - val_accuracy: 0.9736\n",
      "Epoch 40/50\n",
      "882/882 [==============================] - 1s 1ms/step - loss: 0.0388 - accuracy: 0.9907 - val_loss: 0.0808 - val_accuracy: 0.9736\n",
      "Epoch 41/50\n",
      "882/882 [==============================] - 1s 1ms/step - loss: 0.0374 - accuracy: 0.9912 - val_loss: 0.0796 - val_accuracy: 0.9753\n",
      "Epoch 42/50\n",
      "882/882 [==============================] - 1s 1ms/step - loss: 0.0361 - accuracy: 0.9917 - val_loss: 0.0802 - val_accuracy: 0.9744\n",
      "Epoch 43/50\n",
      "882/882 [==============================] - 1s 1ms/step - loss: 0.0347 - accuracy: 0.9922 - val_loss: 0.0776 - val_accuracy: 0.9758\n",
      "Epoch 44/50\n",
      "882/882 [==============================] - 1s 1ms/step - loss: 0.0336 - accuracy: 0.9924 - val_loss: 0.0784 - val_accuracy: 0.9750\n",
      "Epoch 45/50\n",
      "882/882 [==============================] - 1s 1ms/step - loss: 0.0322 - accuracy: 0.9928 - val_loss: 0.0792 - val_accuracy: 0.9744\n",
      "Epoch 46/50\n",
      "882/882 [==============================] - 1s 1ms/step - loss: 0.0310 - accuracy: 0.9933 - val_loss: 0.0814 - val_accuracy: 0.9758\n",
      "Epoch 47/50\n",
      "882/882 [==============================] - 1s 1ms/step - loss: 0.0301 - accuracy: 0.9937 - val_loss: 0.0801 - val_accuracy: 0.9747\n",
      "Epoch 48/50\n",
      "882/882 [==============================] - 1s 1ms/step - loss: 0.0291 - accuracy: 0.9938 - val_loss: 0.0774 - val_accuracy: 0.9761\n",
      "Epoch 49/50\n",
      "882/882 [==============================] - 1s 1ms/step - loss: 0.0279 - accuracy: 0.9942 - val_loss: 0.0771 - val_accuracy: 0.9764\n",
      "Epoch 50/50\n",
      "882/882 [==============================] - 1s 1ms/step - loss: 0.0272 - accuracy: 0.9944 - val_loss: 0.0769 - val_accuracy: 0.9756\n"
     ]
    }
   ],
   "source": [
    "# settings\n",
    "batch_size = 64\n",
    "nb_epoch = 50\n",
    "\n",
    "# train the model and save training history\n",
    "history = model.fit(X_train, y_train,\n",
    "          batch_size=batch_size, \n",
    "          epochs=nb_epoch, \n",
    "          verbose=1, \n",
    "          validation_split=(0.06), # set 10K samples (out of 60K) aside for validation\n",
    ")\n",
    "\n",
    "# save model weights to file\n",
    "model.save_weights('mnist_logistic_regression.h5')"
   ]
  },
  {
   "cell_type": "markdown",
   "metadata": {},
   "source": [
    "## Plot training behaviour"
   ]
  },
  {
   "cell_type": "code",
   "execution_count": 7,
   "metadata": {},
   "outputs": [
    {
     "data": {
      "image/png": "[encoded data removed]",
      "text/plain": [
       "<Figure size 1440x360 with 2 Axes>"
      ]
     },
     "metadata": {
      "needs_background": "light"
     },
     "output_type": "display_data"
    }
   ],
   "source": [
    "# summarize history for loss and accuracy\n",
    "\n",
    "fig, (ax1, ax2) = plt.subplots(1, 2, figsize=(20,5))\n",
    "\n",
    "ax1.plot(history.history['loss'])\n",
    "ax1.plot(history.history['val_loss'])\n",
    "ax1.set_ylabel('loss')\n",
    "ax1.set_xlabel('epoch')\n",
    "ax1.legend(['training', 'validation'], loc='upper right')\n",
    "ax1.yaxis.grid()\n",
    "\n",
    "ax2.plot(history.history['accuracy'])\n",
    "ax2.plot(history.history['val_accuracy'])\n",
    "ax2.set_ylabel('accuracy')\n",
    "ax2.set_xlabel('epoch')\n",
    "ax2.legend(['training', 'validation'], loc='upper left')\n",
    "ax2.yaxis.grid()\n",
    "\n",
    "plt.show()"
   ]
  },
  {
   "cell_type": "markdown",
   "metadata": {},
   "source": [
    "## Evaluate the model on the test set"
   ]
  },
  {
   "cell_type": "code",
   "execution_count": 8,
   "metadata": {},
   "outputs": [
    {
     "name": "stdout",
     "output_type": "stream",
     "text": [
      "Test loss: 0.07059241086244583\n",
      "Test accuracy: 0.9789000153541565\n"
     ]
    }
   ],
   "source": [
    "# load model weights from file\n",
    "model.load_weights('mnist_logistic_regression.h5')\n",
    "\n",
    "score = model.evaluate(X_test, y_test, verbose=0)\n",
    "print('Test loss:', score[0]) \n",
    "print('Test accuracy:', score[1])"
   ]
  },
  {
   "cell_type": "markdown",
   "metadata": {},
   "source": [
    "You should have obtained a value of around 0.91-0.92 (which means 91%-92% test accuracy). Congratulations !"
   ]
  },
  {
   "cell_type": "markdown",
   "metadata": {},
   "source": [
    "## Try the following\n",
    "\n",
    "1) Change the learning rate (e.g. 0.0001, 0.001, 0.01, 0.1) and observe the training curves\n",
    "\n",
    "2) Add Momentum to the SGD optimizer (https://keras.io/optimizers/) and observe the accuracy\n",
    "\n",
    "3) Change the batch size (e.g. 8, 16, 32, 64, 128, 256) and see what happens (time per epoch, accuracy, etc)\n",
    "\n",
    "4) Try a different optimizer altogether (e.g. Adam) (https://keras.io/optimizers/)\n",
    "\n",
    "5) Try adding shuffling during training (https://keras.io/models/sequential/)\n",
    "\n",
    "6) Share your best results !"
   ]
  },
  {
   "cell_type": "code",
   "execution_count": 9,
   "metadata": {},
   "outputs": [
    {
     "ename": "SyntaxError",
     "evalue": "invalid syntax (<ipython-input-9-084f3117fc68>, line 1)",
     "output_type": "error",
     "traceback": [
      "\u001b[0;36m  File \u001b[0;32m\"<ipython-input-9-084f3117fc68>\"\u001b[0;36m, line \u001b[0;32m1\u001b[0m\n\u001b[0;31m    Test loss: 0.08374061435461044\u001b[0m\n\u001b[0m            ^\u001b[0m\n\u001b[0;31mSyntaxError\u001b[0m\u001b[0;31m:\u001b[0m invalid syntax\n"
     ]
    }
   ],
   "source": [
    "#Test loss: 0.08374061435461044\n",
    "#Test accuracy: 0.9757999777793884\n",
    "    \n",
    "#Test loss: 0.6157978177070618\n",
    "#Test accuracy: 0.8604999780654907\n",
    "    \n",
    "#Test loss: 0.41158485412597656\n",
    "#Test accuracy: 0.8931000232696533\n",
    "    \n",
    "#Test loss: 0.20520681142807007\n",
    "#Test accuracy: 0.9416000247001648\n",
    "\n",
    "#Test loss: 0.07649356126785278\n",
    "#Test accuracy: 0.98580002784729\n",
    "    \n",
    "#Test loss: 0.06497085094451904\n",
    "#Test accuracy: 0.9793999791145325\n"
   ]
  }
 ],
 "metadata": {
  "kernelspec": {
   "display_name": "Python 3",
   "language": "python",
   "name": "python3"
  },
  "language_info": {
   "codemirror_mode": {
    "name": "ipython",
    "version": 3
   },
   "file_extension": ".py",
   "mimetype": "text/x-python",
   "name": "python",
   "nbconvert_exporter": "python",
   "pygments_lexer": "ipython3",
   "version": "3.7.9"
  }
 },
 "nbformat": 4,
 "nbformat_minor": 2
}
