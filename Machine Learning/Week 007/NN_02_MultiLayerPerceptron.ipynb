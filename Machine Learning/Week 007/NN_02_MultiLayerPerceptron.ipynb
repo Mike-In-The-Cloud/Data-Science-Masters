{
 "cells": [
  {
   "cell_type": "markdown",
   "metadata": {},
   "source": [
    "# Multi Layer Perceptron with Keras\n",
    "\n",
    "Welcome back !\n",
    "\n",
    "We will now be using a MLP (a Neural Network that also contains at least a hidden layer) to recognise hand written digits in images.\n",
    "\n",
    "You can use code from the previous tutorial to complete this one.\n",
    "\n",
    "**Note: it is recommended that you first try with the initial parameters that were proposed, and then add the optimisations that you've tried at the end of the previous tutorial in order to observe their effects.**\n",
    "\n",
    "Useful links:\n",
    "\n",
    "> https://en.wikipedia.org/wiki/Multilayer_perceptron"
   ]
  },
  {
   "cell_type": "markdown",
   "metadata": {},
   "source": [
    "## Import useful code packages"
   ]
  },
  {
   "cell_type": "code",
   "execution_count": 1,
   "metadata": {},
   "outputs": [],
   "source": [
    "# Standard scientific Python imports\n",
    "import matplotlib.pyplot as plt\n",
    "import numpy as np\n",
    "\n",
    "# Import Keras model layers\n",
    "import tensorflow as tf\n",
    "from tensorflow.keras.models import Sequential \n",
    "from tensorflow.keras.layers import Dense, Activation, Dropout\n",
    "\n",
    "from tensorflow.keras.optimizers import SGD, Adam"
   ]
  },
  {
   "cell_type": "markdown",
   "metadata": {},
   "source": [
    "## Load the MNIST Dataset"
   ]
  },
  {
   "cell_type": "code",
   "execution_count": 2,
   "metadata": {},
   "outputs": [
    {
     "name": "stdout",
     "output_type": "stream",
     "text": [
      "Train set:\n",
      "Sizes: (60000, 28, 28) (60000,)\n",
      "Test set:\n",
      "Sizes: (10000, 28, 28) (10000,)\n",
      "Image values (min to max): 0 to 255\n",
      "Label values (min to max): 0 to 9\n"
     ]
    }
   ],
   "source": [
    "# download and load the MNIST dataset - the file will be downloaded only once and saved in the Anaconda environment\n",
    "(X_train_raw, y_train_raw), (X_test_raw, y_test_raw) = tf.keras.datasets.mnist.load_data()\n",
    "\n",
    "# Print shapes and bounds\n",
    "print('Train set:')\n",
    "print('Sizes:', X_train_raw.shape, y_train_raw.shape)\n",
    "\n",
    "print('Test set:')\n",
    "print('Sizes:', X_test_raw.shape, y_test_raw.shape)\n",
    "\n",
    "print('Image values (min to max):', np.min(X_train_raw), 'to', np.max(X_train_raw))\n",
    "print('Label values (min to max):', np.min(y_train_raw), 'to', np.max(y_train_raw))"
   ]
  },
  {
   "cell_type": "markdown",
   "metadata": {},
   "source": [
    "## Normalisation\n",
    "\n",
    "The data was loaded, but the pixel values are not suitable for learning with a Neural Network. Also, labels have to be in one-hot format.\n",
    "\n",
    "* Divide raw image data in both training and test set by the maximum value\n",
    "\n",
    "* Flatten the images into 1D vectors. Use NumPy's reshape function:\n",
    "    https://docs.scipy.org/doc/numpy/reference/generated/numpy.reshape.html\n",
    "\n",
    "* Convert the raw numeric labels (0..9) to one-hot vectors - Keras has a builtin function to do just that:\n",
    "    https://www.tensorflow.org/api_docs/python/tf/keras/utils/to_categorical\n",
    "    "
   ]
  },
  {
   "cell_type": "code",
   "execution_count": 3,
   "metadata": {},
   "outputs": [
    {
     "name": "stdout",
     "output_type": "stream",
     "text": [
      "### Train set:\n",
      "Sizes: (60000, 784) (60000, 10)\n",
      "Image values (min to max): 0.0 to 1.0\n",
      "Label values (min to max): 0.0 to 1.0\n",
      "Total samples per class: [5923. 6742. 5958. 6131. 5842. 5421. 5918. 6265. 5851. 5949.]\n",
      "### Test set:\n",
      "Sizes: (10000, 784) (10000, 10)\n",
      "Image values (min to max): 0.0 to 1.0\n",
      "Label values (min to max): 0.0 to 1.0\n",
      "Total samples per class: [ 980. 1135. 1032. 1010.  982.  892.  958. 1028.  974. 1009.]\n"
     ]
    }
   ],
   "source": [
    "# normalise raw image data by dividing by the maximum value\n",
    "X_train = X_train_raw / 255 # normalise X_train\n",
    "X_test = X_test_raw / 255 # normalise X_test\n",
    "\n",
    "# flatten normalised data into 1D vectors\n",
    "X_train = X_train.reshape(X_train.shape[0], -1)\n",
    "X_test = X_test.reshape(X_test.shape[0], -1)\n",
    "\n",
    "# convert raw labels to one-hot vectors\n",
    "y_train = tf.keras.utils.to_categorical(y_train_raw, num_classes=10) # convert y_train\n",
    "y_test = tf.keras.utils.to_categorical(y_test_raw, num_classes=10) # convert y_test\n",
    "\n",
    "# shuffle training samples (same permutation for X and Y so that labels still correspond)\n",
    "np.random.seed(42) # fix random seed so that everyone has the same dataset permutation\n",
    "permutation = np.random.permutation(X_train.shape[0])\n",
    "X_train = X_train[permutation]\n",
    "y_train = y_train[permutation]\n",
    "\n",
    "# Print shapes and bounds\n",
    "print('### Train set:')\n",
    "print('Sizes:', X_train.shape, y_train.shape)\n",
    "print('Image values (min to max):', np.min(X_train), 'to', np.max(X_train))\n",
    "print('Label values (min to max):', np.min(y_train), 'to', np.max(y_train))\n",
    "print('Total samples per class:', np.sum(y_train, axis=0))\n",
    "\n",
    "print('### Test set:')\n",
    "print('Sizes:', X_test.shape, y_test.shape)\n",
    "print('Image values (min to max):', np.min(X_test), 'to', np.max(X_test))\n",
    "print('Label values (min to max):', np.min(y_test), 'to', np.max(y_test))\n",
    "print('Total samples per class:', np.sum(y_test, axis=0))"
   ]
  },
  {
   "cell_type": "markdown",
   "metadata": {},
   "source": [
    "**Expected output:**\n",
    "\n",
    "\\### Train set:<br>\n",
    "Sizes: (60000, 784) (60000, 10)<br>\n",
    "Image values (min to max): 0.0 to 1.0<br>\n",
    "Label values (min to max): 0.0 to 1.0<br>\n",
    "Total samples per class: [5923. 6742. 5958. 6131. 5842. 5421. 5918. 6265. 5851. 5949.]<br>\n",
    "\\### Test set:<br>\n",
    "Sizes: (10000, 784) (10000, 10)<br>\n",
    "Image values (min to max): 0.0 to 1.0<br>\n",
    "Label values (min to max): 0.0 to 1.0<br>\n",
    "Total samples per class: [ 980. 1135. 1032. 1010.  982.  892.  958. 1028.  974. 1009.]<br>"
   ]
  },
  {
   "cell_type": "markdown",
   "metadata": {},
   "source": [
    "## Plot some samples\n",
    "\n",
    "Change the index to see other samples"
   ]
  },
  {
   "cell_type": "code",
   "execution_count": 4,
   "metadata": {},
   "outputs": [
    {
     "data": {
      "image/png": "[encoded data removed]",
      "text/plain": [
       "<Figure size 432x288 with 1 Axes>"
      ]
     },
     "metadata": {
      "needs_background": "light"
     },
     "output_type": "display_data"
    },
    {
     "data": {
      "image/png": "[encoded data removed]",
      "text/plain": [
       "<Figure size 432x288 with 1 Axes>"
      ]
     },
     "metadata": {
      "needs_background": "light"
     },
     "output_type": "display_data"
    }
   ],
   "source": [
    "# Just a function to display a sample\n",
    "def display_digit(index, xs, ys, title):\n",
    "    label = np.argmax(ys[index]) # argmax used to convert from one-hot back to numeric label\n",
    "    image = xs[index].reshape([28,28]) # make sure that the data is in 2D shape\n",
    "    plt.title(title+': Index: %d  Label: %d' % (index, label))\n",
    "    plt.imshow(image, cmap=plt.get_cmap('gray'))\n",
    "    plt.show()\n",
    "\n",
    "display_digit(index=0, xs=X_train, ys=y_train, title='Train sample') # display the first training example\n",
    "display_digit(index=0, xs=X_test,  ys=y_test,  title='Test sample')  # display the first test example"
   ]
  },
  {
   "cell_type": "markdown",
   "metadata": {},
   "source": [
    "That's right, the classes seem very easy to separate ! Let's prepare to train our algorithm."
   ]
  },
  {
   "cell_type": "markdown",
   "metadata": {},
   "source": [
    "## Define the model\n",
    "\n",
    "We will build a neural network with a single layer:\n",
    "\n",
    "* Use Kera's Dense to create two Fully Connected layers:\n",
    "    * use 'sigmoid' activation for the first one\n",
    "    * and 'softmax' for the second\n",
    "\n",
    "![](./images/mlp_diag.png \"Multi Layer Perceptron\")"
   ]
  },
  {
   "cell_type": "code",
   "execution_count": 5,
   "metadata": {},
   "outputs": [],
   "source": [
    "# get input and output sizes\n",
    "input_dim = X_train.shape[1] # 784\n",
    "hidden_dim = 512 \n",
    "output_dim = y_train.shape[1] # 10\n",
    "\n",
    "# Create Sequential model - this allows you to add layers one after the other to build your model\n",
    "# Create Sequential model - this allows you to add layers one after the other to build your model\n",
    "model = Sequential()\n",
    "model.add(Dense(input_dim, activation=\"relu\"))\n",
    "model.add(Dropout(0.5))\n",
    "model.add(Dense(hidden_dim, activation=\"relu\"))\n",
    "model.add(Dropout(0.5))\n",
    "model.add(Dense(output_dim, activation='softmax'))\n",
    "\n",
    "\n",
    "# Compile model\n",
    "optim = SGD(lr=0.01)\n",
    "model.compile(optimizer=optim, loss='categorical_crossentropy', metrics=['accuracy'])"
   ]
  },
  {
   "cell_type": "markdown",
   "metadata": {},
   "source": [
    "## Train the model\n",
    "\n",
    "> **Note**: Be sure to rerun the previous cell before you train, otherwise previous weights will be kept - i.e. you would just train your model further."
   ]
  },
  {
   "cell_type": "code",
   "execution_count": 6,
   "metadata": {},
   "outputs": [
    {
     "name": "stdout",
     "output_type": "stream",
     "text": [
      "Epoch 1/100\n",
      "WARNING:tensorflow:Layer dense is casting an input tensor from dtype float64 to the layer's dtype of float32, which is new behavior in TensorFlow 2.  The layer has dtype float32 because it's dtype defaults to floatx.\n",
      "\n",
      "If you intended to run this layer in float32, you can safely ignore this warning. If in doubt, this warning is likely only an issue if you are porting a TensorFlow 1.X model to TensorFlow 2.\n",
      "\n",
      "To change all layers to have dtype float64 by default, call `tf.keras.backend.set_floatx('float64')`. To change just this layer, pass dtype='float64' to the layer constructor. If you are the author of this layer, you can disable autocasting by passing autocast=False to the base Layer constructor.\n",
      "\n",
      "1563/1563 [==============================] - 2s 2ms/step - loss: 0.8306 - accuracy: 0.7462 - val_loss: 0.3462 - val_accuracy: 0.8978\n",
      "Epoch 2/100\n",
      "1563/1563 [==============================] - 2s 2ms/step - loss: 0.4093 - accuracy: 0.8784 - val_loss: 0.2674 - val_accuracy: 0.9196\n",
      "Epoch 3/100\n",
      "1563/1563 [==============================] - 2s 2ms/step - loss: 0.3295 - accuracy: 0.8999 - val_loss: 0.2295 - val_accuracy: 0.9313\n",
      "Epoch 4/100\n",
      "1563/1563 [==============================] - 2s 2ms/step - loss: 0.2824 - accuracy: 0.9174 - val_loss: 0.1995 - val_accuracy: 0.9409\n",
      "Epoch 5/100\n",
      "1563/1563 [==============================] - 2s 2ms/step - loss: 0.2477 - accuracy: 0.9276 - val_loss: 0.1776 - val_accuracy: 0.9466\n",
      "Epoch 6/100\n",
      "1563/1563 [==============================] - 2s 2ms/step - loss: 0.2240 - accuracy: 0.9335 - val_loss: 0.1629 - val_accuracy: 0.9506\n",
      "Epoch 7/100\n",
      "1563/1563 [==============================] - 3s 2ms/step - loss: 0.2068 - accuracy: 0.9382 - val_loss: 0.1529 - val_accuracy: 0.9538\n",
      "Epoch 8/100\n",
      "1563/1563 [==============================] - 2s 2ms/step - loss: 0.1889 - accuracy: 0.9443 - val_loss: 0.1421 - val_accuracy: 0.9569\n",
      "Epoch 9/100\n",
      "1563/1563 [==============================] - 2s 2ms/step - loss: 0.1760 - accuracy: 0.9477 - val_loss: 0.1324 - val_accuracy: 0.9588\n",
      "Epoch 10/100\n",
      "1563/1563 [==============================] - 2s 2ms/step - loss: 0.1628 - accuracy: 0.9506 - val_loss: 0.1261 - val_accuracy: 0.9605\n",
      "Epoch 11/100\n",
      "1563/1563 [==============================] - 2s 2ms/step - loss: 0.1537 - accuracy: 0.9550 - val_loss: 0.1205 - val_accuracy: 0.9614\n",
      "Epoch 12/100\n",
      "1563/1563 [==============================] - 2s 2ms/step - loss: 0.1463 - accuracy: 0.9566 - val_loss: 0.1155 - val_accuracy: 0.9638\n",
      "Epoch 13/100\n",
      "1563/1563 [==============================] - 2s 2ms/step - loss: 0.1392 - accuracy: 0.9587 - val_loss: 0.1111 - val_accuracy: 0.9660\n",
      "Epoch 14/100\n",
      "1563/1563 [==============================] - 2s 2ms/step - loss: 0.1340 - accuracy: 0.9603 - val_loss: 0.1071 - val_accuracy: 0.9669\n",
      "Epoch 15/100\n",
      "1563/1563 [==============================] - 2s 2ms/step - loss: 0.1264 - accuracy: 0.9622 - val_loss: 0.1034 - val_accuracy: 0.9672\n",
      "Epoch 16/100\n",
      "1563/1563 [==============================] - 2s 1ms/step - loss: 0.1204 - accuracy: 0.9642 - val_loss: 0.1007 - val_accuracy: 0.9690\n",
      "Epoch 17/100\n",
      "1563/1563 [==============================] - 2s 2ms/step - loss: 0.1134 - accuracy: 0.9669 - val_loss: 0.0982 - val_accuracy: 0.9688\n",
      "Epoch 18/100\n",
      "1563/1563 [==============================] - 2s 2ms/step - loss: 0.1118 - accuracy: 0.9658 - val_loss: 0.0953 - val_accuracy: 0.9703\n",
      "Epoch 19/100\n",
      "1563/1563 [==============================] - 2s 2ms/step - loss: 0.1066 - accuracy: 0.9681 - val_loss: 0.0931 - val_accuracy: 0.9709\n",
      "Epoch 20/100\n",
      "1563/1563 [==============================] - 2s 2ms/step - loss: 0.1028 - accuracy: 0.9695 - val_loss: 0.0896 - val_accuracy: 0.9720\n",
      "Epoch 21/100\n",
      "1563/1563 [==============================] - 2s 2ms/step - loss: 0.0982 - accuracy: 0.9707 - val_loss: 0.0891 - val_accuracy: 0.9724\n",
      "Epoch 22/100\n",
      "1563/1563 [==============================] - 2s 2ms/step - loss: 0.0944 - accuracy: 0.9715 - val_loss: 0.0862 - val_accuracy: 0.9740\n",
      "Epoch 23/100\n",
      "1563/1563 [==============================] - 2s 2ms/step - loss: 0.0931 - accuracy: 0.9721 - val_loss: 0.0845 - val_accuracy: 0.9746\n",
      "Epoch 24/100\n",
      "1563/1563 [==============================] - 2s 2ms/step - loss: 0.0902 - accuracy: 0.9726 - val_loss: 0.0833 - val_accuracy: 0.9740\n",
      "Epoch 25/100\n",
      "1563/1563 [==============================] - 2s 2ms/step - loss: 0.0854 - accuracy: 0.9751 - val_loss: 0.0831 - val_accuracy: 0.9748\n",
      "Epoch 26/100\n",
      "1563/1563 [==============================] - 2s 2ms/step - loss: 0.0838 - accuracy: 0.9741 - val_loss: 0.0816 - val_accuracy: 0.9754\n",
      "Epoch 27/100\n",
      "1563/1563 [==============================] - 2s 2ms/step - loss: 0.0820 - accuracy: 0.9751 - val_loss: 0.0801 - val_accuracy: 0.9750\n",
      "Epoch 28/100\n",
      "1563/1563 [==============================] - 2s 2ms/step - loss: 0.0783 - accuracy: 0.9759 - val_loss: 0.0786 - val_accuracy: 0.9754\n",
      "Epoch 29/100\n",
      "1563/1563 [==============================] - 2s 2ms/step - loss: 0.0761 - accuracy: 0.9777 - val_loss: 0.0779 - val_accuracy: 0.9760\n",
      "Epoch 30/100\n",
      "1563/1563 [==============================] - 2s 2ms/step - loss: 0.0742 - accuracy: 0.9775 - val_loss: 0.0763 - val_accuracy: 0.9760\n",
      "Epoch 31/100\n",
      "1563/1563 [==============================] - 2s 2ms/step - loss: 0.0705 - accuracy: 0.9790 - val_loss: 0.0760 - val_accuracy: 0.9770\n",
      "Epoch 32/100\n",
      "1563/1563 [==============================] - 2s 2ms/step - loss: 0.0697 - accuracy: 0.9787 - val_loss: 0.0751 - val_accuracy: 0.9769\n",
      "Epoch 33/100\n",
      "1563/1563 [==============================] - 2s 2ms/step - loss: 0.0680 - accuracy: 0.9795 - val_loss: 0.0744 - val_accuracy: 0.9775\n",
      "Epoch 34/100\n",
      "1563/1563 [==============================] - 2s 1ms/step - loss: 0.0654 - accuracy: 0.9803 - val_loss: 0.0723 - val_accuracy: 0.9778\n",
      "Epoch 35/100\n",
      "1563/1563 [==============================] - 2s 2ms/step - loss: 0.0623 - accuracy: 0.9808 - val_loss: 0.0727 - val_accuracy: 0.9770\n",
      "Epoch 36/100\n",
      "1563/1563 [==============================] - 2s 2ms/step - loss: 0.0602 - accuracy: 0.9819 - val_loss: 0.0727 - val_accuracy: 0.9773\n",
      "Epoch 37/100\n",
      "1563/1563 [==============================] - 2s 2ms/step - loss: 0.0605 - accuracy: 0.9815 - val_loss: 0.0712 - val_accuracy: 0.9776\n",
      "Epoch 38/100\n",
      "1563/1563 [==============================] - 2s 1ms/step - loss: 0.0598 - accuracy: 0.9818 - val_loss: 0.0710 - val_accuracy: 0.9776\n",
      "Epoch 39/100\n",
      "1563/1563 [==============================] - 2s 2ms/step - loss: 0.0581 - accuracy: 0.9819 - val_loss: 0.0708 - val_accuracy: 0.9778\n",
      "Epoch 40/100\n",
      "1563/1563 [==============================] - 2s 2ms/step - loss: 0.0561 - accuracy: 0.9828 - val_loss: 0.0691 - val_accuracy: 0.9788\n",
      "Epoch 41/100\n",
      "1563/1563 [==============================] - 2s 1ms/step - loss: 0.0551 - accuracy: 0.9833 - val_loss: 0.0688 - val_accuracy: 0.9784\n",
      "Epoch 42/100\n",
      "1563/1563 [==============================] - 2s 2ms/step - loss: 0.0545 - accuracy: 0.9830 - val_loss: 0.0685 - val_accuracy: 0.9786\n",
      "Epoch 43/100\n",
      "1563/1563 [==============================] - 2s 1ms/step - loss: 0.0528 - accuracy: 0.9838 - val_loss: 0.0693 - val_accuracy: 0.9789\n",
      "Epoch 44/100\n",
      "1563/1563 [==============================] - 2s 2ms/step - loss: 0.0497 - accuracy: 0.9840 - val_loss: 0.0682 - val_accuracy: 0.9791\n",
      "Epoch 45/100\n",
      "1563/1563 [==============================] - 2s 2ms/step - loss: 0.0495 - accuracy: 0.9847 - val_loss: 0.0662 - val_accuracy: 0.9798\n",
      "Epoch 46/100\n",
      "1563/1563 [==============================] - 2s 2ms/step - loss: 0.0495 - accuracy: 0.9845 - val_loss: 0.0667 - val_accuracy: 0.9789\n",
      "Epoch 47/100\n",
      "1563/1563 [==============================] - 2s 2ms/step - loss: 0.0483 - accuracy: 0.9858 - val_loss: 0.0668 - val_accuracy: 0.9790\n",
      "Epoch 48/100\n",
      "1563/1563 [==============================] - 2s 2ms/step - loss: 0.0447 - accuracy: 0.9864 - val_loss: 0.0666 - val_accuracy: 0.9800\n",
      "Epoch 49/100\n",
      "1563/1563 [==============================] - 2s 2ms/step - loss: 0.0446 - accuracy: 0.9866 - val_loss: 0.0667 - val_accuracy: 0.9796\n",
      "Epoch 50/100\n",
      "1563/1563 [==============================] - 2s 1ms/step - loss: 0.0436 - accuracy: 0.9870 - val_loss: 0.0658 - val_accuracy: 0.9797\n",
      "Epoch 51/100\n",
      "1563/1563 [==============================] - 2s 2ms/step - loss: 0.0441 - accuracy: 0.9863 - val_loss: 0.0660 - val_accuracy: 0.9799\n",
      "Epoch 52/100\n"
     ]
    },
    {
     "name": "stdout",
     "output_type": "stream",
     "text": [
      "1563/1563 [==============================] - 2s 1ms/step - loss: 0.0425 - accuracy: 0.9870 - val_loss: 0.0649 - val_accuracy: 0.9800\n",
      "Epoch 53/100\n",
      "1563/1563 [==============================] - 2s 2ms/step - loss: 0.0407 - accuracy: 0.9874 - val_loss: 0.0656 - val_accuracy: 0.9796\n",
      "Epoch 54/100\n",
      "1563/1563 [==============================] - 2s 2ms/step - loss: 0.0415 - accuracy: 0.9876 - val_loss: 0.0656 - val_accuracy: 0.9798\n",
      "Epoch 55/100\n",
      "1563/1563 [==============================] - 2s 1ms/step - loss: 0.0402 - accuracy: 0.9873 - val_loss: 0.0648 - val_accuracy: 0.9797\n",
      "Epoch 56/100\n",
      "1563/1563 [==============================] - 2s 2ms/step - loss: 0.0389 - accuracy: 0.9879 - val_loss: 0.0643 - val_accuracy: 0.9802\n",
      "Epoch 57/100\n",
      "1563/1563 [==============================] - 2s 2ms/step - loss: 0.0391 - accuracy: 0.9874 - val_loss: 0.0653 - val_accuracy: 0.9796\n",
      "Epoch 58/100\n",
      "1563/1563 [==============================] - 2s 1ms/step - loss: 0.0388 - accuracy: 0.9881 - val_loss: 0.0637 - val_accuracy: 0.9804\n",
      "Epoch 59/100\n",
      "1563/1563 [==============================] - 2s 1ms/step - loss: 0.0361 - accuracy: 0.9890 - val_loss: 0.0643 - val_accuracy: 0.9800\n",
      "Epoch 60/100\n",
      "1563/1563 [==============================] - 2s 1ms/step - loss: 0.0351 - accuracy: 0.9892 - val_loss: 0.0638 - val_accuracy: 0.9801\n",
      "Epoch 61/100\n",
      "1563/1563 [==============================] - 2s 1ms/step - loss: 0.0361 - accuracy: 0.9882 - val_loss: 0.0647 - val_accuracy: 0.9796\n",
      "Epoch 62/100\n",
      "1563/1563 [==============================] - 2s 2ms/step - loss: 0.0353 - accuracy: 0.9889 - val_loss: 0.0642 - val_accuracy: 0.9809\n",
      "Epoch 63/100\n",
      "1563/1563 [==============================] - 2s 1ms/step - loss: 0.0335 - accuracy: 0.9896 - val_loss: 0.0646 - val_accuracy: 0.9800\n",
      "Epoch 64/100\n",
      "1563/1563 [==============================] - 2s 2ms/step - loss: 0.0324 - accuracy: 0.9899 - val_loss: 0.0635 - val_accuracy: 0.9811\n",
      "Epoch 65/100\n",
      "1563/1563 [==============================] - 2s 1ms/step - loss: 0.0335 - accuracy: 0.9900 - val_loss: 0.0631 - val_accuracy: 0.9809\n",
      "Epoch 66/100\n",
      "1563/1563 [==============================] - 2s 1ms/step - loss: 0.0326 - accuracy: 0.9899 - val_loss: 0.0641 - val_accuracy: 0.9804\n",
      "Epoch 67/100\n",
      "1563/1563 [==============================] - 2s 2ms/step - loss: 0.0321 - accuracy: 0.9904 - val_loss: 0.0643 - val_accuracy: 0.9801\n",
      "Epoch 68/100\n",
      "1563/1563 [==============================] - 2s 2ms/step - loss: 0.0307 - accuracy: 0.9905 - val_loss: 0.0634 - val_accuracy: 0.9808\n",
      "Epoch 69/100\n",
      "1563/1563 [==============================] - 2s 2ms/step - loss: 0.0302 - accuracy: 0.9909 - val_loss: 0.0627 - val_accuracy: 0.9811\n",
      "Epoch 70/100\n",
      "1563/1563 [==============================] - 2s 1ms/step - loss: 0.0295 - accuracy: 0.9908 - val_loss: 0.0617 - val_accuracy: 0.9810\n",
      "Epoch 71/100\n",
      "1563/1563 [==============================] - 2s 1ms/step - loss: 0.0291 - accuracy: 0.9913 - val_loss: 0.0630 - val_accuracy: 0.9814\n",
      "Epoch 72/100\n",
      "1563/1563 [==============================] - 2s 1ms/step - loss: 0.0286 - accuracy: 0.9910 - val_loss: 0.0649 - val_accuracy: 0.9802\n",
      "Epoch 73/100\n",
      "1563/1563 [==============================] - 2s 1ms/step - loss: 0.0286 - accuracy: 0.9912 - val_loss: 0.0640 - val_accuracy: 0.9809\n",
      "Epoch 74/100\n",
      "1563/1563 [==============================] - 2s 2ms/step - loss: 0.0288 - accuracy: 0.9910 - val_loss: 0.0631 - val_accuracy: 0.9813\n",
      "Epoch 75/100\n",
      "1563/1563 [==============================] - 2s 1ms/step - loss: 0.0271 - accuracy: 0.9915 - val_loss: 0.0642 - val_accuracy: 0.9804\n",
      "Epoch 76/100\n",
      "1563/1563 [==============================] - 2s 1ms/step - loss: 0.0252 - accuracy: 0.9919 - val_loss: 0.0634 - val_accuracy: 0.9811\n",
      "Epoch 77/100\n",
      "1563/1563 [==============================] - 2s 1ms/step - loss: 0.0267 - accuracy: 0.9920 - val_loss: 0.0643 - val_accuracy: 0.9805\n",
      "Epoch 78/100\n",
      "1563/1563 [==============================] - 2s 1ms/step - loss: 0.0264 - accuracy: 0.9918 - val_loss: 0.0638 - val_accuracy: 0.9809\n",
      "Epoch 79/100\n",
      "1563/1563 [==============================] - 2s 1ms/step - loss: 0.0260 - accuracy: 0.9920 - val_loss: 0.0639 - val_accuracy: 0.9811\n",
      "Epoch 80/100\n",
      "1563/1563 [==============================] - 2s 1ms/step - loss: 0.0260 - accuracy: 0.9921 - val_loss: 0.0635 - val_accuracy: 0.9812\n",
      "Epoch 81/100\n",
      "1563/1563 [==============================] - 2s 1ms/step - loss: 0.0248 - accuracy: 0.9924 - val_loss: 0.0632 - val_accuracy: 0.9814\n",
      "Epoch 82/100\n",
      "1563/1563 [==============================] - 2s 1ms/step - loss: 0.0235 - accuracy: 0.9931 - val_loss: 0.0628 - val_accuracy: 0.9814\n",
      "Epoch 83/100\n",
      "1563/1563 [==============================] - 2s 2ms/step - loss: 0.0240 - accuracy: 0.9927 - val_loss: 0.0630 - val_accuracy: 0.9814\n",
      "Epoch 84/100\n",
      "1563/1563 [==============================] - 2s 2ms/step - loss: 0.0235 - accuracy: 0.9928 - val_loss: 0.0632 - val_accuracy: 0.9818\n",
      "Epoch 85/100\n",
      "1563/1563 [==============================] - 2s 1ms/step - loss: 0.0224 - accuracy: 0.9933 - val_loss: 0.0625 - val_accuracy: 0.9818\n",
      "Epoch 86/100\n",
      "1563/1563 [==============================] - 2s 1ms/step - loss: 0.0230 - accuracy: 0.9925 - val_loss: 0.0634 - val_accuracy: 0.9812\n",
      "Epoch 87/100\n",
      "1563/1563 [==============================] - 2s 2ms/step - loss: 0.0225 - accuracy: 0.9930 - val_loss: 0.0626 - val_accuracy: 0.9807\n",
      "Epoch 88/100\n",
      "1563/1563 [==============================] - 2s 2ms/step - loss: 0.0222 - accuracy: 0.9934 - val_loss: 0.0640 - val_accuracy: 0.9802\n",
      "Epoch 89/100\n",
      "1563/1563 [==============================] - 2s 2ms/step - loss: 0.0216 - accuracy: 0.9930 - val_loss: 0.0633 - val_accuracy: 0.9812\n",
      "Epoch 90/100\n",
      "1563/1563 [==============================] - 2s 2ms/step - loss: 0.0224 - accuracy: 0.9929 - val_loss: 0.0620 - val_accuracy: 0.9815\n",
      "Epoch 91/100\n",
      "1563/1563 [==============================] - 2s 2ms/step - loss: 0.0217 - accuracy: 0.9931 - val_loss: 0.0626 - val_accuracy: 0.9815\n",
      "Epoch 92/100\n",
      "1563/1563 [==============================] - 2s 2ms/step - loss: 0.0197 - accuracy: 0.9938 - val_loss: 0.0629 - val_accuracy: 0.9816\n",
      "Epoch 93/100\n",
      "1563/1563 [==============================] - 2s 2ms/step - loss: 0.0206 - accuracy: 0.9937 - val_loss: 0.0634 - val_accuracy: 0.9811\n",
      "Epoch 94/100\n",
      "1563/1563 [==============================] - 2s 2ms/step - loss: 0.0209 - accuracy: 0.9936 - val_loss: 0.0614 - val_accuracy: 0.9815\n",
      "Epoch 95/100\n",
      "1563/1563 [==============================] - 2s 2ms/step - loss: 0.0198 - accuracy: 0.9939 - val_loss: 0.0622 - val_accuracy: 0.9817\n",
      "Epoch 96/100\n",
      "1563/1563 [==============================] - 2s 2ms/step - loss: 0.0191 - accuracy: 0.9939 - val_loss: 0.0633 - val_accuracy: 0.9819\n",
      "Epoch 97/100\n",
      "1563/1563 [==============================] - 3s 2ms/step - loss: 0.0196 - accuracy: 0.9942 - val_loss: 0.0628 - val_accuracy: 0.9807\n",
      "Epoch 98/100\n",
      "1563/1563 [==============================] - 2s 2ms/step - loss: 0.0202 - accuracy: 0.9943 - val_loss: 0.0621 - val_accuracy: 0.9816\n",
      "Epoch 99/100\n",
      "1563/1563 [==============================] - 2s 1ms/step - loss: 0.0189 - accuracy: 0.9942 - val_loss: 0.0634 - val_accuracy: 0.9812\n",
      "Epoch 100/100\n",
      "1563/1563 [==============================] - 2s 1ms/step - loss: 0.0185 - accuracy: 0.9947 - val_loss: 0.0631 - val_accuracy: 0.9813\n"
     ]
    }
   ],
   "source": [
    "# settings\n",
    "batch_size = 32\n",
    "nb_epoch = 100\n",
    "\n",
    "# train the model and save training history\n",
    "history = model.fit(X_train, y_train,\n",
    "          batch_size=batch_size, \n",
    "          epochs=nb_epoch, \n",
    "          verbose=1, \n",
    "          validation_split=1.0/6.0, # set 10K samples (out of 60K) aside for validation\n",
    ")\n",
    "\n",
    "# save model weights to file\n",
    "model.save_weights('mnist_multilayer_perceptron.h5')"
   ]
  },
  {
   "cell_type": "markdown",
   "metadata": {},
   "source": [
    "## Plot training behaviour"
   ]
  },
  {
   "cell_type": "code",
   "execution_count": 7,
   "metadata": {
    "scrolled": true
   },
   "outputs": [
    {
     "data": {
      "image/png": "[encoded data removed]",
      "text/plain": [
       "<Figure size 1440x360 with 2 Axes>"
      ]
     },
     "metadata": {
      "needs_background": "light"
     },
     "output_type": "display_data"
    }
   ],
   "source": [
    "# summarize history for loss and accuracy\n",
    "\n",
    "fig, (ax1, ax2) = plt.subplots(1, 2, figsize=(20,5))\n",
    "\n",
    "ax1.plot(history.history['loss'])\n",
    "ax1.plot(history.history['val_loss'])\n",
    "ax1.set_ylabel('loss')\n",
    "ax1.set_xlabel('epoch')\n",
    "ax1.legend(['training', 'validation'], loc='upper right')\n",
    "ax1.yaxis.grid()\n",
    "\n",
    "ax2.plot(history.history['accuracy'])\n",
    "ax2.plot(history.history['val_accuracy'])\n",
    "ax2.set_ylabel('accuracy')\n",
    "ax2.set_xlabel('epoch')\n",
    "ax2.legend(['training', 'validation'], loc='upper left')\n",
    "ax2.yaxis.grid()\n",
    "\n",
    "plt.show()"
   ]
  },
  {
   "cell_type": "markdown",
   "metadata": {},
   "source": [
    "## Evaluate the model on the test set"
   ]
  },
  {
   "cell_type": "code",
   "execution_count": 8,
   "metadata": {},
   "outputs": [
    {
     "name": "stdout",
     "output_type": "stream",
     "text": [
      "Model: \"sequential\"\n",
      "_________________________________________________________________\n",
      "Layer (type)                 Output Shape              Param #   \n",
      "=================================================================\n",
      "dense (Dense)                multiple                  615440    \n",
      "_________________________________________________________________\n",
      "dropout (Dropout)            multiple                  0         \n",
      "_________________________________________________________________\n",
      "dense_1 (Dense)              multiple                  401920    \n",
      "_________________________________________________________________\n",
      "dropout_1 (Dropout)          multiple                  0         \n",
      "_________________________________________________________________\n",
      "dense_2 (Dense)              multiple                  5130      \n",
      "=================================================================\n",
      "Total params: 1,022,490\n",
      "Trainable params: 1,022,490\n",
      "Non-trainable params: 0\n",
      "_________________________________________________________________\n",
      "Test loss: 0.05840121954679489\n",
      "Test accuracy: 0.982699990272522\n"
     ]
    }
   ],
   "source": [
    "# load model weights from file\n",
    "model.load_weights('mnist_multilayer_perceptron.h5')\n",
    "model.summary()\n",
    "score = model.evaluate(X_test, y_test, verbose=0)\n",
    "print('Test loss:', score[0]) \n",
    "print('Test accuracy:', score[1])"
   ]
  },
  {
   "cell_type": "markdown",
   "metadata": {},
   "source": [
    "If you followed the instructions and did not haste to apply optimisations (the point here is to learn, not get the best model), you should have obtained a similar accuracy as in the previous tutorial. However, we now have a more complex model, we would like better performance ! (see below)"
   ]
  },
  {
   "cell_type": "markdown",
   "metadata": {},
   "source": [
    "## Try the following\n",
    "\n",
    "1) Change the hidden layer activation from 'sigmoid' to 'relu' and retrain ! you should see a huge difference !\n",
    "\n",
    "2) Add more layers, one by one, and see what happens !\n",
    "\n",
    "3) Add the optimisations you've made with your Linear Regression model (e.g. momentum, adam optimizer, etc) - the improvements should accumulate\n",
    "\n",
    "4) Try training for more epochs\n",
    "\n",
    "5) Can you get to the point where the model overfits the training data ?\n",
    "\n",
    "6) Share your best results !"
   ]
  },
  {
   "cell_type": "markdown",
   "metadata": {},
   "source": [
    "## Going further\n",
    "\n",
    "If you like what you've seen so far, here are some tips to go further:\n",
    "\n",
    "* try changing the dataset to something more difficult: CIFAR10, CIFAR100\n",
    "\n",
    "* read more about regularization techniques\n",
    "\n",
    "* try to get your model to overfit to the point where generalisation decreases\n",
    "\n",
    "There are so many resources available online in this field !"
   ]
  }
 ],
 "metadata": {
  "kernelspec": {
   "display_name": "Python 3",
   "language": "python",
   "name": "python3"
  },
  "language_info": {
   "codemirror_mode": {
    "name": "ipython",
    "version": 3
   },
   "file_extension": ".py",
   "mimetype": "text/x-python",
   "name": "python",
   "nbconvert_exporter": "python",
   "pygments_lexer": "ipython3",
   "version": "3.7.9"
  }
 },
 "nbformat": 4,
 "nbformat_minor": 2
}
