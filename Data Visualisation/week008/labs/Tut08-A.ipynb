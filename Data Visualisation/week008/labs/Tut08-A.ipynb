{
 "cells": [
  {
   "cell_type": "markdown",
   "id": "timely-logistics",
   "metadata": {},
   "source": [
    "# Tutoral 08 A Dashboards"
   ]
  },
  {
   "cell_type": "code",
   "execution_count": 8,
   "id": "opponent-venue",
   "metadata": {},
   "outputs": [],
   "source": [
    "import matplotlib.pyplot as plt\n",
    "import numpy as np\n",
    "import seaborn as sns\n",
    "import pandas as pd\n",
    "import panel as pn # for making dashboards\n",
    "import hvplot.pandas\n",
    "pn.extension()"
   ]
  },
  {
   "cell_type": "markdown",
   "id": "specialized-mistake",
   "metadata": {},
   "source": [
    "### 1. Dashboard for website"
   ]
  },
  {
   "cell_type": "code",
   "execution_count": 9,
   "id": "brown-peripheral",
   "metadata": {},
   "outputs": [
    {
     "name": "stdout",
     "output_type": "stream",
     "text": [
      "             001  002  003  004  005  006  007  008  009  010  ...  158  159  \\\n",
      "Date                                                           ...             \n",
      "2019-01-01  1062   33   67   42    0    4    0    0    1   69  ...    0    0   \n",
      "2019-01-02   976   41   72   19    2    0    0   14    1   62  ...    5    0   \n",
      "2019-01-03   956   27   71   28    4    6   11    0    0   64  ...    0    0   \n",
      "2019-01-04   976   30   57   29    0    0    3    0    2   52  ...    0    2   \n",
      "2019-01-05   956   45   65   27    4    1    0    0    0   55  ...   12    0   \n",
      "\n",
      "            160  161  162  163  164  165  166  167  \n",
      "Date                                                \n",
      "2019-01-01    4    0   10    2    2    2    0    0  \n",
      "2019-01-02    0    7    0    0    0    0    1    3  \n",
      "2019-01-03    0    0    6    0    0    3    0    0  \n",
      "2019-01-04    0    0    0    0    0    0    0    7  \n",
      "2019-01-05    0    4    0    0    0    0    5    2  \n",
      "\n",
      "[5 rows x 167 columns]\n",
      "           Size    Hits      Revenue     Viewing   Download       Exit\n",
      "001  106.153936  379682  1972.142118  175.438381   7.601041  24.759071\n",
      "002   79.352399   17401   101.836934   75.474441   7.079163  18.458663\n",
      "003   48.208457   27249   196.146652   10.027850   4.714836  47.518158\n",
      "004  105.709602   11668   102.653630  117.802372  13.995231  32.354706\n",
      "005   43.593542     533     3.060067   12.522355   5.622858  45.828504\n"
     ]
    }
   ],
   "source": [
    "data = pd.read_csv('https://tinyurl.com/ChrisCoDV/Pages/DailyHits.csv', index_col=0)\n",
    "data.index = pd.to_datetime(data.index)\n",
    "print(data.head())\n",
    "\n",
    "exit_rate = pd.read_csv('https://tinyurl.com/ChrisCoDV/Pages/PageExitRate.csv', index_col=0)\n",
    "page_revenue = pd.read_csv('https://tinyurl.com/ChrisCoDV/Pages/PageRevenue.csv', index_col=0)\n",
    "page_size = pd.read_csv('https://tinyurl.com/ChrisCoDV/Pages/PageSize.csv', index_col=0)\n",
    "page_speed = pd.read_csv('https://tinyurl.com/ChrisCoDV/Pages/PageSpeed.csv', index_col=0)\n",
    "page_viewing_time = pd.read_csv('https://tinyurl.com/ChrisCoDV/Pages/PageViewingTime.csv', index_col=0)\n",
    "\n",
    "summary_data = pd.DataFrame(index=data.columns)\n",
    "summary_data['Size'] = page_size.values\n",
    "summary_data['Hits'] = data.sum().values\n",
    "summary_data['Revenue'] = page_revenue.values\n",
    "summary_data['Viewing'] = page_viewing_time.values\n",
    "summary_data['Download'] = page_speed.values\n",
    "summary_data['Exit'] = exit_rate.values\n",
    "print(summary_data.head())"
   ]
  },
  {
   "cell_type": "code",
   "execution_count": 19,
   "id": "virgin-minnesota",
   "metadata": {},
   "outputs": [],
   "source": [
    "variables = list(summary_data.columns)\n",
    "variables\n",
    "selected =  ['001', '015'] + ['002' , '003' , '004' , '010' , '048' , '080' , '155' , '156']\n",
    "data= data[selected]\n",
    "summary_data = summary_data.loc[selected]"
   ]
  },
  {
   "cell_type": "markdown",
   "id": "vanilla-hydrogen",
   "metadata": {},
   "source": [
    "### 2. Modify the time series"
   ]
  },
  {
   "cell_type": "code",
   "execution_count": 20,
   "id": "quarterly-bobby",
   "metadata": {},
   "outputs": [],
   "source": [
    "# selected = ['001', '015'] high vol\n",
    "# ['002' , '003' , '004' , '010' , '048' , '080' , '155' , '156'] # medium volume"
   ]
  },
  {
   "cell_type": "code",
   "execution_count": 21,
   "id": "rocky-default",
   "metadata": {},
   "outputs": [],
   "source": [
    "## function for drawing line plots between two selected groups\n",
    "def get_line_plot(volume, window_size, date_range):\n",
    "    if volume == 'high':\n",
    "        selected =  ['001', '015'] \n",
    "    elif volume == 'medium':\n",
    "        selected = ['002' , '003' , '004' , '010' , '048' , '080' , '155' , '156']\n",
    "    df = data[selected] # restrict to selected products\n",
    "    df = df.loc[pd.to_datetime(date_range[0]) : pd.to_datetime(date_range[1])] # restrict to date range\n",
    "    df = df.rolling(window=window_size).mean() # calculate rolling average\n",
    "    return df.hvplot.line(frame_height=200, frame_width=600, grid=True)\n"
   ]
  },
  {
   "cell_type": "code",
   "execution_count": 26,
   "id": "liable-portugal",
   "metadata": {},
   "outputs": [],
   "source": [
    "time_title = '### Time-Series'\n",
    "\n",
    "volumes = ['high', 'medium']\n",
    "\n",
    "volume = pn.widgets.Select(name='Volume', options=volumes, width=200)\n",
    "day_avg = pn.widgets.IntSlider(name='Day average', value=7, start=1, end=21, width=200)\n",
    "time_date_range = pn.widgets.DateRangeSlider(name='Dates', width=200,\n",
    "                                            value=(data.index[0], data.index[-1]),\n",
    "                                            start=data.index[0], end=data.index[-1])\n",
    "\n",
    "time_row = pn.Row(\n",
    "pn.Column(time_title, volume, day_avg, time_date_range),\n",
    "get_line_plot(volume.options[0], day_avg.value, time_date_range.value)\n",
    ")\n"
   ]
  },
  {
   "cell_type": "code",
   "execution_count": 23,
   "id": "colored-nitrogen",
   "metadata": {},
   "outputs": [
    {
     "data": {},
     "metadata": {},
     "output_type": "display_data"
    },
    {
     "data": {},
     "metadata": {},
     "output_type": "display_data"
    },
    {
     "data": {
      "application/vnd.holoviews_exec.v0+json": "",
      "text/html": [
       "<div id='3633'>\n",
       "\n",
       "\n",
       "\n",
       "\n",
       "\n",
       "  <div class=\"bk-root\" id=\"c127e9a8-7371-4931-adfd-7c5a19babe2d\" data-root-id=\"3633\"></div>\n",
       "</div>\n",
       "<script type=\"application/javascript\">(function(root) {\n",
       "  function embed_document(root) {\n",
       "    var docs_json = {\"393c6f18-99b1-43f1-a12a-f20066b84939\":{\"defs\":[{\"extends\":null,\"module\":null,\"name\":\"DataModel\",\"overrides\":[],\"properties\":[]}],\"roots\":{\"references\":[{\"attributes\":{},\"id\":\"3660\",\"type\":\"SaveTool\"},{\"attributes\":{},\"id\":\"3677\",\"type\":\"AllLabels\"},{\"attributes\":{\"active_multi\":null,\"tools\":[{\"id\":\"3641\"},{\"id\":\"3660\"},{\"id\":\"3661\"},{\"id\":\"3662\"},{\"id\":\"3663\"},{\"id\":\"3664\"}]},\"id\":\"3666\",\"type\":\"Toolbar\"},{\"attributes\":{\"children\":[{\"id\":\"3635\"},{\"id\":\"3636\"},{\"id\":\"3637\"},{\"id\":\"3638\"}],\"margin\":[0,0,0,0],\"name\":\"Column05210\"},\"id\":\"3634\",\"type\":\"Column\"},{\"attributes\":{\"line_color\":\"#30a2da\",\"line_width\":2,\"x\":{\"field\":\"Date\"},\"y\":{\"field\":\"value\"}},\"id\":\"3713\",\"type\":\"Line\"},{\"attributes\":{},\"id\":\"3674\",\"type\":\"AllLabels\"},{\"attributes\":{\"callback\":null,\"formatters\":{\"@{Date}\":\"datetime\"},\"renderers\":[{\"id\":\"3687\"},{\"id\":\"3720\"}],\"tags\":[\"hv_created\"],\"tooltips\":[[\"Variable\",\"@{Variable}\"],[\"Date\",\"@{Date}{%F %T}\"],[\"value\",\"@{value}\"]]},\"id\":\"3641\",\"type\":\"HoverTool\"},{\"attributes\":{},\"id\":\"3682\",\"type\":\"Selection\"},{\"attributes\":{\"client_comm_id\":\"b743a8035ae247cd85633cc16aa6fe15\",\"comm_id\":\"e1574dbc3a614593b55b538f53754e84\",\"plot_id\":\"3633\"},\"id\":\"4036\",\"type\":\"panel.models.comm_manager.CommManager\"},{\"attributes\":{\"data\":{\"Date\":{\"__ndarray__\":\"AADAW2uAdkIAAIDBvYB2QgAAQCcQgXZCAAAAjWKBdkIAAMDytIF2QgAAgFgHgnZCAABAvlmCdkIAAAAkrIJ2QgAAwIn+gnZCAACA71CDdkIAAEBVo4N2QgAAALv1g3ZCAADAIEiEdkIAAICGmoR2QgAAQOzshHZCAAAAUj+FdkIAAMC3kYV2QgAAgB3khXZCAABAgzaGdkIAAADpiIZ2QgAAwE7bhnZCAACAtC2HdkIAAEAagId2QgAAAIDSh3ZCAADA5SSIdkIAAIBLd4h2QgAAQLHJiHZCAAAAFxyJdkIAAMB8bol2QgAAgOLAiXZCAABASBOKdkIAAACuZYp2QgAAwBO4inZCAACAeQqLdkIAAEDfXIt2QgAAAEWvi3ZCAADAqgGMdkIAAIAQVIx2QgAAQHamjHZCAAAA3PiMdkIAAMBBS412QgAAgKedjXZCAABADfCNdkIAAABzQo52QgAAwNiUjnZCAACAPueOdkIAAECkOY92QgAAAAqMj3ZCAADAb96PdkIAAIDVMJB2QgAAQDuDkHZCAAAAodWQdkIAAMAGKJF2QgAAgGx6kXZCAABA0syRdkIAAAA4H5J2QgAAwJ1xknZCAACAA8SSdkIAAEBpFpN2QgAAAM9ok3ZCAADANLuTdkIAAICaDZR2QgAAQABglHZCAAAAZrKUdkIAAMDLBJV2QgAAgDFXlXZCAABAl6mVdkIAAAD9+5V2QgAAwGJOlnZCAACAyKCWdkIAAEAu85Z2QgAAAJRFl3ZCAADA+ZeXdkIAAIBf6pd2QgAAQMU8mHZCAAAAK4+YdkIAAMCQ4Zh2QgAAgPYzmXZCAABAXIaZdkIAAADC2Jl2QgAAwCcrmnZCAACAjX2adkIAAEDzz5p2QgAAAFkim3ZCAADAvnSbdkIAAIAkx5t2QgAAQIoZnHZCAAAA8GucdkIAAMBVvpx2QgAAgLsQnXZCAABAIWOddkIAAACHtZ12QgAAwOwHnnZCAACAUlqedkIAAEC4rJ52QgAAAB7/nnZCAADAg1GfdkIAAIDpo592QgAAQE/2n3ZCAAAAtUigdkIAAMAam6B2QgAAgIDtoHZCAABA5j+hdkIAAABMkqF2QgAAwLHkoXZCAACAFzeidkIAAEB9iaJ2QgAAAOPbonZCAADASC6jdkIAAICugKN2QgAAQBTTo3ZCAAAAeiWkdkIAAMDfd6R2QgAAgEXKpHZCAABAqxyldkIAAAARb6V2QgAAwHbBpXZCAACA3BOmdkIAAEBCZqZ2QgAAAKi4pnZCAADADQundkIAAIBzXad2QgAAQNmvp3ZCAAAAPwKodkIAAMCkVKh2QgAAgAqnqHZCAABAcPmodkIAAADWS6l2QgAAwDueqXZCAACAofCpdkIAAEAHQ6p2QgAAAG2VqnZCAADA0ueqdkIAAIA4Oqt2QgAAQJ6Mq3ZCAAAABN+rdkIAAMBpMax2QgAAgM+DrHZCAABANdasdkIAAACbKK12QgAAwAB7rXZCAACAZs2tdkIAAEDMH652QgAAADJyrnZCAADAl8SudkIAAID9Fq92QgAAQGNpr3ZCAAAAybuvdkIAAMAuDrB2QgAAgJRgsHZCAABA+rKwdkIAAABgBbF2QgAAwMVXsXZCAACAK6qxdkIAAECR/LF2QgAAAPdOsnZCAADAXKGydkIAAIDC87J2QgAAQChGs3ZCAAAAjpizdkIAAMDz6rN2QgAAgFk9tHZCAABAv4+0dkIAAAAl4rR2QgAAwIo0tXZCAACA8Ia1dkIAAEBW2bV2QgAAALwrtnZCAADAIX62dkIAAICH0LZ2QgAAQO0it3ZCAAAAU3W3dkIAAMC4x7d2QgAAgB4auHZCAABAhGy4dkIAAADqvrh2QgAAwE8RuXZCAACAtWO5dkIAAEAbtrl2QgAAAIEIunZCAADA5lq6dkIAAIBMrbp2QgAAQLL/unZCAAAAGFK7dkIAAMB9pLt2QgAAgOP2u3ZCAABASUm8dkIAAACvm7x2QgAAwBTuvHZCAACAekC9dkIAAEDgkr12QgAAAEblvXZCAADAqze+dkIAAIARir52QgAAQHfcvnZCAAAA3S6/dkIAAMBCgb92QgAAgKjTv3ZCAABADibAdkIAAAB0eMB2QgAAwNnKwHZCAACAPx3BdkIAAEClb8F2QgAAAAvCwXZCAADAcBTCdkIAAIDWZsJ2QgAAQDy5wnZCAAAAogvDdkIAAMAHXsN2QgAAgG2ww3ZCAABA0wLEdkIAAAA5VcR2QgAAwJ6nxHZCAACABPrEdkIAAEBqTMV2QgAAANCexXZCAADANfHFdkIAAICbQ8Z2QgAAQAGWxnZCAAAAZ+jGdkIAAMDMOsd2QgAAgDKNx3ZCAABAmN/HdkIAAAD+Mch2QgAAwGOEyHZCAACAydbIdkIAAEAvKcl2QgAAAJV7yXZCAADA+s3JdkIAAIBgIMp2QgAAQMZyynZCAAAALMXKdkIAAMCRF8t2QgAAgPdpy3ZCAABAXbzLdkIAAADDDsx2QgAAwChhzHZCAACAjrPMdkIAAED0Bc12QgAAAFpYzXZCAADAv6rNdkIAAIAl/c12QgAAQItPznZCAAAA8aHOdkIAAMBW9M52QgAAgLxGz3ZCAABAIpnPdkIAAACI6892QgAAwO090HZCAACAU5DQdkIAAEC54tB2QgAAAB810XZCAADAhIfRdkIAAIDq2dF2QgAAQFAs0nZCAAAAtn7SdkIAAMAb0dJ2QgAAgIEj03ZCAABA53XTdkIAAABNyNN2QgAAwLIa1HZCAACAGG3UdkIAAEB+v9R2QgAAAOQR1XZCAADASWTVdkIAAICvttV2QgAAQBUJ1nZCAAAAe1vWdkIAAMDgrdZ2QgAAgEYA13ZCAABArFLXdkIAAAASpdd2QgAAwHf313ZCAACA3UnYdkIAAEBDnNh2QgAAAKnu2HZCAADADkHZdkIAAIB0k9l2QgAAQNrl2XZCAAAAQDjadkIAAMClitp2QgAAgAvd2nZCAABAcS/bdkIAAADXgdt2QgAAwDzU23ZCAACAoibcdkIAAEAIedx2QgAAAG7L3HZCAADA0x3ddkIAAIA5cN12QgAAQJ/C3XZCAAAABRXedkIAAMBqZ952QgAAgNC53nZCAABANgzfdkIAAACcXt92QgAAwAGx33ZCAACAZwPgdkIAAEDNVeB2QgAAADOo4HZCAADAmPrgdkIAAID+TOF2QgAAQGSf4XZCAAAAyvHhdkIAAMAvROJ2QgAAgJWW4nZCAABA++jidkIAAABhO+N2QgAAwMaN43ZCAACALODjdkIAAECSMuR2QgAAAPiE5HZCAADAXdfkdkIAAIDDKeV2QgAAQCl85XZCAAAAj87ldkIAAMD0IOZ2QgAAgFpz5nZCAABAwMXmdkIAAAAmGOd2QgAAwItq53ZCAACA8bzndkIAAEBXD+h2QgAAAL1h6HZCAADAIrTodkIAAICIBul2QgAAQO5Y6XZCAAAAVKvpdkIAAMC5/el2QgAAgB9Q6nZCAABAhaLqdkIAAADr9Op2QgAAwFBH63ZCAACAtpnrdkIAAEAc7Ot2QgAAAII+7HZCAADA55DsdkIAAIBN4+x2QgAAQLM17XZCAAAAGYjtdkIAAMB+2u12QgAAgOQs7nZCAABASn/udkIAAACw0e52QgAAwBUk73ZCAACAe3bvdkIAAEDhyO92QgAAAEcb8HZCAADArG3wdkIAAIASwPB2QgAAQHgS8XZCAAAA3mTxdkIAAMBDt/F2QgAAgKkJ8nZCAABAD1zydkIAAAB1rvJ2QgAAwNoA83ZCAACAQFPzdkIAAECmpfN2QgAAAAz483ZCAADAcUr0dkIAAIDXnPR2QgAAQD3v9HZCAAAAo0H1dkIAAMAIlPV2Qg==\",\"dtype\":\"float64\",\"order\":\"little\",\"shape\":[365]},\"Variable\":[\"015\",\"015\",\"015\",\"015\",\"015\",\"015\",\"015\",\"015\",\"015\",\"015\",\"015\",\"015\",\"015\",\"015\",\"015\",\"015\",\"015\",\"015\",\"015\",\"015\",\"015\",\"015\",\"015\",\"015\",\"015\",\"015\",\"015\",\"015\",\"015\",\"015\",\"015\",\"015\",\"015\",\"015\",\"015\",\"015\",\"015\",\"015\",\"015\",\"015\",\"015\",\"015\",\"015\",\"015\",\"015\",\"015\",\"015\",\"015\",\"015\",\"015\",\"015\",\"015\",\"015\",\"015\",\"015\",\"015\",\"015\",\"015\",\"015\",\"015\",\"015\",\"015\",\"015\",\"015\",\"015\",\"015\",\"015\",\"015\",\"015\",\"015\",\"015\",\"015\",\"015\",\"015\",\"015\",\"015\",\"015\",\"015\",\"015\",\"015\",\"015\",\"015\",\"015\",\"015\",\"015\",\"015\",\"015\",\"015\",\"015\",\"015\",\"015\",\"015\",\"015\",\"015\",\"015\",\"015\",\"015\",\"015\",\"015\",\"015\",\"015\",\"015\",\"015\",\"015\",\"015\",\"015\",\"015\",\"015\",\"015\",\"015\",\"015\",\"015\",\"015\",\"015\",\"015\",\"015\",\"015\",\"015\",\"015\",\"015\",\"015\",\"015\",\"015\",\"015\",\"015\",\"015\",\"015\",\"015\",\"015\",\"015\",\"015\",\"015\",\"015\",\"015\",\"015\",\"015\",\"015\",\"015\",\"015\",\"015\",\"015\",\"015\",\"015\",\"015\",\"015\",\"015\",\"015\",\"015\",\"015\",\"015\",\"015\",\"015\",\"015\",\"015\",\"015\",\"015\",\"015\",\"015\",\"015\",\"015\",\"015\",\"015\",\"015\",\"015\",\"015\",\"015\",\"015\",\"015\",\"015\",\"015\",\"015\",\"015\",\"015\",\"015\",\"015\",\"015\",\"015\",\"015\",\"015\",\"015\",\"015\",\"015\",\"015\",\"015\",\"015\",\"015\",\"015\",\"015\",\"015\",\"015\",\"015\",\"015\",\"015\",\"015\",\"015\",\"015\",\"015\",\"015\",\"015\",\"015\",\"015\",\"015\",\"015\",\"015\",\"015\",\"015\",\"015\",\"015\",\"015\",\"015\",\"015\",\"015\",\"015\",\"015\",\"015\",\"015\",\"015\",\"015\",\"015\",\"015\",\"015\",\"015\",\"015\",\"015\",\"015\",\"015\",\"015\",\"015\",\"015\",\"015\",\"015\",\"015\",\"015\",\"015\",\"015\",\"015\",\"015\",\"015\",\"015\",\"015\",\"015\",\"015\",\"015\",\"015\",\"015\",\"015\",\"015\",\"015\",\"015\",\"015\",\"015\",\"015\",\"015\",\"015\",\"015\",\"015\",\"015\",\"015\",\"015\",\"015\",\"015\",\"015\",\"015\",\"015\",\"015\",\"015\",\"015\",\"015\",\"015\",\"015\",\"015\",\"015\",\"015\",\"015\",\"015\",\"015\",\"015\",\"015\",\"015\",\"015\",\"015\",\"015\",\"015\",\"015\",\"015\",\"015\",\"015\",\"015\",\"015\",\"015\",\"015\",\"015\",\"015\",\"015\",\"015\",\"015\",\"015\",\"015\",\"015\",\"015\",\"015\",\"015\",\"015\",\"015\",\"015\",\"015\",\"015\",\"015\",\"015\",\"015\",\"015\",\"015\",\"015\",\"015\",\"015\",\"015\",\"015\",\"015\",\"015\",\"015\",\"015\",\"015\",\"015\",\"015\",\"015\",\"015\",\"015\",\"015\",\"015\",\"015\",\"015\",\"015\",\"015\",\"015\",\"015\",\"015\",\"015\",\"015\",\"015\",\"015\",\"015\",\"015\",\"015\",\"015\",\"015\",\"015\",\"015\",\"015\",\"015\",\"015\",\"015\",\"015\",\"015\",\"015\",\"015\",\"015\",\"015\",\"015\",\"015\",\"015\",\"015\",\"015\",\"015\",\"015\",\"015\"],\"value\":{\"__ndarray__\":\"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\",\"dtype\":\"float64\",\"order\":\"little\",\"shape\":[365]}},\"selected\":{\"id\":\"3715\"},\"selection_policy\":{\"id\":\"3744\"}},\"id\":\"3714\",\"type\":\"ColumnDataSource\"},{\"attributes\":{},\"id\":\"3676\",\"type\":\"BasicTickFormatter\"},{\"attributes\":{\"end\":21,\"margin\":[5,10,5,10],\"min_width\":200,\"start\":1,\"title\":\"Day average\",\"value\":7,\"width\":200},\"id\":\"3637\",\"type\":\"Slider\"},{\"attributes\":{\"data_source\":{\"id\":\"3681\"},\"glyph\":{\"id\":\"3684\"},\"hover_glyph\":null,\"muted_glyph\":{\"id\":\"3686\"},\"nonselection_glyph\":{\"id\":\"3685\"},\"selection_glyph\":{\"id\":\"3713\"},\"view\":{\"id\":\"3688\"}},\"id\":\"3687\",\"type\":\"GlyphRenderer\"},{\"attributes\":{\"mantissas\":[1,2,5],\"max_interval\":500.0,\"num_minor_ticks\":0},\"id\":\"3696\",\"type\":\"AdaptiveTicker\"},{\"attributes\":{\"base\":60,\"mantissas\":[1,2,5,10,15,20,30],\"max_interval\":1800000.0,\"min_interval\":1000.0,\"num_minor_ticks\":0},\"id\":\"3697\",\"type\":\"AdaptiveTicker\"},{\"attributes\":{\"source\":{\"id\":\"3681\"}},\"id\":\"3688\",\"type\":\"CDSView\"},{\"attributes\":{\"children\":[{\"id\":\"3634\"},{\"id\":\"3643\"}],\"margin\":[0,0,0,0],\"name\":\"Row05312\"},\"id\":\"3633\",\"type\":\"Row\"},{\"attributes\":{\"line_color\":\"#fc4f30\",\"line_width\":2,\"x\":{\"field\":\"Date\"},\"y\":{\"field\":\"value\"}},\"id\":\"3717\",\"type\":\"Line\"},{\"attributes\":{\"days\":[1,2,3,4,5,6,7,8,9,10,11,12,13,14,15,16,17,18,19,20,21,22,23,24,25,26,27,28,29,30,31]},\"id\":\"3699\",\"type\":\"DaysTicker\"},{\"attributes\":{\"data_source\":{\"id\":\"3714\"},\"glyph\":{\"id\":\"3717\"},\"hover_glyph\":null,\"muted_glyph\":{\"id\":\"3719\"},\"nonselection_glyph\":{\"id\":\"3718\"},\"selection_glyph\":{\"id\":\"3747\"},\"view\":{\"id\":\"3721\"}},\"id\":\"3720\",\"type\":\"GlyphRenderer\"},{\"attributes\":{\"end\":1577750400000.0,\"reset_end\":1577750400000.0,\"reset_start\":1546300800000.0,\"start\":1546300800000.0,\"tags\":[[[\"Date\",\"Date\",null]]]},\"id\":\"3639\",\"type\":\"Range1d\"},{\"attributes\":{\"label\":{\"value\":\"001\"},\"renderers\":[{\"id\":\"3687\"}]},\"id\":\"3712\",\"type\":\"LegendItem\"},{\"attributes\":{\"base\":24,\"mantissas\":[1,2,4,6,8,12],\"max_interval\":43200000.0,\"min_interval\":3600000.0,\"num_minor_ticks\":0},\"id\":\"3698\",\"type\":\"AdaptiveTicker\"},{\"attributes\":{\"line_color\":\"#30a2da\",\"line_width\":2,\"x\":{\"field\":\"Date\"},\"y\":{\"field\":\"value\"}},\"id\":\"3684\",\"type\":\"Line\"},{\"attributes\":{\"data\":{\"Date\":{\"__ndarray__\":\"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\",\"dtype\":\"float64\",\"order\":\"little\",\"shape\":[365]},\"Variable\":[\"001\",\"001\",\"001\",\"001\",\"001\",\"001\",\"001\",\"001\",\"001\",\"001\",\"001\",\"001\",\"001\",\"001\",\"001\",\"001\",\"001\",\"001\",\"001\",\"001\",\"001\",\"001\",\"001\",\"001\",\"001\",\"001\",\"001\",\"001\",\"001\",\"001\",\"001\",\"001\",\"001\",\"001\",\"001\",\"001\",\"001\",\"001\",\"001\",\"001\",\"001\",\"001\",\"001\",\"001\",\"001\",\"001\",\"001\",\"001\",\"001\",\"001\",\"001\",\"001\",\"001\",\"001\",\"001\",\"001\",\"001\",\"001\",\"001\",\"001\",\"001\",\"001\",\"001\",\"001\",\"001\",\"001\",\"001\",\"001\",\"001\",\"001\",\"001\",\"001\",\"001\",\"001\",\"001\",\"001\",\"001\",\"001\",\"001\",\"001\",\"001\",\"001\",\"001\",\"001\",\"001\",\"001\",\"001\",\"001\",\"001\",\"001\",\"001\",\"001\",\"001\",\"001\",\"001\",\"001\",\"001\",\"001\",\"001\",\"001\",\"001\",\"001\",\"001\",\"001\",\"001\",\"001\",\"001\",\"001\",\"001\",\"001\",\"001\",\"001\",\"001\",\"001\",\"001\",\"001\",\"001\",\"001\",\"001\",\"001\",\"001\",\"001\",\"001\",\"001\",\"001\",\"001\",\"001\",\"001\",\"001\",\"001\",\"001\",\"001\",\"001\",\"001\",\"001\",\"001\",\"001\",\"001\",\"001\",\"001\",\"001\",\"001\",\"001\",\"001\",\"001\",\"001\",\"001\",\"001\",\"001\",\"001\",\"001\",\"001\",\"001\",\"001\",\"001\",\"001\",\"001\",\"001\",\"001\",\"001\",\"001\",\"001\",\"001\",\"001\",\"001\",\"001\",\"001\",\"001\",\"001\",\"001\",\"001\",\"001\",\"001\",\"001\",\"001\",\"001\",\"001\",\"001\",\"001\",\"001\",\"001\",\"001\",\"001\",\"001\",\"001\",\"001\",\"001\",\"001\",\"001\",\"001\",\"001\",\"001\",\"001\",\"001\",\"001\",\"001\",\"001\",\"001\",\"001\",\"001\",\"001\",\"001\",\"001\",\"001\",\"001\",\"001\",\"001\",\"001\",\"001\",\"001\",\"001\",\"001\",\"001\",\"001\",\"001\",\"001\",\"001\",\"001\",\"001\",\"001\",\"001\",\"001\",\"001\",\"001\",\"001\",\"001\",\"001\",\"001\",\"001\",\"001\",\"001\",\"001\",\"001\",\"001\",\"001\",\"001\",\"001\",\"001\",\"001\",\"001\",\"001\",\"001\",\"001\",\"001\",\"001\",\"001\",\"001\",\"001\",\"001\",\"001\",\"001\",\"001\",\"001\",\"001\",\"001\",\"001\",\"001\",\"001\",\"001\",\"001\",\"001\",\"001\",\"001\",\"001\",\"001\",\"001\",\"001\",\"001\",\"001\",\"001\",\"001\",\"001\",\"001\",\"001\",\"001\",\"001\",\"001\",\"001\",\"001\",\"001\",\"001\",\"001\",\"001\",\"001\",\"001\",\"001\",\"001\",\"001\",\"001\",\"001\",\"001\",\"001\",\"001\",\"001\",\"001\",\"001\",\"001\",\"001\",\"001\",\"001\",\"001\",\"001\",\"001\",\"001\",\"001\",\"001\",\"001\",\"001\",\"001\",\"001\",\"001\",\"001\",\"001\",\"001\",\"001\",\"001\",\"001\",\"001\",\"001\",\"001\",\"001\",\"001\",\"001\",\"001\",\"001\",\"001\",\"001\",\"001\",\"001\",\"001\",\"001\",\"001\",\"001\",\"001\",\"001\",\"001\",\"001\",\"001\",\"001\",\"001\",\"001\",\"001\",\"001\",\"001\",\"001\",\"001\",\"001\",\"001\",\"001\",\"001\",\"001\",\"001\",\"001\",\"001\",\"001\",\"001\",\"001\",\"001\",\"001\",\"001\",\"001\",\"001\",\"001\",\"001\",\"001\"],\"value\":{\"__ndarray__\":\"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\",\"dtype\":\"float64\",\"order\":\"little\",\"shape\":[365]}},\"selected\":{\"id\":\"3682\"},\"selection_policy\":{\"id\":\"3709\"}},\"id\":\"3681\",\"type\":\"ColumnDataSource\"},{\"attributes\":{\"line_alpha\":0.1,\"line_color\":\"#30a2da\",\"line_width\":2,\"x\":{\"field\":\"Date\"},\"y\":{\"field\":\"value\"}},\"id\":\"3685\",\"type\":\"Line\"},{\"attributes\":{\"months\":[0,1,2,3,4,5,6,7,8,9,10,11]},\"id\":\"3703\",\"type\":\"MonthsTicker\"},{\"attributes\":{\"line_alpha\":0.1,\"line_color\":\"#fc4f30\",\"line_width\":2,\"x\":{\"field\":\"Date\"},\"y\":{\"field\":\"value\"}},\"id\":\"3718\",\"type\":\"Line\"},{\"attributes\":{\"text_color\":\"black\",\"text_font_size\":\"12pt\"},\"id\":\"3644\",\"type\":\"Title\"},{\"attributes\":{\"line_alpha\":0.2,\"line_color\":\"#30a2da\",\"line_width\":2,\"x\":{\"field\":\"Date\"},\"y\":{\"field\":\"value\"}},\"id\":\"3686\",\"type\":\"Line\"},{\"attributes\":{\"line_color\":\"#fc4f30\",\"line_width\":2,\"x\":{\"field\":\"Date\"},\"y\":{\"field\":\"value\"}},\"id\":\"3747\",\"type\":\"Line\"},{\"attributes\":{\"days\":[1,4,7,10,13,16,19,22,25,28]},\"id\":\"3700\",\"type\":\"DaysTicker\"},{\"attributes\":{\"months\":[0,2,4,6,8,10]},\"id\":\"3704\",\"type\":\"MonthsTicker\"},{\"attributes\":{\"days\":[1,15]},\"id\":\"3702\",\"type\":\"DaysTicker\"},{\"attributes\":{\"months\":[0,6]},\"id\":\"3706\",\"type\":\"MonthsTicker\"},{\"attributes\":{\"end\":1577750400000.0,\"margin\":[5,10,5,10],\"min_width\":200,\"start\":1546300800000.0,\"title\":\"Dates\",\"value\":[1546300800000.0,1577750400000.0],\"width\":200},\"id\":\"3638\",\"type\":\"DateRangeSlider\"},{\"attributes\":{},\"id\":\"3673\",\"type\":\"DatetimeTickFormatter\"},{\"attributes\":{\"days\":[1,8,15,22]},\"id\":\"3701\",\"type\":\"DaysTicker\"},{\"attributes\":{},\"id\":\"3707\",\"type\":\"YearsTicker\"},{\"attributes\":{\"click_policy\":\"mute\",\"items\":[{\"id\":\"3712\"},{\"id\":\"3746\"}],\"location\":[0,0],\"title\":\"Variable\"},\"id\":\"3711\",\"type\":\"Legend\"},{\"attributes\":{\"line_alpha\":0.2,\"line_color\":\"#fc4f30\",\"line_width\":2,\"x\":{\"field\":\"Date\"},\"y\":{\"field\":\"value\"}},\"id\":\"3719\",\"type\":\"Line\"},{\"attributes\":{\"months\":[0,4,8]},\"id\":\"3705\",\"type\":\"MonthsTicker\"},{\"attributes\":{},\"id\":\"3661\",\"type\":\"PanTool\"},{\"attributes\":{\"source\":{\"id\":\"3714\"}},\"id\":\"3721\",\"type\":\"CDSView\"},{\"attributes\":{\"label\":{\"value\":\"015\"},\"renderers\":[{\"id\":\"3720\"}]},\"id\":\"3746\",\"type\":\"LegendItem\"},{\"attributes\":{},\"id\":\"3650\",\"type\":\"LinearScale\"},{\"attributes\":{},\"id\":\"3744\",\"type\":\"UnionRenderers\"},{\"attributes\":{},\"id\":\"3648\",\"type\":\"LinearScale\"},{\"attributes\":{},\"id\":\"3657\",\"type\":\"BasicTicker\"},{\"attributes\":{\"margin\":[5,10,5,10],\"min_width\":200,\"options\":[\"high\",\"medium\"],\"title\":\"Volume\",\"value\":\"high\",\"width\":200},\"id\":\"3636\",\"type\":\"Select\"},{\"attributes\":{},\"id\":\"3662\",\"type\":\"WheelZoomTool\"},{\"attributes\":{\"num_minor_ticks\":5,\"tickers\":[{\"id\":\"3696\"},{\"id\":\"3697\"},{\"id\":\"3698\"},{\"id\":\"3699\"},{\"id\":\"3700\"},{\"id\":\"3701\"},{\"id\":\"3702\"},{\"id\":\"3703\"},{\"id\":\"3704\"},{\"id\":\"3705\"},{\"id\":\"3706\"},{\"id\":\"3707\"}]},\"id\":\"3653\",\"type\":\"DatetimeTicker\"},{\"attributes\":{},\"id\":\"3715\",\"type\":\"Selection\"},{\"attributes\":{\"bottom_units\":\"screen\",\"fill_alpha\":0.5,\"fill_color\":\"lightgrey\",\"left_units\":\"screen\",\"level\":\"overlay\",\"line_alpha\":1.0,\"line_color\":\"black\",\"line_dash\":[4,4],\"line_width\":2,\"right_units\":\"screen\",\"syncable\":false,\"top_units\":\"screen\"},\"id\":\"3665\",\"type\":\"BoxAnnotation\"},{\"attributes\":{\"overlay\":{\"id\":\"3665\"}},\"id\":\"3663\",\"type\":\"BoxZoomTool\"},{\"attributes\":{\"css_classes\":[\"markdown\"],\"margin\":[5,5,5,5],\"name\":\"Markdown05208\",\"text\":\"&lt;h3&gt;Time-Series&lt;/h3&gt;\"},\"id\":\"3635\",\"type\":\"panel.models.markup.HTML\"},{\"attributes\":{\"axis\":{\"id\":\"3656\"},\"dimension\":1,\"ticker\":{\"id\":\"3657\"}},\"id\":\"3659\",\"type\":\"Grid\"},{\"attributes\":{\"axis_label\":\"Date\",\"formatter\":{\"id\":\"3673\"},\"major_label_policy\":{\"id\":\"3674\"},\"ticker\":{\"id\":\"3653\"}},\"id\":\"3652\",\"type\":\"DatetimeAxis\"},{\"attributes\":{\"axis_label\":\"\",\"formatter\":{\"id\":\"3676\"},\"major_label_policy\":{\"id\":\"3677\"},\"ticker\":{\"id\":\"3657\"}},\"id\":\"3656\",\"type\":\"LinearAxis\"},{\"attributes\":{\"axis\":{\"id\":\"3652\"},\"ticker\":{\"id\":\"3653\"}},\"id\":\"3655\",\"type\":\"Grid\"},{\"attributes\":{},\"id\":\"3709\",\"type\":\"UnionRenderers\"},{\"attributes\":{\"below\":[{\"id\":\"3652\"}],\"center\":[{\"id\":\"3655\"},{\"id\":\"3659\"}],\"frame_height\":200,\"frame_width\":600,\"height\":null,\"left\":[{\"id\":\"3656\"}],\"margin\":[5,5,5,5],\"min_border_bottom\":10,\"min_border_left\":10,\"min_border_right\":10,\"min_border_top\":10,\"renderers\":[{\"id\":\"3687\"},{\"id\":\"3720\"}],\"right\":[{\"id\":\"3711\"}],\"sizing_mode\":\"fixed\",\"title\":{\"id\":\"3644\"},\"toolbar\":{\"id\":\"3666\"},\"width\":null,\"x_range\":{\"id\":\"3639\"},\"x_scale\":{\"id\":\"3648\"},\"y_range\":{\"id\":\"3640\"},\"y_scale\":{\"id\":\"3650\"}},\"id\":\"3643\",\"subtype\":\"Figure\",\"type\":\"Plot\"},{\"attributes\":{\"end\":1437.2714285714287,\"reset_end\":1437.2714285714287,\"reset_start\":938.5857142857143,\"start\":938.5857142857143,\"tags\":[[[\"value\",\"value\",null]]]},\"id\":\"3640\",\"type\":\"Range1d\"},{\"attributes\":{},\"id\":\"3664\",\"type\":\"ResetTool\"}],\"root_ids\":[\"3633\",\"4036\"]},\"title\":\"Bokeh Application\",\"version\":\"2.3.0\"}};\n",
       "    var render_items = [{\"docid\":\"393c6f18-99b1-43f1-a12a-f20066b84939\",\"root_ids\":[\"3633\"],\"roots\":{\"3633\":\"c127e9a8-7371-4931-adfd-7c5a19babe2d\"}}];\n",
       "    root.Bokeh.embed.embed_items_notebook(docs_json, render_items);\n",
       "  }\n",
       "  if (root.Bokeh !== undefined && root.Bokeh.Panel !== undefined) {\n",
       "    embed_document(root);\n",
       "  } else {\n",
       "    var attempts = 0;\n",
       "    var timer = setInterval(function(root) {\n",
       "      if (root.Bokeh !== undefined && root.Bokeh.Panel !== undefined) {\n",
       "        clearInterval(timer);\n",
       "        embed_document(root);\n",
       "      } else if (document.readyState == \"complete\") {\n",
       "        attempts++;\n",
       "        if (attempts > 100) {\n",
       "          clearInterval(timer);\n",
       "          console.log(\"Bokeh: ERROR: Unable to run BokehJS code because BokehJS library is missing\");\n",
       "        }\n",
       "      }\n",
       "    }, 10, root)\n",
       "  }\n",
       "})(window);</script>"
      ],
      "text/plain": [
       "Row\n",
       "    [0] Column\n",
       "        [0] Markdown(str)\n",
       "        [1] Select(name='Volume', options=['high', 'medium'], value='high', width=200)\n",
       "        [2] IntSlider(end=21, name='Day average', start=1, value=7, value_throttled=7, width=200)\n",
       "        [3] DateRangeSlider(end=Timestamp('2019-12-31 0..., name='Dates', start=Timestamp('2019-01-01 0..., value=(Timestamp('2019-01-01 00:..., value_throttled=(Timestamp('2019-01-01 00:..., width=200)\n",
       "    [1] HoloViews(NdOverlay)"
      ]
     },
     "execution_count": 23,
     "metadata": {
      "application/vnd.holoviews_exec.v0+json": {
       "id": "3633"
      }
     },
     "output_type": "execute_result"
    }
   ],
   "source": [
    "def update_time_row(event):\n",
    "    time_row[1].object = get_line_plot(volume.value, day_avg.value, time_date_range.value)\n",
    "\n",
    "volume.param.watch(update_time_row, 'value')\n",
    "day_avg.param.watch(update_time_row, 'value')\n",
    "time_date_range.param.watch(update_time_row, 'value')\n",
    "\n",
    "time_row.servable()"
   ]
  },
  {
   "cell_type": "code",
   "execution_count": 24,
   "id": "relative-strain",
   "metadata": {},
   "outputs": [],
   "source": [
    "### 3. restrict dataset to high and medium"
   ]
  },
  {
   "cell_type": "code",
   "execution_count": 25,
   "id": "attractive-sucking",
   "metadata": {},
   "outputs": [
    {
     "data": {},
     "metadata": {},
     "output_type": "display_data"
    },
    {
     "data": {},
     "metadata": {},
     "output_type": "display_data"
    },
    {
     "data": {
      "application/vnd.holoviews_exec.v0+json": "",
      "text/html": [
       "<div id='4157'>\n",
       "\n",
       "\n",
       "\n",
       "\n",
       "\n",
       "  <div class=\"bk-root\" id=\"5078b79c-64ba-4fff-bf5a-44fbdaa446c8\" data-root-id=\"4157\"></div>\n",
       "</div>\n",
       "<script type=\"application/javascript\">(function(root) {\n",
       "  function embed_document(root) {\n",
       "    var docs_json = {\"53f98e95-9d1b-430f-8f05-3b01e0a77e5b\":{\"defs\":[{\"extends\":null,\"module\":null,\"name\":\"DataModel\",\"overrides\":[],\"properties\":[]}],\"roots\":{\"references\":[{\"attributes\":{\"children\":[{\"id\":\"4158\"},{\"id\":\"4285\"}],\"margin\":[0,0,0,0],\"name\":\"Row05848\"},\"id\":\"4157\",\"type\":\"Row\"},{\"attributes\":{\"bottom_units\":\"screen\",\"fill_alpha\":0.5,\"fill_color\":\"lightgrey\",\"left_units\":\"screen\",\"level\":\"overlay\",\"line_alpha\":1.0,\"line_color\":\"black\",\"line_dash\":[4,4],\"line_width\":2,\"right_units\":\"screen\",\"syncable\":false,\"top_units\":\"screen\"},\"id\":\"4188\",\"type\":\"BoxAnnotation\"},{\"attributes\":{\"end\":1577750400000.0,\"margin\":[5,10,5,10],\"min_width\":200,\"start\":1546300800000.0,\"title\":\"Dates\",\"value\":[1546300800000.0,1577750400000.0],\"width\":200},\"id\":\"4162\",\"type\":\"DateRangeSlider\"},{\"attributes\":{},\"id\":\"4219\",\"type\":\"CategoricalScale\"},{\"attributes\":{},\"id\":\"4231\",\"type\":\"WheelZoomTool\"},{\"attributes\":{},\"id\":\"4221\",\"type\":\"CategoricalScale\"},{\"attributes\":{},\"id\":\"4257\",\"type\":\"AllLabels\"},{\"attributes\":{\"margin\":[5,10,5,10],\"min_width\":200,\"options\":[\"001\",\"015\",\"002\",\"003\",\"004\",\"010\",\"048\",\"080\",\"155\",\"156\"],\"title\":\"y-axis\",\"value\":\"001\",\"width\":200},\"id\":\"4161\",\"type\":\"Select\"},{\"attributes\":{\"axis\":{\"id\":\"4226\"},\"dimension\":1,\"grid_line_color\":null,\"ticker\":null},\"id\":\"4228\",\"type\":\"Grid\"},{\"attributes\":{\"children\":[[{\"id\":\"4166\"},0,0],[{\"id\":\"4214\"},0,1]]},\"id\":\"4282\",\"type\":\"GridBox\"},{\"attributes\":{\"children\":[{\"id\":\"4159\"},{\"id\":\"4160\"},{\"id\":\"4161\"},{\"id\":\"4162\"}],\"margin\":[0,0,0,0],\"name\":\"Column05661\"},\"id\":\"4158\",\"type\":\"Column\"},{\"attributes\":{\"axis_label\":\"\",\"formatter\":{\"id\":\"4253\"},\"major_label_orientation\":1.5707963267948966,\"major_label_policy\":{\"id\":\"4254\"},\"ticker\":{\"id\":\"4224\"}},\"id\":\"4223\",\"type\":\"CategoricalAxis\"},{\"attributes\":{\"below\":[{\"id\":\"4175\"}],\"center\":[{\"id\":\"4178\"},{\"id\":\"4182\"}],\"frame_height\":250,\"frame_width\":250,\"height\":null,\"left\":[{\"id\":\"4179\"}],\"margin\":null,\"min_border_bottom\":10,\"min_border_left\":10,\"min_border_right\":10,\"min_border_top\":10,\"renderers\":[{\"id\":\"4202\"}],\"sizing_mode\":\"fixed\",\"title\":{\"id\":\"4167\"},\"toolbar\":{\"id\":\"4189\"},\"toolbar_location\":null,\"width\":null,\"x_range\":{\"id\":\"4163\"},\"x_scale\":{\"id\":\"4171\"},\"y_range\":{\"id\":\"4163\"},\"y_scale\":{\"id\":\"4173\"}},\"id\":\"4166\",\"subtype\":\"Figure\",\"type\":\"Plot\"},{\"attributes\":{},\"id\":\"4224\",\"type\":\"CategoricalTicker\"},{\"attributes\":{\"text\":\"001 vs 001\",\"text_color\":\"black\",\"text_font_size\":\"12pt\"},\"id\":\"4167\",\"type\":\"Title\"},{\"attributes\":{\"axis\":{\"id\":\"4223\"},\"grid_line_color\":null,\"ticker\":null},\"id\":\"4225\",\"type\":\"Grid\"},{\"attributes\":{\"bottom_units\":\"screen\",\"fill_alpha\":0.5,\"fill_color\":\"lightgrey\",\"left_units\":\"screen\",\"level\":\"overlay\",\"line_alpha\":1.0,\"line_color\":\"black\",\"line_dash\":[4,4],\"line_width\":2,\"right_units\":\"screen\",\"syncable\":false,\"top_units\":\"screen\"},\"id\":\"4234\",\"type\":\"BoxAnnotation\"},{\"attributes\":{\"fill_color\":{\"value\":\"#30a2da\"},\"line_color\":{\"value\":\"#30a2da\"},\"size\":{\"value\":3.1622776601683795},\"x\":{\"field\":\"001\"},\"y\":{\"field\":\"001\"}},\"id\":\"4199\",\"type\":\"Scatter\"},{\"attributes\":{},\"id\":\"4197\",\"type\":\"Selection\"},{\"attributes\":{},\"id\":\"4205\",\"type\":\"BasicTickFormatter\"},{\"attributes\":{\"active_multi\":null,\"tools\":[{\"id\":\"4213\"},{\"id\":\"4229\"},{\"id\":\"4230\"},{\"id\":\"4231\"},{\"id\":\"4232\"},{\"id\":\"4233\"}]},\"id\":\"4235\",\"type\":\"Toolbar\"},{\"attributes\":{},\"id\":\"4180\",\"type\":\"BasicTicker\"},{\"attributes\":{\"fill_alpha\":{\"value\":0.1},\"fill_color\":{\"value\":\"#30a2da\"},\"line_alpha\":{\"value\":0.1},\"line_color\":{\"value\":\"#30a2da\"},\"size\":{\"value\":3.1622776601683795},\"x\":{\"field\":\"001\"},\"y\":{\"field\":\"001\"}},\"id\":\"4200\",\"type\":\"Scatter\"},{\"attributes\":{\"axis_label\":\"\",\"formatter\":{\"id\":\"4256\"},\"major_label_policy\":{\"id\":\"4257\"},\"ticker\":{\"id\":\"4227\"}},\"id\":\"4226\",\"type\":\"CategoricalAxis\"},{\"attributes\":{\"source\":{\"id\":\"4196\"}},\"id\":\"4203\",\"type\":\"CDSView\"},{\"attributes\":{},\"id\":\"4230\",\"type\":\"PanTool\"},{\"attributes\":{\"data_source\":{\"id\":\"4196\"},\"glyph\":{\"id\":\"4199\"},\"hover_glyph\":null,\"muted_glyph\":{\"id\":\"4201\"},\"nonselection_glyph\":{\"id\":\"4200\"},\"selection_glyph\":{\"id\":\"4204\"},\"view\":{\"id\":\"4203\"}},\"id\":\"4202\",\"type\":\"GlyphRenderer\"},{\"attributes\":{},\"id\":\"4233\",\"type\":\"ResetTool\"},{\"attributes\":{\"fill_alpha\":{\"value\":0.2},\"fill_color\":{\"value\":\"#30a2da\"},\"line_alpha\":{\"value\":0.2},\"line_color\":{\"value\":\"#30a2da\"},\"size\":{\"value\":3.1622776601683795},\"x\":{\"field\":\"001\"},\"y\":{\"field\":\"001\"}},\"id\":\"4201\",\"type\":\"Scatter\"},{\"attributes\":{},\"id\":\"4267\",\"type\":\"UnionRenderers\"},{\"attributes\":{},\"id\":\"4229\",\"type\":\"SaveTool\"},{\"attributes\":{\"overlay\":{\"id\":\"4234\"}},\"id\":\"4232\",\"type\":\"BoxZoomTool\"},{\"attributes\":{\"angle\":{\"value\":0.0},\"fill_alpha\":{\"value\":1.0},\"fill_color\":{\"value\":\"#30a2da\"},\"hatch_alpha\":{\"value\":1.0},\"hatch_color\":{\"value\":\"black\"},\"hatch_scale\":{\"value\":12.0},\"hatch_weight\":{\"value\":1.0},\"line_alpha\":{\"value\":1.0},\"line_cap\":{\"value\":\"butt\"},\"line_color\":{\"value\":\"#30a2da\"},\"line_dash\":{\"value\":[]},\"line_dash_offset\":{\"value\":0},\"line_join\":{\"value\":\"bevel\"},\"line_width\":{\"value\":1},\"marker\":{\"value\":\"circle\"},\"size\":{\"value\":3.1622776601683795},\"x\":{\"field\":\"001\"},\"y\":{\"field\":\"001\"}},\"id\":\"4204\",\"type\":\"Scatter\"},{\"attributes\":{},\"id\":\"4279\",\"type\":\"UnionRenderers\"},{\"attributes\":{\"css_classes\":[\"markdown\"],\"margin\":[5,5,5,5],\"name\":\"Markdown05659\",\"text\":\"&lt;h3&gt;Correlations&lt;/h3&gt;\"},\"id\":\"4159\",\"type\":\"panel.models.markup.HTML\"},{\"attributes\":{\"axis\":{\"id\":\"4179\"},\"dimension\":1,\"grid_line_color\":null,\"ticker\":null},\"id\":\"4182\",\"type\":\"Grid\"},{\"attributes\":{\"below\":[{\"id\":\"4223\"}],\"center\":[{\"id\":\"4225\"},{\"id\":\"4228\"}],\"frame_height\":250,\"frame_width\":250,\"height\":null,\"left\":[{\"id\":\"4226\"}],\"margin\":null,\"min_border_bottom\":10,\"min_border_left\":10,\"min_border_right\":10,\"min_border_top\":10,\"renderers\":[{\"id\":\"4249\"}],\"right\":[{\"id\":\"4252\"}],\"sizing_mode\":\"fixed\",\"title\":{\"id\":\"4215\"},\"toolbar\":{\"id\":\"4235\"},\"toolbar_location\":null,\"width\":null,\"x_range\":{\"id\":\"4211\"},\"x_scale\":{\"id\":\"4219\"},\"y_range\":{\"id\":\"4212\"},\"y_scale\":{\"id\":\"4221\"}},\"id\":\"4214\",\"subtype\":\"Figure\",\"type\":\"Plot\"},{\"attributes\":{\"toolbars\":[{\"id\":\"4189\"},{\"id\":\"4235\"}],\"tools\":[{\"id\":\"4165\"},{\"id\":\"4183\"},{\"id\":\"4184\"},{\"id\":\"4185\"},{\"id\":\"4186\"},{\"id\":\"4187\"},{\"id\":\"4213\"},{\"id\":\"4229\"},{\"id\":\"4230\"},{\"id\":\"4231\"},{\"id\":\"4232\"},{\"id\":\"4233\"}]},\"id\":\"4283\",\"type\":\"ProxyToolbar\"},{\"attributes\":{},\"id\":\"4208\",\"type\":\"BasicTickFormatter\"},{\"attributes\":{},\"id\":\"4206\",\"type\":\"AllLabels\"},{\"attributes\":{},\"id\":\"4209\",\"type\":\"AllLabels\"},{\"attributes\":{\"fill_color\":{\"field\":\"zvalues\",\"transform\":{\"id\":\"4242\"}},\"height\":{\"value\":1},\"line_alpha\":{\"value\":0},\"line_color\":{\"value\":\"#1f77b4\"},\"width\":{\"value\":1},\"x\":{\"field\":\"columns\"},\"y\":{\"field\":\"index\"}},\"id\":\"4248\",\"type\":\"Rect\"},{\"attributes\":{},\"id\":\"4187\",\"type\":\"ResetTool\"},{\"attributes\":{\"active_multi\":null,\"tools\":[{\"id\":\"4165\"},{\"id\":\"4183\"},{\"id\":\"4184\"},{\"id\":\"4185\"},{\"id\":\"4186\"},{\"id\":\"4187\"}]},\"id\":\"4189\",\"type\":\"Toolbar\"},{\"attributes\":{\"overlay\":{\"id\":\"4188\"}},\"id\":\"4186\",\"type\":\"BoxZoomTool\"},{\"attributes\":{\"data\":{\"001\":[1062,976,956,976,956,1067,926,1004,986,1014,1020,1040,990,963,1027,1041,996,1004,1021,979,958,1118,1019,951,1023,958,954,1013,1026,1059,992,947,1048,1076,974,1021,919,1034,1085,983,1009,1013,1018,1039,906,1126,984,939,992,989,1084,1094,1027,958,1038,973,983,1046,1030,1032,971,1030,1004,1027,1052,973,1015,1028,984,1034,1019,1011,921,1001,1049,1026,1001,1020,1055,970,1031,1061,950,1064,1003,1046,1081,999,988,963,1033,1042,996,1018,995,1026,1052,1097,1036,1013,982,1055,957,1066,991,1108,1017,972,1063,1071,1029,1016,981,954,1011,1035,1011,1054,1034,1051,996,1052,1006,1078,1040,1003,978,1073,972,1104,1083,999,984,999,1100,911,1009,1104,1059,1068,1003,1069,969,1018,1012,1018,1107,1067,1047,969,1049,1041,1064,1005,983,1025,1081,1049,1074,979,1005,1000,978,1074,1051,1049,1008,1095,1032,1039,1009,1045,1077,997,1010,1052,1012,1087,992,1052,1095,1043,1034,1022,1078,1105,994,968,1055,1048,982,1030,1086,991,1057,1028,1063,1120,935,1093,1001,1090,1039,1098,1054,1042,1049,1039,1075,1069,1036,1012,1073,1018,1100,1076,1028,1070,996,1078,1073,1014,1045,1008,1052,1117,1024,1054,1038,1085,1003,1076,1037,1077,1067,979,1009,1031,1089,1079,1047,1109,1019,1051,942,1099,1099,1031,1047,1013,1138,1064,1059,1089,1040,1011,1012,1053,1097,1048,1077,1146,1032,1038,1090,997,1055,1061,993,1108,1003,1116,1092,1073,1068,1037,975,1105,1064,1096,1048,1047,1085,1093,976,1008,1159,1025,1107,1015,1087,1077,1136,1071,1047,1092,1055,996,1108,1100,1036,1067,1011,1072,1138,1076,1032,1010,1060,1092,1009,1042,1069,1089,1098,1113,1034,1063,1087,1082,1070,989,1057,1109,1134,1106,1008,1065,1039,1075,1087,1090,1038,1079,1157,1063,1120,1076,1045,1112,1024,1091,1031,1090,1075,1110,1069,1013,1129,1080,1031,1070,1110,1088,1077,1126,1022,1073,1102,1012,1065,1135,1125,1113,1073],\"A_001\":[1062,976,956,976,956,1067,926,1004,986,1014,1020,1040,990,963,1027,1041,996,1004,1021,979,958,1118,1019,951,1023,958,954,1013,1026,1059,992,947,1048,1076,974,1021,919,1034,1085,983,1009,1013,1018,1039,906,1126,984,939,992,989,1084,1094,1027,958,1038,973,983,1046,1030,1032,971,1030,1004,1027,1052,973,1015,1028,984,1034,1019,1011,921,1001,1049,1026,1001,1020,1055,970,1031,1061,950,1064,1003,1046,1081,999,988,963,1033,1042,996,1018,995,1026,1052,1097,1036,1013,982,1055,957,1066,991,1108,1017,972,1063,1071,1029,1016,981,954,1011,1035,1011,1054,1034,1051,996,1052,1006,1078,1040,1003,978,1073,972,1104,1083,999,984,999,1100,911,1009,1104,1059,1068,1003,1069,969,1018,1012,1018,1107,1067,1047,969,1049,1041,1064,1005,983,1025,1081,1049,1074,979,1005,1000,978,1074,1051,1049,1008,1095,1032,1039,1009,1045,1077,997,1010,1052,1012,1087,992,1052,1095,1043,1034,1022,1078,1105,994,968,1055,1048,982,1030,1086,991,1057,1028,1063,1120,935,1093,1001,1090,1039,1098,1054,1042,1049,1039,1075,1069,1036,1012,1073,1018,1100,1076,1028,1070,996,1078,1073,1014,1045,1008,1052,1117,1024,1054,1038,1085,1003,1076,1037,1077,1067,979,1009,1031,1089,1079,1047,1109,1019,1051,942,1099,1099,1031,1047,1013,1138,1064,1059,1089,1040,1011,1012,1053,1097,1048,1077,1146,1032,1038,1090,997,1055,1061,993,1108,1003,1116,1092,1073,1068,1037,975,1105,1064,1096,1048,1047,1085,1093,976,1008,1159,1025,1107,1015,1087,1077,1136,1071,1047,1092,1055,996,1108,1100,1036,1067,1011,1072,1138,1076,1032,1010,1060,1092,1009,1042,1069,1089,1098,1113,1034,1063,1087,1082,1070,989,1057,1109,1134,1106,1008,1065,1039,1075,1087,1090,1038,1079,1157,1063,1120,1076,1045,1112,1024,1091,1031,1090,1075,1110,1069,1013,1129,1080,1031,1070,1110,1088,1077,1126,1022,1073,1102,1012,1065,1135,1125,1113,1073]},\"selected\":{\"id\":\"4197\"},\"selection_policy\":{\"id\":\"4267\"}},\"id\":\"4196\",\"type\":\"ColumnDataSource\"},{\"attributes\":{\"high\":1,\"low\":-1,\"nan_color\":\"white\",\"palette\":[\"#3a4cc0\",\"#3b4dc1\",\"#3c4fc3\",\"#3e51c4\",\"#3f53c6\",\"#4054c7\",\"#4156c9\",\"#4258ca\",\"#435acc\",\"#455bcd\",\"#465dcf\",\"#475fd0\",\"#4860d1\",\"#4962d3\",\"#4b64d4\",\"#4c66d6\",\"#4d67d7\",\"#4e69d8\",\"#506bda\",\"#516cdb\",\"#526edc\",\"#5370dd\",\"#5571de\",\"#5673e0\",\"#5775e1\",\"#5876e2\",\"#5a78e3\",\"#5b79e4\",\"#5c7be5\",\"#5d7de6\",\"#5f7ee7\",\"#6080e8\",\"#6182ea\",\"#6383ea\",\"#6485eb\",\"#6586ec\",\"#6788ed\",\"#6889ee\",\"#698bef\",\"#6b8df0\",\"#6c8ef1\",\"#6d90f1\",\"#6f91f2\",\"#7093f3\",\"#7194f4\",\"#7395f4\",\"#7497f5\",\"#7598f6\",\"#779af6\",\"#789bf7\",\"#7a9df8\",\"#7b9ef8\",\"#7ca0f9\",\"#7ea1f9\",\"#7fa2fa\",\"#80a4fa\",\"#82a5fb\",\"#83a6fb\",\"#85a8fb\",\"#86a9fc\",\"#87aafc\",\"#89acfc\",\"#8aadfd\",\"#8baefd\",\"#8daffd\",\"#8eb1fd\",\"#90b2fe\",\"#91b3fe\",\"#92b4fe\",\"#94b5fe\",\"#95b7fe\",\"#97b8fe\",\"#98b9fe\",\"#99bafe\",\"#9bbbfe\",\"#9cbcfe\",\"#9dbdfe\",\"#9fbefe\",\"#a0bffe\",\"#a2c0fe\",\"#a3c1fe\",\"#a4c2fe\",\"#a6c3fd\",\"#a7c4fd\",\"#a8c5fd\",\"#aac6fd\",\"#abc7fc\",\"#acc8fc\",\"#aec9fc\",\"#afcafb\",\"#b0cbfb\",\"#b2cbfb\",\"#b3ccfa\",\"#b4cdfa\",\"#b6cef9\",\"#b7cff9\",\"#b8cff8\",\"#b9d0f8\",\"#bbd1f7\",\"#bcd1f6\",\"#bdd2f6\",\"#bed3f5\",\"#c0d3f5\",\"#c1d4f4\",\"#c2d4f3\",\"#c3d5f2\",\"#c5d5f2\",\"#c6d6f1\",\"#c7d6f0\",\"#c8d7ef\",\"#c9d7ee\",\"#cad8ee\",\"#ccd8ed\",\"#cdd9ec\",\"#ced9eb\",\"#cfd9ea\",\"#d0dae9\",\"#d1dae8\",\"#d2dae7\",\"#d3dbe6\",\"#d5dbe5\",\"#d6dbe4\",\"#d7dbe2\",\"#d8dbe1\",\"#d9dce0\",\"#dadcdf\",\"#dbdcde\",\"#dcdcdd\",\"#dddcdb\",\"#dedbda\",\"#dfdbd9\",\"#e0dad7\",\"#e1dad6\",\"#e2d9d4\",\"#e3d9d3\",\"#e4d8d1\",\"#e5d8d0\",\"#e6d7cf\",\"#e7d6cd\",\"#e7d6cc\",\"#e8d5ca\",\"#e9d4c9\",\"#ead3c7\",\"#ebd3c6\",\"#ecd2c4\",\"#ecd1c3\",\"#edd0c1\",\"#edcfc0\",\"#eecfbe\",\"#efcebc\",\"#efcdbb\",\"#f0ccb9\",\"#f1cbb8\",\"#f1cab6\",\"#f2c9b5\",\"#f2c8b3\",\"#f2c7b2\",\"#f3c6b0\",\"#f3c5af\",\"#f4c4ad\",\"#f4c3ab\",\"#f4c2aa\",\"#f5c1a8\",\"#f5c0a7\",\"#f5bfa5\",\"#f6bda4\",\"#f6bca2\",\"#f6bba0\",\"#f6ba9f\",\"#f6b99d\",\"#f6b79c\",\"#f6b69a\",\"#f7b598\",\"#f7b397\",\"#f7b295\",\"#f7b194\",\"#f7b092\",\"#f7ae91\",\"#f7ad8f\",\"#f6ab8d\",\"#f6aa8c\",\"#f6a98a\",\"#f6a789\",\"#f6a687\",\"#f6a486\",\"#f6a384\",\"#f5a182\",\"#f5a081\",\"#f59e7f\",\"#f49d7e\",\"#f49b7c\",\"#f49a7b\",\"#f39879\",\"#f39678\",\"#f39576\",\"#f29375\",\"#f29173\",\"#f19072\",\"#f18e70\",\"#f08d6f\",\"#f08b6d\",\"#ef896c\",\"#ee876a\",\"#ee8669\",\"#ed8467\",\"#ec8266\",\"#ec8064\",\"#eb7f63\",\"#ea7d61\",\"#ea7b60\",\"#e9795e\",\"#e8775d\",\"#e7755c\",\"#e6745a\",\"#e67259\",\"#e57057\",\"#e46e56\",\"#e36c54\",\"#e26a53\",\"#e16852\",\"#e06650\",\"#df644f\",\"#de624e\",\"#dd604c\",\"#dc5e4b\",\"#db5c4a\",\"#da5a48\",\"#d95847\",\"#d85646\",\"#d75444\",\"#d65243\",\"#d44f42\",\"#d34d40\",\"#d24b3f\",\"#d1493e\",\"#cf463d\",\"#ce443c\",\"#cd423a\",\"#cc3f39\",\"#ca3d38\",\"#c93b37\",\"#c83835\",\"#c63534\",\"#c53233\",\"#c43032\",\"#c22d31\",\"#c12a30\",\"#bf282e\",\"#be232d\",\"#bc1f2c\",\"#bb1a2b\",\"#b9162a\",\"#b81129\",\"#b60d28\",\"#b50827\",\"#b30326\"]},\"id\":\"4242\",\"type\":\"LinearColorMapper\"},{\"attributes\":{},\"id\":\"4227\",\"type\":\"CategoricalTicker\"},{\"attributes\":{},\"id\":\"4183\",\"type\":\"SaveTool\"},{\"attributes\":{\"data\":{\"columns\":[\"001\",\"001\",\"001\",\"001\",\"001\",\"001\",\"001\",\"001\",\"001\",\"001\",\"015\",\"015\",\"015\",\"015\",\"015\",\"015\",\"015\",\"015\",\"015\",\"015\",\"002\",\"002\",\"002\",\"002\",\"002\",\"002\",\"002\",\"002\",\"002\",\"002\",\"003\",\"003\",\"003\",\"003\",\"003\",\"003\",\"003\",\"003\",\"003\",\"003\",\"004\",\"004\",\"004\",\"004\",\"004\",\"004\",\"004\",\"004\",\"004\",\"004\",\"010\",\"010\",\"010\",\"010\",\"010\",\"010\",\"010\",\"010\",\"010\",\"010\",\"048\",\"048\",\"048\",\"048\",\"048\",\"048\",\"048\",\"048\",\"048\",\"048\",\"080\",\"080\",\"080\",\"080\",\"080\",\"080\",\"080\",\"080\",\"080\",\"080\",\"155\",\"155\",\"155\",\"155\",\"155\",\"155\",\"155\",\"155\",\"155\",\"155\",\"156\",\"156\",\"156\",\"156\",\"156\",\"156\",\"156\",\"156\",\"156\",\"156\"],\"index\":[\"001\",\"015\",\"002\",\"003\",\"004\",\"010\",\"048\",\"080\",\"155\",\"156\",\"001\",\"015\",\"002\",\"003\",\"004\",\"010\",\"048\",\"080\",\"155\",\"156\",\"001\",\"015\",\"002\",\"003\",\"004\",\"010\",\"048\",\"080\",\"155\",\"156\",\"001\",\"015\",\"002\",\"003\",\"004\",\"010\",\"048\",\"080\",\"155\",\"156\",\"001\",\"015\",\"002\",\"003\",\"004\",\"010\",\"048\",\"080\",\"155\",\"156\",\"001\",\"015\",\"002\",\"003\",\"004\",\"010\",\"048\",\"080\",\"155\",\"156\",\"001\",\"015\",\"002\",\"003\",\"004\",\"010\",\"048\",\"080\",\"155\",\"156\",\"001\",\"015\",\"002\",\"003\",\"004\",\"010\",\"048\",\"080\",\"155\",\"156\",\"001\",\"015\",\"002\",\"003\",\"004\",\"010\",\"048\",\"080\",\"155\",\"156\",\"001\",\"015\",\"002\",\"003\",\"004\",\"010\",\"048\",\"080\",\"155\",\"156\"],\"value\":[\"1\",\"0.31828\",\"0.3153\",\"0.16156\",\"0.073117\",\"-0.30181\",\"0.42314\",\"0.19381\",\"0.32996\",\"0.37473\",\"0.31828\",\"1\",\"0.29269\",\"0.14192\",\"0.070561\",\"-0.30022\",\"0.47744\",\"0.17709\",\"0.32657\",\"0.33209\",\"0.3153\",\"0.29269\",\"1\",\"0.10085\",\"0.057644\",\"-0.47086\",\"0.58165\",\"0.15984\",\"0.44366\",\"0.42947\",\"0.16156\",\"0.14192\",\"0.10085\",\"1\",\"-0.0053583\",\"-0.17237\",\"0.25309\",\"-0.013847\",\"0.17053\",\"0.13806\",\"0.073117\",\"0.070561\",\"0.057644\",\"-0.0053583\",\"1\",\"-0.029606\",\"0.1062\",\"0.069234\",\"0.090212\",\"0.12621\",\"-0.30181\",\"-0.30022\",\"-0.47086\",\"-0.17237\",\"-0.029606\",\"1\",\"-0.57896\",\"-0.15547\",\"-0.52915\",\"-0.51772\",\"0.42314\",\"0.47744\",\"0.58165\",\"0.25309\",\"0.1062\",\"-0.57896\",\"1\",\"0.18202\",\"0.64602\",\"0.63922\",\"0.19381\",\"0.17709\",\"0.15984\",\"-0.013847\",\"0.069234\",\"-0.15547\",\"0.18202\",\"1\",\"0.10742\",\"0.094656\",\"0.32996\",\"0.32657\",\"0.44366\",\"0.17053\",\"0.090212\",\"-0.52915\",\"0.64602\",\"0.10742\",\"1\",\"0.83421\",\"0.37473\",\"0.33209\",\"0.42947\",\"0.13806\",\"0.12621\",\"-0.51772\",\"0.63922\",\"0.094656\",\"0.83421\",\"1\"],\"zvalues\":{\"__ndarray__\":\"AAAAAAAA8D+z9Dhqr17UPy5JhqD0LdQ/7P+r3/etxD8TB5xbxreyPwO2hK/kUNO/WZ7c5rAU2z+AYTn7rc7IP8Dh67gaHtU/U0u5soD71z+z9Dhqr17UPwAAAAAAAPA/Xx2BfVy70j/05ZxQlirCP2f1n4ROELI/pgnxD70207+yAGCKcI7eP0tMoSnCqsY/KUuSf47m1D+ZRcGCAUHVPy5JhqD0LdQ/Xx2BfVy70j8AAAAAAADwP0azN7lj0bk/9XK+U32DrT9lUaGPiyLev5tCDizWnOI/ejx1TXp1xD+SIfZW22TcP7yQpa12fNs/7P+r3/etxD/05ZxQlirCP0azN7lj0bk/AAAAAAAA8D9avg61lfJ1v/XO909IEMa/oz3MPKgy0D+ySxoyzluMv8p7mozX08U/Ev/dcxmswT8TB5xbxreyP2f1n4ROELI/9XK+U32DrT9avg61lfJ1vwAAAAAAAPA/CL/pIRFRnr/0IB7aBDC7PzYrj65NubE/7fkniCgYtz99fjRBhCfAPwO2hK/kUNO/pgnxD702079lUaGPiyLev/XO909IEMa/CL/pIRFRnr8AAAAAAADwP49QIc3bhuK/P7ZZxUjmw7+BLqT4xu7gv1zynGYvkeC/WZ7c5rAU2z+yAGCKcI7eP5tCDizWnOI/oz3MPKgy0D/0IB7aBDC7P49QIc3bhuK/AAAAAAAA8D/00yAxSUzHP9kfYpgvrOQ/JhcKbHp05D+AYTn7rc7IP0tMoSnCqsY/ejx1TXp1xD+ySxoyzluMvzYrj65NubE/P7ZZxUjmw7/00yAxSUzHPwAAAAAAAPA/+xAWTQqAuz//LP9GYDu4P8Dh67gaHtU/KUuSf47m1D+SIfZW22TcP8p7mozX08U/7fkniCgYtz+BLqT4xu7gv9kfYpgvrOQ/+xAWTQqAuz8AAAAAAADwP9jzd+/Vseo/U0u5soD71z+ZRcGCAUHVP7yQpa12fNs/Ev/dcxmswT99fjRBhCfAP1zynGYvkeC/JhcKbHp05D//LP9GYDu4P9jzd+/Vseo/AAAAAAAA8D8=\",\"dtype\":\"float64\",\"order\":\"little\",\"shape\":[100]}},\"selected\":{\"id\":\"4244\"},\"selection_policy\":{\"id\":\"4279\"}},\"id\":\"4243\",\"type\":\"ColumnDataSource\"},{\"attributes\":{\"fill_color\":{\"field\":\"zvalues\",\"transform\":{\"id\":\"4242\"}},\"height\":{\"value\":1},\"line_alpha\":{\"value\":0},\"line_color\":{\"value\":\"#1f77b4\"},\"width\":{\"value\":1},\"x\":{\"field\":\"columns\"},\"y\":{\"field\":\"index\"}},\"id\":\"4246\",\"type\":\"Rect\"},{\"attributes\":{\"axis_label\":\"001\",\"formatter\":{\"id\":\"4208\"},\"major_label_policy\":{\"id\":\"4209\"},\"ticker\":{\"id\":\"4180\"}},\"id\":\"4179\",\"type\":\"LinearAxis\"},{\"attributes\":{\"source\":{\"id\":\"4243\"}},\"id\":\"4250\",\"type\":\"CDSView\"},{\"attributes\":{\"factors\":[\"156\",\"155\",\"080\",\"048\",\"010\",\"004\",\"003\",\"002\",\"015\",\"001\"],\"tags\":[[[\"index\",\"index\",null]]]},\"id\":\"4212\",\"type\":\"FactorRange\"},{\"attributes\":{},\"id\":\"4176\",\"type\":\"BasicTicker\"},{\"attributes\":{\"axis_label\":\"001\",\"formatter\":{\"id\":\"4205\"},\"major_label_policy\":{\"id\":\"4206\"},\"ticker\":{\"id\":\"4176\"}},\"id\":\"4175\",\"type\":\"LinearAxis\"},{\"attributes\":{},\"id\":\"4184\",\"type\":\"PanTool\"},{\"attributes\":{\"axis\":{\"id\":\"4175\"},\"grid_line_color\":null,\"ticker\":null},\"id\":\"4178\",\"type\":\"Grid\"},{\"attributes\":{},\"id\":\"4254\",\"type\":\"AllLabels\"},{\"attributes\":{},\"id\":\"4185\",\"type\":\"WheelZoomTool\"},{\"attributes\":{},\"id\":\"4251\",\"type\":\"BasicTicker\"},{\"attributes\":{\"children\":[{\"id\":\"4284\"},{\"id\":\"4282\"}]},\"id\":\"4285\",\"type\":\"Column\"},{\"attributes\":{},\"id\":\"4171\",\"type\":\"LinearScale\"},{\"attributes\":{\"text\":\"Product correlations\",\"text_color\":\"black\",\"text_font_size\":\"12pt\"},\"id\":\"4215\",\"type\":\"Title\"},{\"attributes\":{},\"id\":\"4173\",\"type\":\"LinearScale\"},{\"attributes\":{},\"id\":\"4271\",\"type\":\"NoOverlap\"},{\"attributes\":{\"client_comm_id\":\"686801eff9504fa1b36421695dc0f680\",\"comm_id\":\"cb2903bde93146aa8cad53a113ececf1\",\"plot_id\":\"4157\"},\"id\":\"4538\",\"type\":\"panel.models.comm_manager.CommManager\"},{\"attributes\":{\"end\":1184.3,\"reset_end\":1184.3,\"reset_start\":880.7,\"start\":880.7,\"tags\":[[[\"001\",\"001\",null]]]},\"id\":\"4163\",\"type\":\"Range1d\"},{\"attributes\":{\"factors\":[\"001\",\"015\",\"002\",\"003\",\"004\",\"010\",\"048\",\"080\",\"155\",\"156\"],\"tags\":[[[\"columns\",\"columns\",null]]]},\"id\":\"4211\",\"type\":\"FactorRange\"},{\"attributes\":{},\"id\":\"4244\",\"type\":\"Selection\"},{\"attributes\":{\"callback\":null,\"renderers\":[{\"id\":\"4202\"}],\"tags\":[\"hv_created\"],\"tooltips\":[[\"001\",\"@{A_001}\"]]},\"id\":\"4165\",\"type\":\"HoverTool\"},{\"attributes\":{\"callback\":null,\"renderers\":[{\"id\":\"4249\"}],\"tags\":[\"hv_created\"],\"tooltips\":[[\"columns\",\"@{columns}\"],[\"index\",\"@{index}\"],[\"value\",\"@{value}\"]]},\"id\":\"4213\",\"type\":\"HoverTool\"},{\"attributes\":{\"fill_alpha\":{\"value\":0.1},\"fill_color\":{\"field\":\"zvalues\",\"transform\":{\"id\":\"4242\"}},\"height\":{\"value\":1},\"line_alpha\":{\"value\":0},\"line_color\":{\"value\":\"#1f77b4\"},\"width\":{\"value\":1},\"x\":{\"field\":\"columns\"},\"y\":{\"field\":\"index\"}},\"id\":\"4247\",\"type\":\"Rect\"},{\"attributes\":{\"bar_line_color\":\"black\",\"color_mapper\":{\"id\":\"4242\"},\"label_standoff\":8,\"location\":[0,0],\"major_label_policy\":{\"id\":\"4271\"},\"major_tick_line_color\":\"black\",\"ticker\":{\"id\":\"4251\"}},\"id\":\"4252\",\"type\":\"ColorBar\"},{\"attributes\":{\"data_source\":{\"id\":\"4243\"},\"glyph\":{\"id\":\"4246\"},\"hover_glyph\":null,\"muted_glyph\":null,\"nonselection_glyph\":{\"id\":\"4247\"},\"selection_glyph\":{\"id\":\"4248\"},\"view\":{\"id\":\"4250\"}},\"id\":\"4249\",\"type\":\"GlyphRenderer\"},{\"attributes\":{\"toolbar\":{\"id\":\"4283\"},\"toolbar_location\":\"above\"},\"id\":\"4284\",\"type\":\"ToolbarBox\"},{\"attributes\":{\"margin\":[5,10,5,10],\"min_width\":200,\"options\":[\"001\",\"015\",\"002\",\"003\",\"004\",\"010\",\"048\",\"080\",\"155\",\"156\"],\"title\":\"x-axis\",\"value\":\"001\",\"width\":200},\"id\":\"4160\",\"type\":\"Select\"},{\"attributes\":{},\"id\":\"4253\",\"type\":\"CategoricalTickFormatter\"},{\"attributes\":{},\"id\":\"4256\",\"type\":\"CategoricalTickFormatter\"}],\"root_ids\":[\"4157\",\"4538\"]},\"title\":\"Bokeh Application\",\"version\":\"2.3.0\"}};\n",
       "    var render_items = [{\"docid\":\"53f98e95-9d1b-430f-8f05-3b01e0a77e5b\",\"root_ids\":[\"4157\"],\"roots\":{\"4157\":\"5078b79c-64ba-4fff-bf5a-44fbdaa446c8\"}}];\n",
       "    root.Bokeh.embed.embed_items_notebook(docs_json, render_items);\n",
       "  }\n",
       "  if (root.Bokeh !== undefined && root.Bokeh.Panel !== undefined) {\n",
       "    embed_document(root);\n",
       "  } else {\n",
       "    var attempts = 0;\n",
       "    var timer = setInterval(function(root) {\n",
       "      if (root.Bokeh !== undefined && root.Bokeh.Panel !== undefined) {\n",
       "        clearInterval(timer);\n",
       "        embed_document(root);\n",
       "      } else if (document.readyState == \"complete\") {\n",
       "        attempts++;\n",
       "        if (attempts > 100) {\n",
       "          clearInterval(timer);\n",
       "          console.log(\"Bokeh: ERROR: Unable to run BokehJS code because BokehJS library is missing\");\n",
       "        }\n",
       "      }\n",
       "    }, 10, root)\n",
       "  }\n",
       "})(window);</script>"
      ],
      "text/plain": [
       "Row\n",
       "    [0] Column\n",
       "        [0] Markdown(str)\n",
       "        [1] Select(name='x-axis', options=['001', '015', ...], value='001', width=200)\n",
       "        [2] Select(name='y-axis', options=['001', '015', ...], value='001', width=200)\n",
       "        [3] DateRangeSlider(end=Timestamp('2019-12-31 0..., name='Dates', start=Timestamp('2019-01-01 0..., value=(Timestamp('2019-01-01 00:..., value_throttled=(Timestamp('2019-01-01 00:..., width=200)\n",
       "    [1] HoloViews(Layout)"
      ]
     },
     "execution_count": 25,
     "metadata": {
      "application/vnd.holoviews_exec.v0+json": {
       "id": "4157"
      }
     },
     "output_type": "execute_result"
    }
   ],
   "source": [
    "def get_correlation_plots(product_x, product_y, date_range):\n",
    "    df = data.loc[pd.to_datetime(date_range[0]) : pd.to_datetime(date_range[1])] # restrict to date range\n",
    "    return df.hvplot.scatter(frame_height=250, frame_width=250,\n",
    "                             x=product_x, y=product_y,\n",
    "                             title=product_x + ' vs ' + product_y,\n",
    "                             size=10, padding=0.1) +\\\n",
    "           df.corr().hvplot.heatmap(frame_height=250, frame_width=250,\n",
    "                                    title='Page correlations',\n",
    "                                    rot=90, cmap='coolwarm'\n",
    "                                   ).opts(invert_yaxis=True, clim=(-1, 1))\n",
    "\n",
    "\n",
    "correlation_title = '### Correlations'\n",
    "\n",
    "product_x = pn.widgets.Select(name='x-axis', options=list(data.columns), width=200)\n",
    "product_y = pn.widgets.Select(name='y-axis', options=list(data.columns), width=200)\n",
    "corr_date_range = pn.widgets.DateRangeSlider(name='Dates',\n",
    "                                        value=(data.index[0], data.index[-1]),\n",
    "                                        start=data.index[0], end=data.index[-1],\n",
    "                                        width=200)\n",
    "\n",
    "correlation_row = pn.Row(\n",
    "    pn.Column(correlation_title, product_x, product_y, corr_date_range),\n",
    "    get_correlation_plots(product_x.value, product_y.value, corr_date_range.value)\n",
    ")\n",
    "\n",
    "def update_correlation_row(event):\n",
    "    correlation_row[1].object = get_correlation_plots(product_x.value, product_y.value, corr_date_range.value)\n",
    "\n",
    "product_x.param.watch(update_correlation_row, 'value')\n",
    "product_y.param.watch(update_correlation_row, 'value')\n",
    "corr_date_range.param.watch(update_correlation_row, 'value')\n",
    "\n",
    "correlation_row.servable()"
   ]
  },
  {
   "cell_type": "code",
   "execution_count": null,
   "id": "aging-switch",
   "metadata": {},
   "outputs": [],
   "source": []
  }
 ],
 "metadata": {
  "kernelspec": {
   "display_name": "Python 3",
   "language": "python",
   "name": "python3"
  },
  "language_info": {
   "codemirror_mode": {
    "name": "ipython",
    "version": 3
   },
   "file_extension": ".py",
   "mimetype": "text/x-python",
   "name": "python",
   "nbconvert_exporter": "python",
   "pygments_lexer": "ipython3",
   "version": "3.8.5"
  }
 },
 "nbformat": 4,
 "nbformat_minor": 5
}
