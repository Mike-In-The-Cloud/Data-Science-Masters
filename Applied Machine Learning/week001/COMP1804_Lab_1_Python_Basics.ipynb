{
  "nbformat": 4,
  "nbformat_minor": 0,
  "metadata": {
    "colab": {
      "name": "CPMP1804_2_02_Python_Basics.ipynb",
      "provenance": [],
      "collapsed_sections": [
        "axK1IFy8ZMDv",
        "4DVztZshZMDz",
        "UuDHRK9QZMEN",
        "p3VdBQaaDHDA",
        "5qe5bQcRDHEv",
        "-ZcfjsmUDHFf",
        "QYUDMMAGD9cF",
        "BWq9M7kuD9c4",
        "z0OSwEF8D9c7",
        "-VEbPIqBD9dj",
        "_vs590iAD9eo",
        "UPFdQGvVWBeE",
        "bxn0pLyqZMEX",
        "F0gf0RQKZMFk",
        "EUhH-ELj_Fiu",
        "bZjy2b-UZMGk",
        "fjr-sY8_ZMG5",
        "tVPGvJtXZMHb",
        "90kYHBIfZMHu"
      ]
    },
    "kernelspec": {
      "display_name": "Python 3",
      "language": "python",
      "name": "python3"
    }
  },
  "cells": [
    {
      "cell_type": "markdown",
      "metadata": {
        "deletable": true,
        "editable": true,
        "id": "axK1IFy8ZMDv"
      },
      "source": [
        "\n",
        "___\n",
        "# COMP1804 2.02 - Python Basics\n",
        "\n",
        "These notes walk you through what’s diffenernt about Python compared to other languages. Python basics are presented  by looking at real code examples.\n"
      ]
    },
    {
      "cell_type": "markdown",
      "metadata": {
        "deletable": true,
        "editable": true,
        "id": "4DVztZshZMDz"
      },
      "source": [
        "# Whitespace is Important"
      ]
    },
    {
      "cell_type": "code",
      "metadata": {
        "deletable": true,
        "editable": true,
        "id": "sYF0FdClZMD5"
      },
      "source": [
        "listOfNumbers = [8, 2, 3, 7, 5, 6]\n",
        "\n",
        "for number in listOfNumbers:\n",
        "    print(number, end=\"\")\n",
        "    if (number % 2 == 0):\n",
        "        print(\" is even number\")\n",
        "    else:\n",
        "        print(\" is odd\")\n",
        "        \n",
        "print (\"All done.\")\n",
        "        "
      ],
      "execution_count": null,
      "outputs": []
    },
    {
      "cell_type": "markdown",
      "metadata": {
        "deletable": true,
        "editable": true,
        "id": "UuDHRK9QZMEN"
      },
      "source": [
        "# Importing Modules"
      ]
    },
    {
      "cell_type": "code",
      "metadata": {
        "deletable": true,
        "editable": true,
        "id": "56DRfRU0ZMEP"
      },
      "source": [
        "import numpy as np\n",
        "\n",
        "A = np.random.normal(25.0, 50.0, 5)\n",
        "print (A)"
      ],
      "execution_count": null,
      "outputs": []
    },
    {
      "cell_type": "markdown",
      "metadata": {
        "id": "p3VdBQaaDHDA"
      },
      "source": [
        "# Numbers and more in Python!\n",
        "\n",
        "Covers numbers in Python and how to use them:\n",
        "\n",
        "    1.) Types of Numbers in Python\n",
        "    2.) Basic Arithmetic\n",
        "    3.) Differences between classic division and floor division\n",
        "    4.) Object Assignment in Python"
      ]
    },
    {
      "cell_type": "markdown",
      "metadata": {
        "id": "S2galD0UDHDG"
      },
      "source": [
        "## Types of numbers\n",
        "\n",
        "Python has various \"types\" of numbers (numeric literals). We'll mainly focus on integers and floating point numbers.\n",
        "\n",
        "Integers are just whole numbers, positive or negative. For example: 2 and -2 are examples of integers.\n",
        "\n",
        "Floating point numbers in Python are notable because they have a decimal point in them, or use an exponential (e) to define the number. For example 2.0 and -2.1 are examples of floating point numbers. 4E2 (4 times 10 to the power of 2) is also an example of a floating point number in Python.\n",
        "\n",
        "Throughout this module we will be mainly working with integers or simple float number types.\n",
        "\n",
        "Here is a table of the two main types we will spend most of our time working with some examples:\n",
        "\n",
        "\n",
        "<table>\n",
        "<tr>\n",
        "    <th>Examples</th> \n",
        "    <th>Number \"Type\"</th>\n",
        "</tr>\n",
        "\n",
        "<tr>\n",
        "    <td>1,2,-5,1000</td>\n",
        "    <td>Integers</td> \n",
        "</tr>\n",
        "\n",
        "<tr>\n",
        "    <td>1.2,-0.5,2e2,3E2</td> \n",
        "    <td>Floating-point numbers</td> \n",
        "</tr>\n",
        " </table>\n"
      ]
    },
    {
      "cell_type": "markdown",
      "metadata": {
        "id": "tzyt6oW3DHDP"
      },
      "source": [
        "### Basic Arithmetic"
      ]
    },
    {
      "cell_type": "code",
      "metadata": {
        "id": "Nqh_fk5_DHDS"
      },
      "source": [
        "# this is a comment:  Addition\n",
        "2+1"
      ],
      "execution_count": null,
      "outputs": []
    },
    {
      "cell_type": "code",
      "metadata": {
        "id": "_3-3WBxoDHDq"
      },
      "source": [
        "# Subtraction\n",
        "2-1"
      ],
      "execution_count": null,
      "outputs": []
    },
    {
      "cell_type": "code",
      "metadata": {
        "id": "h9yc6xN5DHD3"
      },
      "source": [
        "# Multiplication\n",
        "2*2"
      ],
      "execution_count": null,
      "outputs": []
    },
    {
      "cell_type": "code",
      "metadata": {
        "id": "hKNlOQ8ZDHEA"
      },
      "source": [
        "# Division\n",
        "3/2"
      ],
      "execution_count": null,
      "outputs": []
    },
    {
      "cell_type": "code",
      "metadata": {
        "id": "m3N-L5gnDHEP"
      },
      "source": [
        "# Floor Division\n",
        "7//4"
      ],
      "execution_count": null,
      "outputs": []
    },
    {
      "cell_type": "markdown",
      "metadata": {
        "id": "Hoqn0F_oDHEY"
      },
      "source": [
        "**Whoa! What just happened? Last time I checked, 7 divided by 4 equals 1.75 not 1!**\n",
        "\n",
        "The reason we get this result is because we are using \"*floor*\" division. The // operator (two forward slashes) truncates the decimal without rounding, and returns an integer result."
      ]
    },
    {
      "cell_type": "markdown",
      "metadata": {
        "id": "KcVMapzBDHEb"
      },
      "source": [
        "**So what if we just want the remainder after division?**"
      ]
    },
    {
      "cell_type": "code",
      "metadata": {
        "id": "L1ng6S9yDHEd"
      },
      "source": [
        "# Modulo\n",
        "7%4"
      ],
      "execution_count": null,
      "outputs": []
    },
    {
      "cell_type": "markdown",
      "metadata": {
        "id": "QgVfSqxIDHEs"
      },
      "source": [
        "4 goes into 7 once, with a remainder of 3. The % operator returns the remainder after division."
      ]
    },
    {
      "cell_type": "markdown",
      "metadata": {
        "id": "5qe5bQcRDHEv"
      },
      "source": [
        "### Arithmetic continued"
      ]
    },
    {
      "cell_type": "code",
      "metadata": {
        "id": "itZYsryDDHEw"
      },
      "source": [
        "# Powers\n",
        "2**3"
      ],
      "execution_count": null,
      "outputs": []
    },
    {
      "cell_type": "code",
      "metadata": {
        "id": "IUzHSfprDHE4"
      },
      "source": [
        "# Can also do roots this way\n",
        "4**0.5"
      ],
      "execution_count": null,
      "outputs": []
    },
    {
      "cell_type": "code",
      "metadata": {
        "id": "iP5znNSuDHFN"
      },
      "source": [
        "# Order of Operations followed in Python\n",
        "2 + 10 * 10 + 3"
      ],
      "execution_count": null,
      "outputs": []
    },
    {
      "cell_type": "code",
      "metadata": {
        "id": "l9SLKlWMDHFW"
      },
      "source": [
        "# Can use parentheses to specify orders\n",
        "(2+10) * (10+3)"
      ],
      "execution_count": null,
      "outputs": []
    },
    {
      "cell_type": "markdown",
      "metadata": {
        "id": "-ZcfjsmUDHFf"
      },
      "source": [
        "## Variable Assignments\n",
        "\n",
        "Now that we've seen how to use numbers in Python as a calculator let's see how we can assign names and create variables.\n",
        "\n",
        "We use a single equals sign to assign labels to variables. Let's see a few examples of how we can do this."
      ]
    },
    {
      "cell_type": "code",
      "metadata": {
        "id": "ppSNySYnDHFg"
      },
      "source": [
        "# Let's create an object called \"a\" and assign it the number 5\n",
        "a = 5\n",
        "a"
      ],
      "execution_count": null,
      "outputs": []
    },
    {
      "cell_type": "markdown",
      "metadata": {
        "id": "ym5Vr6nBDHFu"
      },
      "source": [
        "Now if I call *a* in my Python script, Python will treat it as the number 5."
      ]
    },
    {
      "cell_type": "code",
      "metadata": {
        "id": "nD-s6IhVDHFx"
      },
      "source": [
        "# Adding the objects\n",
        "a+a\n"
      ],
      "execution_count": null,
      "outputs": []
    },
    {
      "cell_type": "markdown",
      "metadata": {
        "id": "UjCuttLiDHF-"
      },
      "source": [
        "What happens on reassignment? Will Python let us write it over?"
      ]
    },
    {
      "cell_type": "code",
      "metadata": {
        "id": "scnJggW3DHGA"
      },
      "source": [
        "# Reassignment\n",
        "a = 20"
      ],
      "execution_count": 30,
      "outputs": []
    },
    {
      "cell_type": "code",
      "metadata": {
        "id": "58gZjcm5DHGJ"
      },
      "source": [
        "# Check\n",
        "a"
      ],
      "execution_count": null,
      "outputs": []
    },
    {
      "cell_type": "markdown",
      "metadata": {
        "id": "92PaBgDvDHGY"
      },
      "source": [
        "Yes! Python allows you to write over assigned variable names. We can also use the variables themselves when doing the reassignment. Here is an example of what I mean:"
      ]
    },
    {
      "cell_type": "code",
      "metadata": {
        "id": "KMmoSbomDHGa"
      },
      "source": [
        "# Check\n",
        "a"
      ],
      "execution_count": null,
      "outputs": []
    },
    {
      "cell_type": "code",
      "metadata": {
        "id": "Jq5XRxfxDHGq"
      },
      "source": [
        "# Use A to redefine A\n",
        "a = a + a"
      ],
      "execution_count": 32,
      "outputs": []
    },
    {
      "cell_type": "code",
      "metadata": {
        "id": "PPhA64dLDHG2"
      },
      "source": [
        "# Check \n",
        "a"
      ],
      "execution_count": null,
      "outputs": []
    },
    {
      "cell_type": "markdown",
      "metadata": {
        "id": "NvKO0ajdDHHA"
      },
      "source": [
        "The names you use when creating these labels need to follow a few rules:\n",
        "\n",
        "    1. Names can not start with a number.\n",
        "    2. There can be no spaces in the name, use _ instead.\n",
        "    3. Can't use any of these symbols :'\",<>/?|\\()!@#$%^&*~-+\n",
        "    4. It's considered best practice (PEP8) that names are lowercase.\n",
        "    5. Avoid using the characters 'l' (lowercase letter el), 'O' (uppercase letter oh), \n",
        "       or 'I' (uppercase letter eye) as single character variable names.\n",
        "    6. Avoid using words that have special meaning in Python like \"list\" and \"str\"\n",
        "\n",
        "\n",
        "Using variable names can be a very useful way to keep track of different variables in Python. For example:"
      ]
    },
    {
      "cell_type": "code",
      "metadata": {
        "id": "rYnbM83UDHHC"
      },
      "source": [
        "# Use object names to keep better track of what's going on in your code!\n",
        "my_income = 100\n",
        "\n",
        "tax_rate = 0.1\n",
        "\n",
        "my_taxes = my_income*tax_rate"
      ],
      "execution_count": null,
      "outputs": []
    },
    {
      "cell_type": "code",
      "metadata": {
        "id": "AxeBe0_4DHHH"
      },
      "source": [
        "# Show my taxes!\n",
        "my_taxes"
      ],
      "execution_count": null,
      "outputs": []
    },
    {
      "cell_type": "markdown",
      "metadata": {
        "id": "0fSziny6DHHT"
      },
      "source": [
        "So what have we learned? We learned some of the basics of numbers in Python. We also learned how to do arithmetic and use Python as a basic calculator. We then wrapped it up with learning about Variable Assignment in Python.\n",
        "\n",
        "Up next we'll learn about Strings!"
      ]
    },
    {
      "cell_type": "markdown",
      "metadata": {
        "id": "QYUDMMAGD9cF"
      },
      "source": [
        "# Variable Assignment\n",
        "\n",
        "## Rules for variable names\n",
        "* names can not start with a number\n",
        "* names can not contain spaces, use _ intead\n",
        "* names can not contain any of these symbols:\n",
        "\n",
        "      :'\",<>/?|\\!@#%^&*~-+\n",
        "       \n",
        "* it's considered best practice ([PEP8](https://www.python.org/dev/peps/pep-0008/#function-and-variable-names)) that names are lowercase with underscores\n",
        "* avoid using Python built-in keywords like `list` and `str`\n",
        "* avoid using the single characters `l` (lowercase letter L), `O` (uppercase letter oh) and `I` (uppercase letter eye) as they can be confused with `1` and `0`"
      ]
    },
    {
      "cell_type": "markdown",
      "metadata": {
        "id": "I4DzZvUFD9cI"
      },
      "source": [
        "## Dynamic Typing\n",
        "\n",
        "Python uses *dynamic typing*, meaning you can reassign variables to different data types. This makes Python very flexible in assigning data types; it differs from other languages that are *statically typed*."
      ]
    },
    {
      "cell_type": "code",
      "metadata": {
        "id": "ppf0SHOJD9cL"
      },
      "source": [
        "my_dogs = 2\n",
        "my_dogs"
      ],
      "execution_count": null,
      "outputs": []
    },
    {
      "cell_type": "code",
      "metadata": {
        "id": "j0TQUk3LD9cg"
      },
      "source": [
        "my_dogs = ['Sammy', 'Frankie']\n",
        "my_dogs"
      ],
      "execution_count": null,
      "outputs": []
    },
    {
      "cell_type": "markdown",
      "metadata": {
        "id": "BWq9M7kuD9c4"
      },
      "source": [
        "### Pros and Cons of Dynamic Typing\n",
        "#### Pros of Dynamic Typing\n",
        "* very easy to work with\n",
        "* faster development time\n",
        "\n",
        "#### Cons of Dynamic Typing\n",
        "* may result in unexpected bugs!\n",
        "* you need to be aware of `type()`"
      ]
    },
    {
      "cell_type": "markdown",
      "metadata": {
        "id": "z0OSwEF8D9c7"
      },
      "source": [
        "## Assigning Variables\n",
        "Variable assignment follows `name = object`, where a single equals sign `=` is an *assignment operator*"
      ]
    },
    {
      "cell_type": "code",
      "metadata": {
        "id": "ZcIf9oNmD9c8"
      },
      "source": [
        "a = 5\n",
        "a"
      ],
      "execution_count": null,
      "outputs": []
    },
    {
      "cell_type": "markdown",
      "metadata": {
        "id": "GjISOCGMD9dK"
      },
      "source": [
        "Here we assigned the integer object `5` to the variable name `a`.<br>Let's assign `a` to something else:"
      ]
    },
    {
      "cell_type": "code",
      "metadata": {
        "id": "aWWx0zIYD9dM"
      },
      "source": [
        "a = 10\n",
        "a"
      ],
      "execution_count": null,
      "outputs": []
    },
    {
      "cell_type": "markdown",
      "metadata": {
        "id": "AnyDOuIjD9dZ"
      },
      "source": [
        "You can now use `a` in place of the number `10`:"
      ]
    },
    {
      "cell_type": "code",
      "metadata": {
        "id": "q4njga0iD9da"
      },
      "source": [
        "a + a\n",
        "a"
      ],
      "execution_count": null,
      "outputs": []
    },
    {
      "cell_type": "markdown",
      "metadata": {
        "id": "-VEbPIqBD9dj"
      },
      "source": [
        "## Reassigning Variables\n",
        "Python lets you reassign variables with a reference to the same object."
      ]
    },
    {
      "cell_type": "code",
      "metadata": {
        "id": "2BQOaEjrD9dk"
      },
      "source": [
        "a = a + 10\n",
        "a"
      ],
      "execution_count": null,
      "outputs": []
    },
    {
      "cell_type": "markdown",
      "metadata": {
        "id": "fDGlezZ-D9dx"
      },
      "source": [
        "There's actually a shortcut for this. Python lets you add, subtract, multiply and divide numbers with reassignment using `+=`, `-=`, `*=`, and `/=`."
      ]
    },
    {
      "cell_type": "code",
      "metadata": {
        "id": "N4-gIQkfD9d0"
      },
      "source": [
        "a += 10\n",
        "a"
      ],
      "execution_count": null,
      "outputs": []
    },
    {
      "cell_type": "code",
      "metadata": {
        "id": "ZZuDltaSD9eL"
      },
      "source": [
        "a *= 2\n",
        "a"
      ],
      "execution_count": null,
      "outputs": []
    },
    {
      "cell_type": "markdown",
      "metadata": {
        "id": "_vs590iAD9eo"
      },
      "source": [
        "## Determining variable type with `type()`\n",
        "You can check what type of object is assigned to a variable using Python's built-in `type()` function. Common data types include:\n",
        "* **int** (for integer)\n",
        "* **float**\n",
        "* **str** (for string)\n",
        "* **list**\n",
        "* **tuple**\n",
        "* **dict** (for dictionary)\n",
        "* **set**\n",
        "* **bool** (for Boolean True/False)"
      ]
    },
    {
      "cell_type": "code",
      "metadata": {
        "id": "IPdaTQwsD9eq"
      },
      "source": [
        "type(a)"
      ],
      "execution_count": null,
      "outputs": []
    },
    {
      "cell_type": "code",
      "metadata": {
        "id": "A100QUIeD9ex"
      },
      "source": [
        "a = (1,2)\n",
        "type(a)"
      ],
      "execution_count": null,
      "outputs": []
    },
    {
      "cell_type": "markdown",
      "metadata": {
        "id": "8ezhfWAKD9fA"
      },
      "source": [
        "## Simple Exercise\n",
        "This shows how variables make calculations more readable and easier to follow."
      ]
    },
    {
      "cell_type": "code",
      "metadata": {
        "id": "XCTpNmTTD9fD"
      },
      "source": [
        "my_income = 100\n",
        "tax_rate = 0.1\n",
        "my_taxes = my_income * tax_rate\n",
        "my_taxes"
      ],
      "execution_count": null,
      "outputs": []
    },
    {
      "cell_type": "markdown",
      "metadata": {
        "id": "vOph3n8ZD9fO"
      },
      "source": [
        "Great! You should now understand the basics of variable assignment and reassignment in Python."
      ]
    },
    {
      "cell_type": "markdown",
      "metadata": {
        "id": "UPFdQGvVWBeE"
      },
      "source": [
        "# Strings"
      ]
    },
    {
      "cell_type": "markdown",
      "metadata": {
        "id": "xDKNpVuEWBeH"
      },
      "source": [
        "Strings are used in Python to record text information, such as names. Strings in Python are actually a *sequence*, which basically means Python keeps track of every element in the string as a sequence. For example, Python understands the string \"hello\"' to be a sequence of letters in a specific order. This means we will be able to use indexing to grab particular letters (like the first letter, or the last letter).\n",
        "\n",
        "This idea of a sequence is an important one in Python and we will touch upon it later on in the future.\n",
        "\n",
        "Here, we'll look at the following:\n",
        "\n",
        "    1.) Creating Strings\n",
        "    2.) Printing Strings\n",
        "    3.) String Indexing and Slicing\n",
        "    4.) String Properties\n",
        "    5.) String Methods\n",
        "    6.) Print Formatting"
      ]
    },
    {
      "cell_type": "markdown",
      "metadata": {
        "id": "yOxBpmZ7WBeI"
      },
      "source": [
        "## Creating a String\n",
        "To create a string in Python you need to use either single quotes or double quotes. For example:"
      ]
    },
    {
      "cell_type": "code",
      "metadata": {
        "id": "bJHuvF44WBeK"
      },
      "source": [
        "# Single word\n",
        "'hello'"
      ],
      "execution_count": null,
      "outputs": []
    },
    {
      "cell_type": "code",
      "metadata": {
        "id": "1JFv7U-05Z-D"
      },
      "source": [
        "# Entire phrase \n",
        "'This is also a string'"
      ],
      "execution_count": null,
      "outputs": []
    },
    {
      "cell_type": "code",
      "metadata": {
        "id": "2uiK1gSu5Z-W"
      },
      "source": [
        "# We can also use double quote\n",
        "\"String built with double quotes\""
      ],
      "execution_count": null,
      "outputs": []
    },
    {
      "cell_type": "code",
      "metadata": {
        "id": "ug8TJa5C5Z-q"
      },
      "source": [
        "# Be careful with quotes!\n",
        "' I'm using single quotes, but this will create an error'"
      ],
      "execution_count": null,
      "outputs": []
    },
    {
      "cell_type": "markdown",
      "metadata": {
        "id": "h63r0XY-5Z_I"
      },
      "source": [
        "The reason for the error above is because the single quote in <code>I'm</code> stopped the string. You can use combinations of double and single quotes to get the complete statement."
      ]
    },
    {
      "cell_type": "code",
      "metadata": {
        "id": "Pka4tOp75Z_N"
      },
      "source": [
        "\"Now I'm ready to use the single quotes inside a string!\""
      ],
      "execution_count": null,
      "outputs": []
    },
    {
      "cell_type": "markdown",
      "metadata": {
        "id": "N4cz6rSEWBeu"
      },
      "source": [
        "Now let's learn about printing strings!"
      ]
    },
    {
      "cell_type": "markdown",
      "metadata": {
        "id": "1Axo_XKvWBev"
      },
      "source": [
        "## Printing a String\n",
        "\n",
        "Using Jupyter notebook with just a string in a cell will automatically output strings, but the correct way to display strings in your output is by using a print function."
      ]
    },
    {
      "cell_type": "code",
      "metadata": {
        "id": "SDMK_DiGWBex"
      },
      "source": [
        "# We can simply declare a string\n",
        "'Hello World'"
      ],
      "execution_count": null,
      "outputs": []
    },
    {
      "cell_type": "code",
      "metadata": {
        "id": "7eE8sRziWBfB"
      },
      "source": [
        "# Note that we can't output multiple strings this way\n",
        "'Hello World 1'\n",
        "'Hello World 2'"
      ],
      "execution_count": null,
      "outputs": []
    },
    {
      "cell_type": "markdown",
      "metadata": {
        "id": "RRC5LYwKWBfH"
      },
      "source": [
        "We can use a print statement to print a string."
      ]
    },
    {
      "cell_type": "code",
      "metadata": {
        "id": "wrU3ITUEWBfI"
      },
      "source": [
        "print('Hello World 1')\n",
        "print('Hello World 2')\n",
        "print('\\n')  # Use \\n to print a new line\n",
        "print('See what I mean?')"
      ],
      "execution_count": null,
      "outputs": []
    },
    {
      "cell_type": "markdown",
      "metadata": {
        "id": "YHkJK0laWBfO"
      },
      "source": [
        "## String Basics"
      ]
    },
    {
      "cell_type": "markdown",
      "metadata": {
        "id": "ojIiHaNVWBfP"
      },
      "source": [
        "We can also use a function called len() to check the length of a string!"
      ]
    },
    {
      "cell_type": "code",
      "metadata": {
        "id": "dslXBUdNWBfP"
      },
      "source": [
        "len('Hello World')"
      ],
      "execution_count": null,
      "outputs": []
    },
    {
      "cell_type": "markdown",
      "metadata": {
        "id": "pOTz34HZWBfU"
      },
      "source": [
        "Python's built-in len() function counts all of the characters in the string, including spaces and punctuation."
      ]
    },
    {
      "cell_type": "markdown",
      "metadata": {
        "id": "Oa5ILfGbWBfX"
      },
      "source": [
        "## String Indexing\n",
        "We know strings are a sequence, which means Python can use indexes to call parts of the sequence. Let's learn how this works.\n",
        "\n",
        "In Python, we use brackets <code>[]</code> after an object to call its index. We should also note that indexing starts at 0 for Python. Let's create a new object called <code>s</code> and then walk through a few examples of indexing."
      ]
    },
    {
      "cell_type": "code",
      "metadata": {
        "id": "Ikn_3tSwWBfZ"
      },
      "source": [
        "# Assign s as a string\n",
        "s = 'Hello World'"
      ],
      "execution_count": 44,
      "outputs": []
    },
    {
      "cell_type": "code",
      "metadata": {
        "id": "u9H74OE2WBfe"
      },
      "source": [
        "#Check\n",
        "s"
      ],
      "execution_count": null,
      "outputs": []
    },
    {
      "cell_type": "code",
      "metadata": {
        "id": "uuRD0PCrWBfp"
      },
      "source": [
        "# Print the object\n",
        "print(s) "
      ],
      "execution_count": null,
      "outputs": []
    },
    {
      "cell_type": "markdown",
      "metadata": {
        "id": "JFH6--VcWBfz"
      },
      "source": [
        "Let's start indexing!"
      ]
    },
    {
      "cell_type": "code",
      "metadata": {
        "id": "BRXudZJ7WBf1"
      },
      "source": [
        "# Show first element (in this case a letter)\n",
        "s[0]"
      ],
      "execution_count": null,
      "outputs": []
    },
    {
      "cell_type": "code",
      "metadata": {
        "id": "fX5lLPzcWBf9"
      },
      "source": [
        "s[1]"
      ],
      "execution_count": null,
      "outputs": []
    },
    {
      "cell_type": "code",
      "metadata": {
        "id": "d82LBSK1WBgD"
      },
      "source": [
        "s[2]"
      ],
      "execution_count": null,
      "outputs": []
    },
    {
      "cell_type": "markdown",
      "metadata": {
        "id": "FkKByu_MWBgJ"
      },
      "source": [
        "We can use a <code>:</code> to perform *slicing* which grabs everything up to a designated point. For example:"
      ]
    },
    {
      "cell_type": "code",
      "metadata": {
        "id": "UxSCWxqkWBgL"
      },
      "source": [
        "# Grab everything from the first term all the way to the length of s which is len(s)\n",
        "s[1:]"
      ],
      "execution_count": null,
      "outputs": []
    },
    {
      "cell_type": "code",
      "metadata": {
        "id": "eZ9os7vmWBgT"
      },
      "source": [
        "# Note that there is no change to the original s\n",
        "s"
      ],
      "execution_count": null,
      "outputs": []
    },
    {
      "cell_type": "code",
      "metadata": {
        "id": "0NScigT7WBgd"
      },
      "source": [
        "# Grab everything UP TO the 3rd index\n",
        "s[:3]"
      ],
      "execution_count": null,
      "outputs": []
    },
    {
      "cell_type": "markdown",
      "metadata": {
        "id": "1nnem8RkWBgi"
      },
      "source": [
        "Note the above slicing. Here we're telling Python to grab everything from 0 up to 3. It doesn't include the 3rd index. You'll notice this a lot in Python, where statements and are usually in the context of \"up to, but not including\"."
      ]
    },
    {
      "cell_type": "code",
      "metadata": {
        "id": "8Pr2V6pSWBgk"
      },
      "source": [
        "#Everything\n",
        "s[1:4]"
      ],
      "execution_count": null,
      "outputs": []
    },
    {
      "cell_type": "markdown",
      "metadata": {
        "id": "0oRJ-rkGWBgq"
      },
      "source": [
        "We can also use negative indexing to go backwards."
      ]
    },
    {
      "cell_type": "code",
      "metadata": {
        "id": "keiwdrgcWBgq"
      },
      "source": [
        "# Last letter (one index behind 0 so it loops back around)\n",
        "s[-2]"
      ],
      "execution_count": null,
      "outputs": []
    },
    {
      "cell_type": "code",
      "metadata": {
        "id": "6yRdSvWBWBgx"
      },
      "source": [
        "# Grab everything but the last letter\n",
        "s[:-1]"
      ],
      "execution_count": null,
      "outputs": []
    },
    {
      "cell_type": "markdown",
      "metadata": {
        "id": "1Z0iFrbCWBg3"
      },
      "source": [
        "We can also use index and slice notation to grab elements of a sequence by a specified step size (the default is 1). For instance we can use two colons in a row and then a number specifying the frequency to grab elements. For example:"
      ]
    },
    {
      "cell_type": "code",
      "metadata": {
        "id": "K5LqvNDtWBg4"
      },
      "source": [
        "# Grab everything, but go in steps size of 1\n",
        "s[::1]"
      ],
      "execution_count": null,
      "outputs": []
    },
    {
      "cell_type": "code",
      "metadata": {
        "id": "gksmrSEWWBg9"
      },
      "source": [
        "# Grab everything, but go in step sizes of 2\n",
        "s[1::2]"
      ],
      "execution_count": null,
      "outputs": []
    },
    {
      "cell_type": "code",
      "metadata": {
        "id": "1wnMpcZUWBhC"
      },
      "source": [
        "# We can use this to print a string backwards\n",
        "s[::-1]"
      ],
      "execution_count": null,
      "outputs": []
    },
    {
      "cell_type": "markdown",
      "metadata": {
        "collapsed": true,
        "id": "Lp9s45QAWBhJ"
      },
      "source": [
        "## String Properties\n",
        "It's important to note that strings have an important property known as *immutability*. This means that once a string is created, the elements within it can not be changed or replaced. For example:"
      ]
    },
    {
      "cell_type": "code",
      "metadata": {
        "id": "_jf43al5WBhK"
      },
      "source": [
        "s"
      ],
      "execution_count": null,
      "outputs": []
    },
    {
      "cell_type": "code",
      "metadata": {
        "id": "uyvtajAgWBhP"
      },
      "source": [
        "# Let's try to change the first letter to 'x'\n",
        "s[0] = 'x'"
      ],
      "execution_count": null,
      "outputs": []
    },
    {
      "cell_type": "markdown",
      "metadata": {
        "id": "l4QT3X0zWBhS"
      },
      "source": [
        "Notice how the error tells us directly what we can't do, change the item assignment!\n",
        "\n",
        "Something we *can* do is concatenate strings!"
      ]
    },
    {
      "cell_type": "code",
      "metadata": {
        "id": "vYXeNMblWBhU"
      },
      "source": [
        "s"
      ],
      "execution_count": null,
      "outputs": []
    },
    {
      "cell_type": "code",
      "metadata": {
        "id": "XR0S1jKxWBhY"
      },
      "source": [
        "# Concatenate strings!\n",
        "s + ' concatenate me!'"
      ],
      "execution_count": null,
      "outputs": []
    },
    {
      "cell_type": "code",
      "metadata": {
        "id": "m6SB7GL5WBhj"
      },
      "source": [
        "# We can reassign s completely though!\n",
        "s = s + ' concatenate me!'"
      ],
      "execution_count": null,
      "outputs": []
    },
    {
      "cell_type": "code",
      "metadata": {
        "id": "gHalRyTRWBhn"
      },
      "source": [
        "print(s)"
      ],
      "execution_count": null,
      "outputs": []
    },
    {
      "cell_type": "code",
      "metadata": {
        "id": "QKg9kVSAWBhr"
      },
      "source": [
        "s"
      ],
      "execution_count": null,
      "outputs": []
    },
    {
      "cell_type": "markdown",
      "metadata": {
        "id": "e8-jq_1QWBhz"
      },
      "source": [
        "We can use the multiplication symbol to create repetition!"
      ]
    },
    {
      "cell_type": "code",
      "metadata": {
        "id": "TOU8obx8WBh1"
      },
      "source": [
        "letter = 'ztt '\n",
        "10*letter"
      ],
      "execution_count": null,
      "outputs": []
    },
    {
      "cell_type": "markdown",
      "metadata": {
        "id": "zeomX4Z-WBiB"
      },
      "source": [
        "## Basic Built-in String methods\n",
        "\n",
        "Objects in Python usually have built-in methods. These methods are functions inside the object (we will learn about these in much more depth later) that can perform actions or commands on the object itself.\n",
        "\n",
        "We call methods with a period and then the method name. Methods are in the form:\n",
        "\n",
        "object.method(parameters)\n",
        "\n",
        "Where parameters are extra arguments we can pass into the method. Don't worry if the details don't make 100% sense right now. Later on we will be creating our own objects and functions!\n",
        "\n",
        "Here are some examples of built-in methods in strings:"
      ]
    },
    {
      "cell_type": "code",
      "metadata": {
        "id": "cazJg7rBWBiD"
      },
      "source": [
        "s"
      ],
      "execution_count": null,
      "outputs": []
    },
    {
      "cell_type": "code",
      "metadata": {
        "id": "1yAjve4tWBiI"
      },
      "source": [
        "# Upper Case a string\n",
        "s.upper()"
      ],
      "execution_count": null,
      "outputs": []
    },
    {
      "cell_type": "code",
      "metadata": {
        "id": "JB3GtZZoWBiQ"
      },
      "source": [
        "# Lower case\n",
        "s.lower()"
      ],
      "execution_count": null,
      "outputs": []
    },
    {
      "cell_type": "code",
      "metadata": {
        "id": "gSy9pSWnWBii"
      },
      "source": [
        "# Split a string by blank space (this is the default)\n",
        "s.split()"
      ],
      "execution_count": null,
      "outputs": []
    },
    {
      "cell_type": "code",
      "metadata": {
        "id": "SXu1ut68WBio"
      },
      "source": [
        "# Split by a specific element (doesn't include the element that was split on)\n",
        "s.split('W')"
      ],
      "execution_count": null,
      "outputs": []
    },
    {
      "cell_type": "markdown",
      "metadata": {
        "id": "4n6TawYrWBix"
      },
      "source": [
        "There are many more methods than the ones covered here. Visit the Advanced String section to find out more!"
      ]
    },
    {
      "cell_type": "markdown",
      "metadata": {
        "id": "PZcBcd_bWBiz"
      },
      "source": [
        "## Print Formatting\n",
        "\n",
        "We can use the .format() method to add formatted objects to printed string statements. \n",
        "\n",
        "The easiest way to show this is through an example:"
      ]
    },
    {
      "cell_type": "code",
      "metadata": {
        "id": "2fEu7J5OWBi4"
      },
      "source": [
        "'Insert another {} string with curly brackets: {}'.format('The inserted string',\"the 2nd str\")"
      ],
      "execution_count": null,
      "outputs": []
    },
    {
      "cell_type": "markdown",
      "metadata": {
        "id": "erMJl629WBi7"
      },
      "source": [
        "We will revisit this string formatting topic in later sections when we are building our projects!"
      ]
    },
    {
      "cell_type": "markdown",
      "metadata": {
        "deletable": true,
        "editable": true,
        "id": "bxn0pLyqZMEX"
      },
      "source": [
        "# Lists"
      ]
    },
    {
      "cell_type": "code",
      "metadata": {
        "deletable": true,
        "editable": true,
        "id": "FMLrDpkiZMEZ"
      },
      "source": [
        "x = [1, 2, 3, 4, 5, 6, 7, 8]\n",
        "print(len(x))"
      ],
      "execution_count": null,
      "outputs": []
    },
    {
      "cell_type": "code",
      "metadata": {
        "deletable": true,
        "editable": true,
        "id": "bmCKv4WZZMEe"
      },
      "source": [
        "x[:3]"
      ],
      "execution_count": null,
      "outputs": []
    },
    {
      "cell_type": "code",
      "metadata": {
        "deletable": true,
        "editable": true,
        "id": "QEmjxyB9ZMEl"
      },
      "source": [
        "x[3:]"
      ],
      "execution_count": null,
      "outputs": []
    },
    {
      "cell_type": "code",
      "metadata": {
        "deletable": true,
        "editable": true,
        "id": "wYDmyssfZMEr"
      },
      "source": [
        "x[-2:]"
      ],
      "execution_count": null,
      "outputs": []
    },
    {
      "cell_type": "code",
      "metadata": {
        "deletable": true,
        "editable": true,
        "id": "KmaMpqPQZME1"
      },
      "source": [
        "x.extend([7,8])\n",
        "x"
      ],
      "execution_count": null,
      "outputs": []
    },
    {
      "cell_type": "code",
      "metadata": {
        "deletable": true,
        "editable": true,
        "id": "DI2Mr7tZZME6"
      },
      "source": [
        "x.append(9)\n",
        "x"
      ],
      "execution_count": null,
      "outputs": []
    },
    {
      "cell_type": "code",
      "metadata": {
        "deletable": true,
        "editable": true,
        "id": "09FuUVMnZMFD"
      },
      "source": [
        "y = [10, 11, 12]\n",
        "listOfLists = [x, y]\n",
        "listOfLists"
      ],
      "execution_count": null,
      "outputs": []
    },
    {
      "cell_type": "code",
      "metadata": {
        "deletable": true,
        "editable": true,
        "id": "uZFbrZZJZMFJ"
      },
      "source": [
        "listOfLists[1][0]"
      ],
      "execution_count": null,
      "outputs": []
    },
    {
      "cell_type": "code",
      "metadata": {
        "deletable": true,
        "editable": true,
        "id": "0VdLR96bZMFT"
      },
      "source": [
        "z = [3, 2, 1]\n",
        "z.sort()\n",
        "z"
      ],
      "execution_count": null,
      "outputs": []
    },
    {
      "cell_type": "code",
      "metadata": {
        "deletable": true,
        "editable": true,
        "id": "K-31Q4gIZMFb"
      },
      "source": [
        "z.sort(reverse=True)\n",
        "z"
      ],
      "execution_count": null,
      "outputs": []
    },
    {
      "cell_type": "markdown",
      "metadata": {
        "deletable": true,
        "editable": true,
        "id": "F0gf0RQKZMFk"
      },
      "source": [
        "# Tuples"
      ]
    },
    {
      "cell_type": "code",
      "metadata": {
        "deletable": true,
        "editable": true,
        "id": "HBUm-m8oZMFm"
      },
      "source": [
        "#Tuples are just immutable lists. Use () instead of []\n",
        "x = (1, 2, 3)\n",
        "len(x)"
      ],
      "execution_count": null,
      "outputs": []
    },
    {
      "cell_type": "code",
      "metadata": {
        "deletable": true,
        "editable": true,
        "id": "jtspguNzZMFq"
      },
      "source": [
        "y = (4, 5, 6)\n",
        "y[2]"
      ],
      "execution_count": null,
      "outputs": []
    },
    {
      "cell_type": "code",
      "metadata": {
        "deletable": true,
        "editable": true,
        "id": "n_3KDQ5hZMF4"
      },
      "source": [
        "listOfTuples = [x, y]\n",
        "listOfTuples"
      ],
      "execution_count": null,
      "outputs": []
    },
    {
      "cell_type": "code",
      "metadata": {
        "deletable": true,
        "editable": true,
        "id": "tucR0t3XZMGB"
      },
      "source": [
        "(age, income) = \"32,120000\".split(',')\n",
        "print(age)\n",
        "print(income)"
      ],
      "execution_count": null,
      "outputs": []
    },
    {
      "cell_type": "markdown",
      "metadata": {
        "id": "EUhH-ELj_Fiu"
      },
      "source": [
        "# Dictionaries\n",
        "\n",
        "We've looked at *sequences* in Python but now we're going to switch gears and learn about *mappings* in Python. It is basically similar to hash tables or maps in other languages.\n",
        "\n",
        "This section will serve as a brief introduction to dictionaries and consist of:\n",
        "\n",
        "    1.) Constructing a Dictionary\n",
        "    2.) Accessing objects from a dictionary\n",
        "    3.) Nesting Dictionaries\n",
        "    4.) Basic Dictionary Methods\n",
        "\n",
        "So what are mappings? Mappings are a collection of objects that are stored by a *key*, unlike a sequence that stored objects by their relative position. This is an important distinction, since mappings won't retain order since they have objects defined by a key.\n",
        "\n",
        "A Python dictionary consists of a key and an associated value. That value can be almost any Python object."
      ]
    },
    {
      "cell_type": "markdown",
      "metadata": {
        "id": "P2TgovvQBYhP"
      },
      "source": [
        "## Constructing a Dictionary\n",
        "Let's see how we can construct dictionaries to get a better understanding of how they work!"
      ]
    },
    {
      "cell_type": "code",
      "metadata": {
        "id": "vtBMWJhZ_Fi1"
      },
      "source": [
        "# Make a dictionary with {} and : to signify a key and a value\n",
        "my_dict = {'key1':'value1','key2':'value2'}\n",
        "\n",
        "# Call values by their key\n",
        "my_dict['key1']"
      ],
      "execution_count": null,
      "outputs": []
    },
    {
      "cell_type": "markdown",
      "metadata": {
        "id": "IMp9L0OK_FjZ"
      },
      "source": [
        "Its important to note that dictionaries are very flexible in the data types they can hold. For example:"
      ]
    },
    {
      "cell_type": "code",
      "metadata": {
        "id": "QMCJSamy_Fjc"
      },
      "source": [
        "my_dict = {'key1':123,'key2':[12,23,33],'key3':['item0','item1','item2']}"
      ],
      "execution_count": null,
      "outputs": []
    },
    {
      "cell_type": "code",
      "metadata": {
        "id": "BFyfjtFR_Fjn"
      },
      "source": [
        "# Let's call items from the dictionary\n",
        "my_dict['key3']"
      ],
      "execution_count": null,
      "outputs": []
    },
    {
      "cell_type": "code",
      "metadata": {
        "id": "TrHocA9T_Fj0"
      },
      "source": [
        "# Can call an index on that value\n",
        "my_dict['key2']"
      ],
      "execution_count": null,
      "outputs": []
    },
    {
      "cell_type": "code",
      "metadata": {
        "id": "00o19FgW_FkA"
      },
      "source": [
        "# Can then even call methods on that value\n",
        "my_dict['key3'][0].upper()"
      ],
      "execution_count": null,
      "outputs": []
    },
    {
      "cell_type": "markdown",
      "metadata": {
        "id": "P8eHedWC_FkJ"
      },
      "source": [
        "We can affect the values of a key as well. For instance:"
      ]
    },
    {
      "cell_type": "code",
      "metadata": {
        "id": "AHL8iSjI_FkL"
      },
      "source": [
        "my_dict['key1']"
      ],
      "execution_count": null,
      "outputs": []
    },
    {
      "cell_type": "code",
      "metadata": {
        "id": "O7HKmxd3_Fka"
      },
      "source": [
        "# Subtract 123 from the value\n",
        "my_dict['key1'] = my_dict['key1'] + 103"
      ],
      "execution_count": null,
      "outputs": []
    },
    {
      "cell_type": "code",
      "metadata": {
        "id": "m8ybTPJ__Fkn"
      },
      "source": [
        "#Check\n",
        "my_dict['key1']"
      ],
      "execution_count": null,
      "outputs": []
    },
    {
      "cell_type": "markdown",
      "metadata": {
        "id": "35rcavIR_Fk2"
      },
      "source": [
        "A quick note, Python has a built-in method of doing a self subtraction or addition (or multiplication or division). We could have also used += or -= for the above statement. For example:"
      ]
    },
    {
      "cell_type": "code",
      "metadata": {
        "id": "Vv1EKOi-_Fk5"
      },
      "source": [
        "# Set the object equal to itself minus 123 \n",
        "my_dict['key1'] -= 123\n",
        "\n",
        "#check\n",
        "my_dict['key1']"
      ],
      "execution_count": null,
      "outputs": []
    },
    {
      "cell_type": "markdown",
      "metadata": {
        "id": "YFhJpjfR_Fls"
      },
      "source": [
        "## Nesting with Dictionaries\n",
        "\n",
        "Hopefully you're starting to see how powerful Python is with its flexibility of nesting objects and calling methods on them. Let's see a dictionary nested inside a dictionary:"
      ]
    },
    {
      "cell_type": "code",
      "metadata": {
        "id": "Dquz96Tb_Flw"
      },
      "source": [
        "# Dictionary nested inside a dictionary nested inside a dictionary\n",
        "d = {'key1':{'nestkey':{'subnestkey':'value'}}}"
      ],
      "execution_count": null,
      "outputs": []
    },
    {
      "cell_type": "markdown",
      "metadata": {
        "id": "mmblxz0w_Fl2"
      },
      "source": [
        "Wow! That's a quite the inception of dictionaries! Let's see how we can grab that value:"
      ]
    },
    {
      "cell_type": "code",
      "metadata": {
        "id": "mBVr5bbS1--K"
      },
      "source": [
        ""
      ],
      "execution_count": null,
      "outputs": []
    },
    {
      "cell_type": "code",
      "metadata": {
        "id": "zpdZIWsb_Fl7"
      },
      "source": [
        "# Keep calling the keys\n",
        "d['key1']['nestkey']['subnestkey']"
      ],
      "execution_count": null,
      "outputs": []
    },
    {
      "cell_type": "markdown",
      "metadata": {
        "id": "T4wai7BC_FmG"
      },
      "source": [
        "## A few Dictionary Methods\n",
        "\n",
        "There are a few methods we can call on a dictionary. Let's get a quick introduction to a few of them:"
      ]
    },
    {
      "cell_type": "code",
      "metadata": {
        "id": "uTjH1FGs_FmH"
      },
      "source": [
        "# Create a typical dictionary\n",
        "d = {'key1':1,'key2':2,'key3':3}"
      ],
      "execution_count": null,
      "outputs": []
    },
    {
      "cell_type": "code",
      "metadata": {
        "id": "hFT6zzyl_FmO"
      },
      "source": [
        "# Method to return a list of all keys \n",
        "d.keys()"
      ],
      "execution_count": null,
      "outputs": []
    },
    {
      "cell_type": "code",
      "metadata": {
        "id": "FeMS_LRv_Fmk"
      },
      "source": [
        "# Method to grab all values\n",
        "d.values()"
      ],
      "execution_count": null,
      "outputs": []
    },
    {
      "cell_type": "code",
      "metadata": {
        "id": "oWDAkOf__Fmt"
      },
      "source": [
        "# Method to return tuples of all items  (we'll learn about tuples soon)\n",
        "d.items()"
      ],
      "execution_count": null,
      "outputs": []
    },
    {
      "cell_type": "markdown",
      "metadata": {
        "deletable": true,
        "editable": true,
        "id": "N0KHbS6GZMGI"
      },
      "source": [
        "## Another way for creating dictionaries"
      ]
    },
    {
      "cell_type": "markdown",
      "metadata": {
        "id": "EUuTR3qL_FlD"
      },
      "source": [
        "We can also create keys by assignment. For instance if we started off with an empty dictionary, we could continually add to it:"
      ]
    },
    {
      "cell_type": "code",
      "metadata": {
        "deletable": true,
        "editable": true,
        "id": "Rniux0pKZMGK"
      },
      "source": [
        "# Like a map or hash table in other languages\n",
        "captains = {}\n",
        "captains[\"Enterprise\"] = \"Kirk\"\n",
        "captains[\"Enterprise D\"] = \"Picard\"\n",
        "captains[\"Deep Space Nine\"] = \"Sisko\"\n",
        "captains[\"Voyager\"] = \"Janeway\"\n",
        "\n",
        "print(captains[\"Voyager\"])"
      ],
      "execution_count": null,
      "outputs": []
    },
    {
      "cell_type": "code",
      "metadata": {
        "deletable": true,
        "editable": true,
        "id": "MQF27dEHZMGP"
      },
      "source": [
        "print(captains.get(\"Enterprise\"))"
      ],
      "execution_count": null,
      "outputs": []
    },
    {
      "cell_type": "code",
      "metadata": {
        "deletable": true,
        "editable": true,
        "id": "UUfY8QfRZMGY"
      },
      "source": [
        "print(captains.get(\"NX-01\"))"
      ],
      "execution_count": null,
      "outputs": []
    },
    {
      "cell_type": "code",
      "metadata": {
        "deletable": true,
        "editable": true,
        "id": "layPUTNfZMGd"
      },
      "source": [
        "for ship in captains:\n",
        "    print(ship + \": \" + captains[ship])"
      ],
      "execution_count": null,
      "outputs": []
    },
    {
      "cell_type": "markdown",
      "metadata": {
        "deletable": true,
        "editable": true,
        "id": "bZjy2b-UZMGk"
      },
      "source": [
        "# Functions"
      ]
    },
    {
      "cell_type": "code",
      "metadata": {
        "deletable": true,
        "editable": true,
        "id": "LIdut9x8ZMGm"
      },
      "source": [
        "def SquareIt(x):\n",
        "    return x * x\n",
        "\n",
        "print(SquareIt(2))\n"
      ],
      "execution_count": null,
      "outputs": []
    },
    {
      "cell_type": "code",
      "metadata": {
        "deletable": true,
        "editable": true,
        "id": "gSzytzUXZMGp"
      },
      "source": [
        "#You can pass functions around as parameters\n",
        "def DoSomething(f, x):\n",
        "    return f(x)\n",
        "\n",
        "print(DoSomething(SquareIt, 3))"
      ],
      "execution_count": null,
      "outputs": []
    },
    {
      "cell_type": "code",
      "metadata": {
        "deletable": true,
        "editable": true,
        "id": "5StLOqJyZMGx"
      },
      "source": [
        "#Lambda functions let you inline simple functions\n",
        "print(DoSomething(lambda x: SquareIt(x) * x * x, 3))"
      ],
      "execution_count": null,
      "outputs": []
    },
    {
      "cell_type": "markdown",
      "metadata": {
        "id": "7kz0MpVLQ_Mm"
      },
      "source": [
        "#Maps\n",
        "The map() function applies a given function to each item of an iterable (list, tuple etc.) and returns a list of the results. The returned value from map() (map object) then can be passed to functions like list() (to create a list), set() (to create a set) and so on."
      ]
    },
    {
      "cell_type": "code",
      "metadata": {
        "id": "CtIH52NPRO9b"
      },
      "source": [
        "def calculateSquare(n):\n",
        "  return n*n\n",
        "\n",
        "numbers = (1, 2, 3, 4)\n",
        "result = map(calculateSquare, numbers)\n",
        "print(result)\n",
        "\n",
        "# converting map object to a list type\n",
        "numbersSquare = list(result)\n",
        "print(numbersSquare)"
      ],
      "execution_count": null,
      "outputs": []
    },
    {
      "cell_type": "markdown",
      "metadata": {
        "deletable": true,
        "editable": true,
        "id": "fjr-sY8_ZMG5"
      },
      "source": [
        "# Boolean Expressions"
      ]
    },
    {
      "cell_type": "code",
      "metadata": {
        "deletable": true,
        "editable": true,
        "id": "lXmn-F7ZZMG6"
      },
      "source": [
        "print(1 == 3)"
      ],
      "execution_count": null,
      "outputs": []
    },
    {
      "cell_type": "code",
      "metadata": {
        "deletable": true,
        "editable": true,
        "id": "PH5cx4SfZMHD"
      },
      "source": [
        "print(True or False)"
      ],
      "execution_count": null,
      "outputs": []
    },
    {
      "cell_type": "code",
      "metadata": {
        "deletable": true,
        "editable": true,
        "id": "2f0jffhPZMHL"
      },
      "source": [
        "print(1 is 3)"
      ],
      "execution_count": null,
      "outputs": []
    },
    {
      "cell_type": "code",
      "metadata": {
        "deletable": true,
        "editable": true,
        "id": "c8PfS12jZMHT"
      },
      "source": [
        "if 1 is 3:\n",
        "    print(\"How did that happen?\")\n",
        "elif 1 > 3:\n",
        "    print(\"Yikes\")\n",
        "else:\n",
        "    print(\"All is well with the world\")"
      ],
      "execution_count": null,
      "outputs": []
    },
    {
      "cell_type": "markdown",
      "metadata": {
        "deletable": true,
        "editable": true,
        "id": "tVPGvJtXZMHb"
      },
      "source": [
        "# Looping"
      ]
    },
    {
      "cell_type": "code",
      "metadata": {
        "deletable": true,
        "editable": true,
        "id": "jKKl-rRvZMHc"
      },
      "source": [
        "for x in range(10):\n",
        "    print(x, end=\"=\")"
      ],
      "execution_count": null,
      "outputs": []
    },
    {
      "cell_type": "code",
      "metadata": {
        "deletable": true,
        "editable": true,
        "id": "CqtzWL4VZMHg"
      },
      "source": [
        "for x in range(10):\n",
        "    if x is 1:\n",
        "        continue\n",
        "    if (x > 5):\n",
        "        break \n",
        "    print(x , end=\" \")"
      ],
      "execution_count": null,
      "outputs": []
    },
    {
      "cell_type": "code",
      "metadata": {
        "deletable": true,
        "editable": true,
        "id": "GvnjIGvVZMHn"
      },
      "source": [
        "x = 0\n",
        "while (x < 10):\n",
        "  print(x, end=\" \")\n",
        "  x += 1"
      ],
      "execution_count": null,
      "outputs": []
    },
    {
      "cell_type": "markdown",
      "metadata": {
        "deletable": true,
        "editable": true,
        "id": "90kYHBIfZMHu"
      },
      "source": [
        "#Activity"
      ]
    },
    {
      "cell_type": "markdown",
      "metadata": {
        "deletable": true,
        "editable": true,
        "id": "qfAk0-8fZMHw"
      },
      "source": [
        "Write some code that creates a list of integers, loops through each element of the list, and only prints out even numbers!"
      ]
    },
    {
      "cell_type": "code",
      "metadata": {
        "deletable": true,
        "editable": true,
        "id": "xCV-MuVNZMHx"
      },
      "source": [
        "for x in range(10):\n",
        "  if (x%2== 0):\n",
        "    print(x)\n",
        "    \n",
        "  \n"
      ],
      "execution_count": null,
      "outputs": []
    }
  ]
}